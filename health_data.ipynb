{
 "cells": [
  {
   "cell_type": "markdown",
   "id": "4aac240b-00a2-4aa1-b3ef-20885c4848c3",
   "metadata": {},
   "source": [
    "# Primary Health Care Accessibility in Ontario"
   ]
  },
  {
   "cell_type": "code",
   "execution_count": 1,
   "id": "05c7178b",
   "metadata": {},
   "outputs": [],
   "source": [
    "#importing all necessary libraries for data analysis and visualization\n",
    "\n",
    "import pandas as pd \n",
    "import numpy as np \n",
    "import seaborn as sns \n",
    "import matplotlib.pyplot as plt\n",
    "import geopandas"
   ]
  },
  {
   "cell_type": "code",
   "execution_count": null,
   "id": "f3428b27-e6a7-4dbd-8eba-5f92a697bce9",
   "metadata": {},
   "outputs": [],
   "source": []
  },
  {
   "cell_type": "markdown",
   "id": "6bba336d-9dc0-4515-a891-c74e1d11fd42",
   "metadata": {},
   "source": [
    "## 1. Data Inspection and Cleaning "
   ]
  },
  {
   "cell_type": "code",
   "execution_count": 4,
   "id": "d02b548d",
   "metadata": {},
   "outputs": [
    {
     "name": "stdout",
     "output_type": "stream",
     "text": [
      "<class 'pandas.core.frame.DataFrame'>\n",
      "RangeIndex: 11749 entries, 0 to 11748\n",
      "Data columns (total 19 columns):\n",
      " #   Column                      Non-Null Count  Dtype  \n",
      "---  ------                      --------------  -----  \n",
      " 0   ï»¿X                        11749 non-null  float64\n",
      " 1   Y                           11749 non-null  float64\n",
      " 2   OGF_ID                      11749 non-null  int64  \n",
      " 3   MOH_SERVICE_PROVIDER_IDENT  11749 non-null  object \n",
      " 4   SERVICE_TYPE                11749 non-null  object \n",
      " 5   SERVICE_TYPE_DETAIL         9976 non-null   object \n",
      " 6   ENGLISH_NAME                11749 non-null  object \n",
      " 7   FRENCH_NAME                 88 non-null     object \n",
      " 8   ENGLISH_NAME_ALT            916 non-null    object \n",
      " 9   FRENCH_NAME_ALT             4 non-null      object \n",
      " 10  ADDRESS_LINE_1              11749 non-null  object \n",
      " 11  ADDRESS_LINE_2              2813 non-null   object \n",
      " 12  ADDRESS_DESCRIPTOR          2173 non-null   object \n",
      " 13  COMMUNITY                   11749 non-null  object \n",
      " 14  POSTAL_CODE                 11748 non-null  object \n",
      " 15  GEOMETRY_UPDATE_DATETIME    11749 non-null  object \n",
      " 16  EFFECTIVE_DATETIME          11749 non-null  object \n",
      " 17  SYSTEM_DATETIME             11749 non-null  object \n",
      " 18  OBJECTID                    11749 non-null  int64  \n",
      "dtypes: float64(2), int64(2), object(15)\n",
      "memory usage: 1.7+ MB\n"
     ]
    },
    {
     "data": {
      "text/plain": [
       "array(['Licensed Lab and Specimen Collection Centre Locations',\n",
       "       'Licenced Retirement Home', 'Pharmacy', 'Long-Term Care Home',\n",
       "       'Community Support Services', 'Primary Care Provider',\n",
       "       'Mental Health and Addiction Organization',\n",
       "       'HIV/AIDS and Hep C Programs', 'Seniors Active Living Centre',\n",
       "       'Hospital', \"Children's Treatment Centre\", 'Midwifery Clinic',\n",
       "       'Public Health Unit Office Locations', 'Community Health Centre'],\n",
       "      dtype=object)"
      ]
     },
     "execution_count": 4,
     "metadata": {},
     "output_type": "execute_result"
    }
   ],
   "source": [
    "#source data downloaded from:https://data.ontario.ca/dataset/family-health-team-fht-locations\n",
    "\n",
    "# data text file loaded in pandas and inspected to identify significant attribute for our analysis \n",
    "url = 'Ministry_of_Health_Service_Provider_Locations.csv'\n",
    "location_data = pd.read_csv(url, sep = ',',  encoding='latin-1')\n",
    "location_data.info()\n",
    "location_data.drop(['FRENCH_NAME', 'FRENCH_NAME_ALT', 'ENGLISH_NAME_ALT'], axis = 1)\n",
    "location_data['SERVICE_TYPE'].unique()\n",
    "\n",
    "#Service Type re-cateegorized to identify group of Primary Care Provider services:\n",
    "location_data['NEW_SERVICE_TYPE'] = location_data['SERVICE_TYPE']\n",
    "location_data.loc[location_data['SERVICE_TYPE'].str.contains('Family Health Team|Nurse Practitioner-Led Clinic|Indigenous Primary Health Care Organization|Integrated Community Health Services Centre|Nursing Station'), 'NEW_SERVICE_TYPE'] = 'Primary Care Provider'\n",
    "location_data['NEW_SERVICE_TYPE'].unique()\n"
   ]
  },
  {
   "cell_type": "code",
   "execution_count": 7,
   "id": "5d73ca1a-fd3e-4bd8-94c8-d6b261c0a4d3",
   "metadata": {},
   "outputs": [],
   "source": [
    "# Mainly : primary care provider density: count/km2 for regional can be calculated \n",
    "# Q1. Rural areas vs highly populated cities, type of primary care provider services offered \n",
    "# Q2. primary care provider: km2/population identification to understand the accessibility by the population around the clinics\n",
    "# A. Is the primary care provider serving a population size that is an outlier from provincial standards measured by the distance from any other provider \n",
    "# B. Is the primary care provider, nearest provider to a population centre which will be considered inaccessable; i.e. greater 30 min commute time especially for small towns perhaps in northern ontario \n"
   ]
  },
  {
   "cell_type": "code",
   "execution_count": 9,
   "id": "07e0f222-2e86-4e15-b021-522be98a751b",
   "metadata": {},
   "outputs": [
    {
     "name": "stdout",
     "output_type": "stream",
     "text": [
      "<class 'pandas.core.frame.DataFrame'>\n",
      "RangeIndex: 1646 entries, 0 to 1645\n",
      "Data columns (total 4 columns):\n",
      " #   Column                                   Non-Null Count  Dtype \n",
      "---  ------                                   --------------  ----- \n",
      " 0   forward sortation area                   1646 non-null   object\n",
      " 1   population_2021                          1646 non-null   object\n",
      " 2   Total private dwelling_2021              1646 non-null   object\n",
      " 3   private dwelling by usual resident_2021  1646 non-null   object\n",
      "dtypes: object(4)\n",
      "memory usage: 51.6+ KB\n",
      "<class 'pandas.core.frame.DataFrame'>\n",
      "RangeIndex: 11749 entries, 0 to 11748\n",
      "Data columns (total 20 columns):\n",
      " #   Column                      Non-Null Count  Dtype  \n",
      "---  ------                      --------------  -----  \n",
      " 0   ï»¿X                        11749 non-null  float64\n",
      " 1   Y                           11749 non-null  float64\n",
      " 2   OGF_ID                      11749 non-null  int64  \n",
      " 3   MOH_SERVICE_PROVIDER_IDENT  11749 non-null  object \n",
      " 4   SERVICE_TYPE                11749 non-null  object \n",
      " 5   SERVICE_TYPE_DETAIL         9976 non-null   object \n",
      " 6   ENGLISH_NAME                11749 non-null  object \n",
      " 7   FRENCH_NAME                 88 non-null     object \n",
      " 8   ENGLISH_NAME_ALT            916 non-null    object \n",
      " 9   FRENCH_NAME_ALT             4 non-null      object \n",
      " 10  ADDRESS_LINE_1              11749 non-null  object \n",
      " 11  ADDRESS_LINE_2              2813 non-null   object \n",
      " 12  ADDRESS_DESCRIPTOR          2173 non-null   object \n",
      " 13  COMMUNITY                   11749 non-null  object \n",
      " 14  POSTAL_CODE                 11748 non-null  object \n",
      " 15  GEOMETRY_UPDATE_DATETIME    11749 non-null  object \n",
      " 16  EFFECTIVE_DATETIME          11749 non-null  object \n",
      " 17  SYSTEM_DATETIME             11749 non-null  object \n",
      " 18  OBJECTID                    11749 non-null  int64  \n",
      " 19  NEW_SERVICE_TYPE            11749 non-null  object \n",
      "dtypes: float64(2), int64(2), object(16)\n",
      "memory usage: 1.8+ MB\n"
     ]
    }
   ],
   "source": [
    "#source data : https://www150.statcan.gc.ca/t1/tbl1/en/tv.action?pid=9810001901\n",
    "census_data = pd.read_csv('population count per fsc.csv', sep = ',', skiprows = 11, skipfooter = 8, names = ['forward sortation area', 'population_2021', 'Total private dwelling_2021', 'private dwelling by usual resident_2021'], engine =  'python')\n",
    "census_data.info()\n",
    "location_data.info()\n",
    "location_data = location_data.rename(columns = {'ï»¿X' :'X'})\n"
   ]
  },
  {
   "cell_type": "markdown",
   "id": "3a406306-dd68-4395-81df-f0a202c120e1",
   "metadata": {},
   "source": [
    "## 2. Data Preparation"
   ]
  },
  {
   "cell_type": "code",
   "execution_count": 26,
   "id": "b50ef8f2-868c-40c3-83d7-7131ed5ecbab",
   "metadata": {},
   "outputs": [
    {
     "ename": "TypeError",
     "evalue": "int() argument must be a string, a bytes-like object or a real number, not 'NoneType'",
     "output_type": "error",
     "traceback": [
      "\u001b[1;31m---------------------------------------------------------------------------\u001b[0m",
      "\u001b[1;31mTypeError\u001b[0m                                 Traceback (most recent call last)",
      "Cell \u001b[1;32mIn[26], line 9\u001b[0m\n\u001b[0;32m      7\u001b[0m location_data[\u001b[38;5;124m'\u001b[39m\u001b[38;5;124mmatched_FSC\u001b[39m\u001b[38;5;124m'\u001b[39m] \u001b[38;5;241m=\u001b[39m location_data[\u001b[38;5;124m'\u001b[39m\u001b[38;5;124mFSC\u001b[39m\u001b[38;5;124m'\u001b[39m]\u001b[38;5;241m.\u001b[39mapply(\u001b[38;5;28;01mlambda\u001b[39;00m x: population_fsc_dict[\u001b[38;5;124m'\u001b[39m\u001b[38;5;124mpopulation_2021\u001b[39m\u001b[38;5;124m'\u001b[39m]\u001b[38;5;241m.\u001b[39mget(x))\n\u001b[0;32m      8\u001b[0m location_data[\u001b[38;5;124m'\u001b[39m\u001b[38;5;124mpopulation\u001b[39m\u001b[38;5;124m'\u001b[39m] \u001b[38;5;241m=\u001b[39m location_data[\u001b[38;5;124m'\u001b[39m\u001b[38;5;124mmatched_FSC\u001b[39m\u001b[38;5;124m'\u001b[39m]\n\u001b[1;32m----> 9\u001b[0m location_data[\u001b[38;5;124m'\u001b[39m\u001b[38;5;124mpopulation\u001b[39m\u001b[38;5;124m'\u001b[39m] \u001b[38;5;241m=\u001b[39m location_data[\u001b[38;5;124m'\u001b[39m\u001b[38;5;124mpopulation\u001b[39m\u001b[38;5;124m'\u001b[39m]\u001b[38;5;241m.\u001b[39mstr\u001b[38;5;241m.\u001b[39msplit(\u001b[38;5;124m'\u001b[39m\u001b[38;5;124m,\u001b[39m\u001b[38;5;124m'\u001b[39m)\u001b[38;5;241m.\u001b[39mstr\u001b[38;5;241m.\u001b[39mjoin(\u001b[38;5;124m'\u001b[39m\u001b[38;5;124m'\u001b[39m)\u001b[38;5;241m.\u001b[39mapply(\u001b[38;5;28mint\u001b[39m)\n",
      "File \u001b[1;32m~\\AppData\\Local\\anaconda3\\Lib\\site-packages\\pandas\\core\\series.py:4924\u001b[0m, in \u001b[0;36mSeries.apply\u001b[1;34m(self, func, convert_dtype, args, by_row, **kwargs)\u001b[0m\n\u001b[0;32m   4789\u001b[0m \u001b[38;5;28;01mdef\u001b[39;00m \u001b[38;5;21mapply\u001b[39m(\n\u001b[0;32m   4790\u001b[0m     \u001b[38;5;28mself\u001b[39m,\n\u001b[0;32m   4791\u001b[0m     func: AggFuncType,\n\u001b[1;32m   (...)\u001b[0m\n\u001b[0;32m   4796\u001b[0m     \u001b[38;5;241m*\u001b[39m\u001b[38;5;241m*\u001b[39mkwargs,\n\u001b[0;32m   4797\u001b[0m ) \u001b[38;5;241m-\u001b[39m\u001b[38;5;241m>\u001b[39m DataFrame \u001b[38;5;241m|\u001b[39m Series:\n\u001b[0;32m   4798\u001b[0m \u001b[38;5;250m    \u001b[39m\u001b[38;5;124;03m\"\"\"\u001b[39;00m\n\u001b[0;32m   4799\u001b[0m \u001b[38;5;124;03m    Invoke function on values of Series.\u001b[39;00m\n\u001b[0;32m   4800\u001b[0m \n\u001b[1;32m   (...)\u001b[0m\n\u001b[0;32m   4915\u001b[0m \u001b[38;5;124;03m    dtype: float64\u001b[39;00m\n\u001b[0;32m   4916\u001b[0m \u001b[38;5;124;03m    \"\"\"\u001b[39;00m\n\u001b[0;32m   4917\u001b[0m     \u001b[38;5;28;01mreturn\u001b[39;00m SeriesApply(\n\u001b[0;32m   4918\u001b[0m         \u001b[38;5;28mself\u001b[39m,\n\u001b[0;32m   4919\u001b[0m         func,\n\u001b[0;32m   4920\u001b[0m         convert_dtype\u001b[38;5;241m=\u001b[39mconvert_dtype,\n\u001b[0;32m   4921\u001b[0m         by_row\u001b[38;5;241m=\u001b[39mby_row,\n\u001b[0;32m   4922\u001b[0m         args\u001b[38;5;241m=\u001b[39margs,\n\u001b[0;32m   4923\u001b[0m         kwargs\u001b[38;5;241m=\u001b[39mkwargs,\n\u001b[1;32m-> 4924\u001b[0m     )\u001b[38;5;241m.\u001b[39mapply()\n",
      "File \u001b[1;32m~\\AppData\\Local\\anaconda3\\Lib\\site-packages\\pandas\\core\\apply.py:1427\u001b[0m, in \u001b[0;36mSeriesApply.apply\u001b[1;34m(self)\u001b[0m\n\u001b[0;32m   1424\u001b[0m     \u001b[38;5;28;01mreturn\u001b[39;00m \u001b[38;5;28mself\u001b[39m\u001b[38;5;241m.\u001b[39mapply_compat()\n\u001b[0;32m   1426\u001b[0m \u001b[38;5;66;03m# self.func is Callable\u001b[39;00m\n\u001b[1;32m-> 1427\u001b[0m \u001b[38;5;28;01mreturn\u001b[39;00m \u001b[38;5;28mself\u001b[39m\u001b[38;5;241m.\u001b[39mapply_standard()\n",
      "File \u001b[1;32m~\\AppData\\Local\\anaconda3\\Lib\\site-packages\\pandas\\core\\apply.py:1507\u001b[0m, in \u001b[0;36mSeriesApply.apply_standard\u001b[1;34m(self)\u001b[0m\n\u001b[0;32m   1501\u001b[0m \u001b[38;5;66;03m# row-wise access\u001b[39;00m\n\u001b[0;32m   1502\u001b[0m \u001b[38;5;66;03m# apply doesn't have a `na_action` keyword and for backward compat reasons\u001b[39;00m\n\u001b[0;32m   1503\u001b[0m \u001b[38;5;66;03m# we need to give `na_action=\"ignore\"` for categorical data.\u001b[39;00m\n\u001b[0;32m   1504\u001b[0m \u001b[38;5;66;03m# TODO: remove the `na_action=\"ignore\"` when that default has been changed in\u001b[39;00m\n\u001b[0;32m   1505\u001b[0m \u001b[38;5;66;03m#  Categorical (GH51645).\u001b[39;00m\n\u001b[0;32m   1506\u001b[0m action \u001b[38;5;241m=\u001b[39m \u001b[38;5;124m\"\u001b[39m\u001b[38;5;124mignore\u001b[39m\u001b[38;5;124m\"\u001b[39m \u001b[38;5;28;01mif\u001b[39;00m \u001b[38;5;28misinstance\u001b[39m(obj\u001b[38;5;241m.\u001b[39mdtype, CategoricalDtype) \u001b[38;5;28;01melse\u001b[39;00m \u001b[38;5;28;01mNone\u001b[39;00m\n\u001b[1;32m-> 1507\u001b[0m mapped \u001b[38;5;241m=\u001b[39m obj\u001b[38;5;241m.\u001b[39m_map_values(\n\u001b[0;32m   1508\u001b[0m     mapper\u001b[38;5;241m=\u001b[39mcurried, na_action\u001b[38;5;241m=\u001b[39maction, convert\u001b[38;5;241m=\u001b[39m\u001b[38;5;28mself\u001b[39m\u001b[38;5;241m.\u001b[39mconvert_dtype\n\u001b[0;32m   1509\u001b[0m )\n\u001b[0;32m   1511\u001b[0m \u001b[38;5;28;01mif\u001b[39;00m \u001b[38;5;28mlen\u001b[39m(mapped) \u001b[38;5;129;01mand\u001b[39;00m \u001b[38;5;28misinstance\u001b[39m(mapped[\u001b[38;5;241m0\u001b[39m], ABCSeries):\n\u001b[0;32m   1512\u001b[0m     \u001b[38;5;66;03m# GH#43986 Need to do list(mapped) in order to get treated as nested\u001b[39;00m\n\u001b[0;32m   1513\u001b[0m     \u001b[38;5;66;03m#  See also GH#25959 regarding EA support\u001b[39;00m\n\u001b[0;32m   1514\u001b[0m     \u001b[38;5;28;01mreturn\u001b[39;00m obj\u001b[38;5;241m.\u001b[39m_constructor_expanddim(\u001b[38;5;28mlist\u001b[39m(mapped), index\u001b[38;5;241m=\u001b[39mobj\u001b[38;5;241m.\u001b[39mindex)\n",
      "File \u001b[1;32m~\\AppData\\Local\\anaconda3\\Lib\\site-packages\\pandas\\core\\base.py:921\u001b[0m, in \u001b[0;36mIndexOpsMixin._map_values\u001b[1;34m(self, mapper, na_action, convert)\u001b[0m\n\u001b[0;32m    918\u001b[0m \u001b[38;5;28;01mif\u001b[39;00m \u001b[38;5;28misinstance\u001b[39m(arr, ExtensionArray):\n\u001b[0;32m    919\u001b[0m     \u001b[38;5;28;01mreturn\u001b[39;00m arr\u001b[38;5;241m.\u001b[39mmap(mapper, na_action\u001b[38;5;241m=\u001b[39mna_action)\n\u001b[1;32m--> 921\u001b[0m \u001b[38;5;28;01mreturn\u001b[39;00m algorithms\u001b[38;5;241m.\u001b[39mmap_array(arr, mapper, na_action\u001b[38;5;241m=\u001b[39mna_action, convert\u001b[38;5;241m=\u001b[39mconvert)\n",
      "File \u001b[1;32m~\\AppData\\Local\\anaconda3\\Lib\\site-packages\\pandas\\core\\algorithms.py:1743\u001b[0m, in \u001b[0;36mmap_array\u001b[1;34m(arr, mapper, na_action, convert)\u001b[0m\n\u001b[0;32m   1741\u001b[0m values \u001b[38;5;241m=\u001b[39m arr\u001b[38;5;241m.\u001b[39mastype(\u001b[38;5;28mobject\u001b[39m, copy\u001b[38;5;241m=\u001b[39m\u001b[38;5;28;01mFalse\u001b[39;00m)\n\u001b[0;32m   1742\u001b[0m \u001b[38;5;28;01mif\u001b[39;00m na_action \u001b[38;5;129;01mis\u001b[39;00m \u001b[38;5;28;01mNone\u001b[39;00m:\n\u001b[1;32m-> 1743\u001b[0m     \u001b[38;5;28;01mreturn\u001b[39;00m lib\u001b[38;5;241m.\u001b[39mmap_infer(values, mapper, convert\u001b[38;5;241m=\u001b[39mconvert)\n\u001b[0;32m   1744\u001b[0m \u001b[38;5;28;01melse\u001b[39;00m:\n\u001b[0;32m   1745\u001b[0m     \u001b[38;5;28;01mreturn\u001b[39;00m lib\u001b[38;5;241m.\u001b[39mmap_infer_mask(\n\u001b[0;32m   1746\u001b[0m         values, mapper, mask\u001b[38;5;241m=\u001b[39misna(values)\u001b[38;5;241m.\u001b[39mview(np\u001b[38;5;241m.\u001b[39muint8), convert\u001b[38;5;241m=\u001b[39mconvert\n\u001b[0;32m   1747\u001b[0m     )\n",
      "File \u001b[1;32mlib.pyx:2972\u001b[0m, in \u001b[0;36mpandas._libs.lib.map_infer\u001b[1;34m()\u001b[0m\n",
      "\u001b[1;31mTypeError\u001b[0m: int() argument must be a string, a bytes-like object or a real number, not 'NoneType'"
     ]
    }
   ],
   "source": [
    "#create FSC column and match the FSC values from population dataset to combined corresponding population that the clinics located in. \n",
    "location_data['FSC'] = location_data['POSTAL_CODE'].str[:3]\n",
    "population_fsc = census_data.drop(['Total private dwelling_2021', 'private dwelling by usual resident_2021'], axis =1)\n",
    "population_fsc.set_index('forward sortation area', inplace = True)\n",
    "population_fsc_dict = population_fsc.to_dict()\n",
    "\n",
    "location_data['matched_FSC'] = location_data['FSC'].apply(lambda x: population_fsc_dict['population_2021'].get(x))\n",
    "location_data['population'] = location_data['matched_FSC']\n",
    "location_data['population'] = location_data['population'].str.split(',').str.join('').apply(int)\n",
    "\n",
    "#grouped_location_df = location_data.groupby('NEW_SERVICE_TYPE')\n",
    "#grouped_location_df.info()"
   ]
  },
  {
   "cell_type": "code",
   "execution_count": null,
   "id": "bd1910fa-d87b-4c2e-aedf-fd55f0d2382c",
   "metadata": {},
   "outputs": [],
   "source": []
  },
  {
   "cell_type": "code",
   "execution_count": null,
   "id": "b91ecfd1-9bf6-4004-8d44-d0cfac7c7122",
   "metadata": {},
   "outputs": [],
   "source": []
  },
  {
   "cell_type": "code",
   "execution_count": null,
   "id": "1ab79b25-b4cc-4767-a69d-38be7ce61043",
   "metadata": {},
   "outputs": [],
   "source": []
  }
 ],
 "metadata": {
  "kernelspec": {
   "display_name": "Python [conda env:base] *",
   "language": "python",
   "name": "conda-base-py"
  },
  "language_info": {
   "codemirror_mode": {
    "name": "ipython",
    "version": 3
   },
   "file_extension": ".py",
   "mimetype": "text/x-python",
   "name": "python",
   "nbconvert_exporter": "python",
   "pygments_lexer": "ipython3",
   "version": "3.12.3"
  }
 },
 "nbformat": 4,
 "nbformat_minor": 5
}
