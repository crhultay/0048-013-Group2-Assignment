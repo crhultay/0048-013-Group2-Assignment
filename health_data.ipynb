{
 "cells": [
  {
   "cell_type": "markdown",
   "id": "4aac240b-00a2-4aa1-b3ef-20885c4848c3",
   "metadata": {},
   "source": [
    "# Primary Health Care Accessibility in Ontario\n",
    "\n",
    "## Objectives \n",
    "\n",
    "The main objective of this project is to understand the accessibility of health care which focusing primarily on family medicine, and determine the possible gaps due to inaccessibility of clinics in Ontario, Canada. Healthcare crisis is a known problem in the province, and in Canada for recent years;this has even highligthed in main political campaign  promises during elections even in politically due to growing concern on the access to basic healthcare. Therefore, it is important to understand where the problem is originated. \n",
    "\n",
    "The dataset which we are using in this section downloaded from Ontario Open data platform ( *https://data.ontario.ca/dataset/family-health-team-fht-locations*) and Statistics Canada (*https://www150.statcan.gc.ca/t1/tbl1/en/tv.action?pid=9810001901*)"
   ]
  },
  {
   "cell_type": "code",
   "execution_count": 13,
   "id": "05c7178b",
   "metadata": {},
   "outputs": [],
   "source": [
    "#importing all necessary libraries for data analysis and visualization\n",
    "\n",
    "import pandas as pd \n",
    "import numpy as np \n",
    "import seaborn as sns \n",
    "import matplotlib.pyplot as plt\n",
    "import geopandas\n",
    "import plotly.express as px"
   ]
  },
  {
   "cell_type": "markdown",
   "id": "6bba336d-9dc0-4515-a891-c74e1d11fd42",
   "metadata": {},
   "source": [
    "### 1. Data Inspection and Cleaning \n",
    "\n",
    "We have two separate datasets: \n",
    "- Family Health Team locations by Ontario Health Ministry\n",
    "- Population, Dwellings by Forward Sortation Areas from Census 2021 (Statistics Canada)\n",
    "\n",
    "The goal of this section to understand both datasets, and scrape only the necessary attributes to investigate the accessibility of healthcare providers that are only considered as family medicine focused clinics, and their corresponding location and population combined."
   ]
  },
  {
   "cell_type": "code",
   "execution_count": 15,
   "id": "d02b548d",
   "metadata": {},
   "outputs": [
    {
     "name": "stdout",
     "output_type": "stream",
     "text": [
      "<class 'pandas.core.frame.DataFrame'>\n",
      "RangeIndex: 11749 entries, 0 to 11748\n",
      "Data columns (total 19 columns):\n",
      " #   Column                      Non-Null Count  Dtype  \n",
      "---  ------                      --------------  -----  \n",
      " 0   ï»¿X                        11749 non-null  float64\n",
      " 1   Y                           11749 non-null  float64\n",
      " 2   OGF_ID                      11749 non-null  int64  \n",
      " 3   MOH_SERVICE_PROVIDER_IDENT  11749 non-null  object \n",
      " 4   SERVICE_TYPE                11749 non-null  object \n",
      " 5   SERVICE_TYPE_DETAIL         9976 non-null   object \n",
      " 6   ENGLISH_NAME                11749 non-null  object \n",
      " 7   FRENCH_NAME                 88 non-null     object \n",
      " 8   ENGLISH_NAME_ALT            916 non-null    object \n",
      " 9   FRENCH_NAME_ALT             4 non-null      object \n",
      " 10  ADDRESS_LINE_1              11749 non-null  object \n",
      " 11  ADDRESS_LINE_2              2813 non-null   object \n",
      " 12  ADDRESS_DESCRIPTOR          2173 non-null   object \n",
      " 13  COMMUNITY                   11749 non-null  object \n",
      " 14  POSTAL_CODE                 11748 non-null  object \n",
      " 15  GEOMETRY_UPDATE_DATETIME    11749 non-null  object \n",
      " 16  EFFECTIVE_DATETIME          11749 non-null  object \n",
      " 17  SYSTEM_DATETIME             11749 non-null  object \n",
      " 18  OBJECTID                    11749 non-null  int64  \n",
      "dtypes: float64(2), int64(2), object(15)\n",
      "memory usage: 1.7+ MB\n"
     ]
    },
    {
     "data": {
      "text/plain": [
       "array(['Licensed Lab and Specimen Collection Centre Locations',\n",
       "       'Licenced Retirement Home', 'Pharmacy', 'Long-Term Care Home',\n",
       "       'Community Support Services', 'Primary Care Provider',\n",
       "       'Mental Health and Addiction Organization',\n",
       "       'Integrated Community Health Services Centre',\n",
       "       'HIV/AIDS and Hep C Programs', 'Seniors Active Living Centre',\n",
       "       'Hospital', \"Children's Treatment Centre\", 'Midwifery Clinic',\n",
       "       'Public Health Unit Office Locations', 'Community Health Centre'],\n",
       "      dtype=object)"
      ]
     },
     "execution_count": 15,
     "metadata": {},
     "output_type": "execute_result"
    }
   ],
   "source": [
    "#source data downloaded from:https://data.ontario.ca/dataset/family-health-team-fht-locations\n",
    "\n",
    "# data text file loaded in pandas and inspected to identify significant attribute for our analysis \n",
    "url = 'Ministry_of_Health_Service_Provider_Locations.csv'\n",
    "location_data = pd.read_csv(url, sep = ',',  encoding='latin-1')\n",
    "location_data.info()\n",
    "location_data.drop(['FRENCH_NAME', 'FRENCH_NAME_ALT', 'ENGLISH_NAME_ALT'], axis = 1)\n",
    "location_data['SERVICE_TYPE'].unique()\n",
    "\n",
    "#Service Type re-cateegorized to identify group of Primary Care Provider services:\n",
    "location_data['NEW_SERVICE_TYPE'] = location_data['SERVICE_TYPE']\n",
    "location_data.loc[location_data['SERVICE_TYPE'].str.contains('Family Health Team|Nurse Practitioner-Led Clinic|Indigenous Primary Health Care Organization|Nursing Station'), 'NEW_SERVICE_TYPE'] = 'Primary Care Provider'\n",
    "location_data['NEW_SERVICE_TYPE'].unique()\n"
   ]
  },
  {
   "cell_type": "code",
   "execution_count": 16,
   "id": "07e0f222-2e86-4e15-b021-522be98a751b",
   "metadata": {},
   "outputs": [
    {
     "name": "stdout",
     "output_type": "stream",
     "text": [
      "<class 'pandas.core.frame.DataFrame'>\n",
      "RangeIndex: 1646 entries, 0 to 1645\n",
      "Data columns (total 4 columns):\n",
      " #   Column                                   Non-Null Count  Dtype \n",
      "---  ------                                   --------------  ----- \n",
      " 0   forward sortation area                   1646 non-null   object\n",
      " 1   population_2021                          1646 non-null   object\n",
      " 2   Total private dwelling_2021              1646 non-null   object\n",
      " 3   private dwelling by usual resident_2021  1646 non-null   object\n",
      "dtypes: object(4)\n",
      "memory usage: 51.6+ KB\n",
      "<class 'pandas.core.frame.DataFrame'>\n",
      "RangeIndex: 11749 entries, 0 to 11748\n",
      "Data columns (total 20 columns):\n",
      " #   Column                      Non-Null Count  Dtype  \n",
      "---  ------                      --------------  -----  \n",
      " 0   ï»¿X                        11749 non-null  float64\n",
      " 1   Y                           11749 non-null  float64\n",
      " 2   OGF_ID                      11749 non-null  int64  \n",
      " 3   MOH_SERVICE_PROVIDER_IDENT  11749 non-null  object \n",
      " 4   SERVICE_TYPE                11749 non-null  object \n",
      " 5   SERVICE_TYPE_DETAIL         9976 non-null   object \n",
      " 6   ENGLISH_NAME                11749 non-null  object \n",
      " 7   FRENCH_NAME                 88 non-null     object \n",
      " 8   ENGLISH_NAME_ALT            916 non-null    object \n",
      " 9   FRENCH_NAME_ALT             4 non-null      object \n",
      " 10  ADDRESS_LINE_1              11749 non-null  object \n",
      " 11  ADDRESS_LINE_2              2813 non-null   object \n",
      " 12  ADDRESS_DESCRIPTOR          2173 non-null   object \n",
      " 13  COMMUNITY                   11749 non-null  object \n",
      " 14  POSTAL_CODE                 11748 non-null  object \n",
      " 15  GEOMETRY_UPDATE_DATETIME    11749 non-null  object \n",
      " 16  EFFECTIVE_DATETIME          11749 non-null  object \n",
      " 17  SYSTEM_DATETIME             11749 non-null  object \n",
      " 18  OBJECTID                    11749 non-null  int64  \n",
      " 19  NEW_SERVICE_TYPE            11749 non-null  object \n",
      "dtypes: float64(2), int64(2), object(16)\n",
      "memory usage: 1.8+ MB\n"
     ]
    }
   ],
   "source": [
    "#source data : https://www150.statcan.gc.ca/t1/tbl1/en/tv.action?pid=9810001901\n",
    "census_data = pd.read_csv('population count per fsc.csv', sep = ',', skiprows = 11, skipfooter = 8, names = ['forward sortation area', 'population_2021', 'Total private dwelling_2021', 'private dwelling by usual resident_2021'], engine =  'python')\n",
    "census_data.info()\n",
    "location_data.info()\n",
    "location_data = location_data.rename(columns = {'ï»¿X' :'X'})\n"
   ]
  },
  {
   "cell_type": "markdown",
   "id": "5ed92979-dd17-489d-bf7e-373e24f41fe8",
   "metadata": {},
   "source": [
    "Mainly : primary care provider density: count/km2 for regional can be calculated \n",
    "* Q1. Rural areas vs highly populated cities, type of primary care provider services offered - Treemap/scatter plot answers this \n",
    "* Q2. primary care provider: km2/population identification to understand the accessibility by the population around the clinics\n",
    "  * A. Is the primary care provider serving a population size that is an outlier from provincial standards measured by the distance from any other provider \n",
    "  * B. Is the primary care provider, nearest provider to a population centre which will be considered inaccessable; i.e. greater 30 min commute time especially for small towns perhaps in northern ontario \n"
   ]
  },
  {
   "cell_type": "markdown",
   "id": "3a406306-dd68-4395-81df-f0a202c120e1",
   "metadata": {},
   "source": [
    "## 2. Data Preparation\n",
    "\n",
    "Now we understand the attributes from both datasets, and cleaned the data to reflect only the necessary ones; we can combined these dataset using forwads sortation area using postal codes listed for each clinic, therefore the population information can be associated directly with the clinics. "
   ]
  },
  {
   "cell_type": "code",
   "execution_count": 19,
   "id": "b50ef8f2-868c-40c3-83d7-7131ed5ecbab",
   "metadata": {},
   "outputs": [],
   "source": [
    "#create FSC column and match the FSC values from population dataset to combined corresponding population that the clinics located in. \n",
    "location_data['FSC'] = location_data['POSTAL_CODE'].str[:3]\n",
    "population_fsc = census_data.drop(['Total private dwelling_2021', 'private dwelling by usual resident_2021'], axis =1)\n",
    "population_fsc.set_index('forward sortation area', inplace = True)\n",
    "population_fsc_dict = population_fsc.to_dict()\n",
    "\n",
    "location_data['matched_FSC'] = location_data['FSC'].apply(lambda x: population_fsc_dict['population_2021'].get(x))\n",
    "location_data['population'] = location_data['matched_FSC'].str.split(',').str.join('')\n",
    "location_data['population'] = pd.to_numeric(location_data['population'])\n",
    "\n",
    "#removing columns that ae not significant to our analysis such as goverment/business identifier columns, and name specifier columns as our analysis focuses on Ontario, french name might not be necessary and has lots of missing information.\n",
    "location_data = location_data.drop(['OGF_ID', 'MOH_SERVICE_PROVIDER_IDENT','FRENCH_NAME','FRENCH_NAME_ALT', 'ENGLISH_NAME_ALT', 'matched_FSC'], axis = 1)\n",
    "\n",
    "#narrowing down our dataset to only cover the primary care providers which was defined in the data inspection and cleaning section\n",
    "primary_care_provider = location_data.loc[(location_data['NEW_SERVICE_TYPE'] == 'Primary Care Provider')]\n"
   ]
  },
  {
   "cell_type": "code",
   "execution_count": 20,
   "id": "bd1910fa-d87b-4c2e-aedf-fd55f0d2382c",
   "metadata": {},
   "outputs": [
    {
     "name": "stderr",
     "output_type": "stream",
     "text": [
      "/var/folders/rn/k7xw3y792b5bzfp00y6j5z1c0000gn/T/ipykernel_57659/1979022235.py:6: SettingWithCopyWarning: \n",
      "A value is trying to be set on a copy of a slice from a DataFrame.\n",
      "Try using .loc[row_indexer,col_indexer] = value instead\n",
      "\n",
      "See the caveats in the documentation: https://pandas.pydata.org/pandas-docs/stable/user_guide/indexing.html#returning-a-view-versus-a-copy\n",
      "  primary_care_provider.loc[:,'pop_count'] = primary_care_provider.loc[:, 'FSC'].apply(lambda x: fsc_count_dic['SERVICE_TYPE'].get(x))\n",
      "/var/folders/rn/k7xw3y792b5bzfp00y6j5z1c0000gn/T/ipykernel_57659/1979022235.py:9: SettingWithCopyWarning: \n",
      "A value is trying to be set on a copy of a slice from a DataFrame.\n",
      "Try using .loc[row_indexer,col_indexer] = value instead\n",
      "\n",
      "See the caveats in the documentation: https://pandas.pydata.org/pandas-docs/stable/user_guide/indexing.html#returning-a-view-versus-a-copy\n",
      "  primary_care_provider.loc[:,'population_density_per_are'] = primary_care_provider.loc[:,'FSC'].apply(lambda x: 'rural' if '0' in x else 'urban')\n",
      "/var/folders/rn/k7xw3y792b5bzfp00y6j5z1c0000gn/T/ipykernel_57659/1979022235.py:12: SettingWithCopyWarning: \n",
      "A value is trying to be set on a copy of a slice from a DataFrame.\n",
      "Try using .loc[row_indexer,col_indexer] = value instead\n",
      "\n",
      "See the caveats in the documentation: https://pandas.pydata.org/pandas-docs/stable/user_guide/indexing.html#returning-a-view-versus-a-copy\n",
      "  primary_care_provider.loc[:, 'pop_per_clinic'] = primary_care_provider['population']/primary_care_provider['pop_count']\n"
     ]
    }
   ],
   "source": [
    "# Filtering data based on Forward Sortation Codes to understand statistical summary of the primary care providers based on the location\n",
    "fsc_count_df =  primary_care_provider.groupby(['FSC']).agg({'SERVICE_TYPE': 'count'})\n",
    "fsc_count_dic = fsc_count_df.to_dict()\n",
    "\n",
    "#creating a new column to identify number of clinics in that specific population area\n",
    "primary_care_provider.loc[:,'pop_count'] = primary_care_provider.loc[:, 'FSC'].apply(lambda x: fsc_count_dic['SERVICE_TYPE'].get(x))\n",
    "\n",
    "# if FSC contains '0' in the second character, it is defined as that the area considered to be rural area vs if it is different than zero '0', it is defined as urban area according to the Canada Post designation of FSCs. \n",
    "primary_care_provider.loc[:,'population_density_per_are'] = primary_care_provider.loc[:,'FSC'].apply(lambda x: 'rural' if '0' in x else 'urban')\n",
    "\n",
    "\n",
    "primary_care_provider.loc[:, 'pop_per_clinic'] = primary_care_provider['population']/primary_care_provider['pop_count']\n"
   ]
  },
  {
   "cell_type": "markdown",
   "id": "d23e5310-8333-40fd-88f3-ec7efffdde23",
   "metadata": {},
   "source": [
    "## 3. Data Visulization \n",
    "Since we have a clean dataset which focuses on specifically primary care provider offices located in Ontario, now we can look deeper into the spread of these offices per forward sortation area codes, communities, and population aggloremates. We understand that the data analyzed in this project does not captures all available clinics which are not considered as Family Health Teams by Ontario Health ministry. Therefore, our visualization will assume the accessibility covered by only these units listed in this dataset. "
   ]
  },
  {
   "cell_type": "code",
   "execution_count": 27,
   "id": "1ab79b25-b4cc-4767-a69d-38be7ce61043",
   "metadata": {},
   "outputs": [
    {
     "name": "stderr",
     "output_type": "stream",
     "text": [
      "/var/folders/rn/k7xw3y792b5bzfp00y6j5z1c0000gn/T/ipykernel_57659/3653125550.py:3: SettingWithCopyWarning: \n",
      "A value is trying to be set on a copy of a slice from a DataFrame.\n",
      "Try using .loc[row_indexer,col_indexer] = value instead\n",
      "\n",
      "See the caveats in the documentation: https://pandas.pydata.org/pandas-docs/stable/user_guide/indexing.html#returning-a-view-versus-a-copy\n",
      "  primary_care_provider['coordinates'] =list(zip(primary_care_provider.X, primary_care_provider.Y))\n",
      "/var/folders/rn/k7xw3y792b5bzfp00y6j5z1c0000gn/T/ipykernel_57659/3653125550.py:4: SettingWithCopyWarning: \n",
      "A value is trying to be set on a copy of a slice from a DataFrame.\n",
      "Try using .loc[row_indexer,col_indexer] = value instead\n",
      "\n",
      "See the caveats in the documentation: https://pandas.pydata.org/pandas-docs/stable/user_guide/indexing.html#returning-a-view-versus-a-copy\n",
      "  primary_care_provider['coordinates'] = primary_care_provider['coordinates'].apply(Point)\n"
     ]
    }
   ],
   "source": [
    "from shapely.geometry import Point\n",
    "\n",
    "primary_care_provider['coordinates'] =list(zip(primary_care_provider.X, primary_care_provider.Y))\n",
    "primary_care_provider['coordinates'] = primary_care_provider['coordinates'].apply(Point)\n",
    "\n",
    "gdf = geopandas.GeoDataFrame(primary_care_provider, geometry = 'coordinates')"
   ]
  },
  {
   "cell_type": "markdown",
   "id": "d9a4867e-d8de-456c-b86f-2f1cf4fe2eab",
   "metadata": {},
   "source": [
    "Let's see first what are percentage of areas that does not contain any clinic in Ontario"
   ]
  },
  {
   "cell_type": "code",
   "execution_count": 29,
   "id": "30c479ac-e4b3-4a5f-9c3c-a70c629f35d0",
   "metadata": {},
   "outputs": [
    {
     "name": "stdout",
     "output_type": "stream",
     "text": [
      "Percentage of areas that does not contain primary care provider clinic 2.0597497659375263 %\n"
     ]
    }
   ],
   "source": [
    "# of area code that does not have any clinic:\n",
    "area_no_clinic = (len(primary_care_provider['FSC'])/len (location_data ['FSC']))*100\n",
    "print( 'Percentage of areas that does not contain primary care provider clinic', area_no_clinic, '%')"
   ]
  },
  {
   "cell_type": "code",
   "execution_count": 69,
   "id": "de1015d2-7868-4a94-91e4-0d2528ee771d",
   "metadata": {},
   "outputs": [
    {
     "data": {
      "text/html": [
       "<div>\n",
       "<style scoped>\n",
       "    .dataframe tbody tr th:only-of-type {\n",
       "        vertical-align: middle;\n",
       "    }\n",
       "\n",
       "    .dataframe tbody tr th {\n",
       "        vertical-align: top;\n",
       "    }\n",
       "\n",
       "    .dataframe thead th {\n",
       "        text-align: right;\n",
       "    }\n",
       "</style>\n",
       "<table border=\"1\" class=\"dataframe\">\n",
       "  <thead>\n",
       "    <tr style=\"text-align: right;\">\n",
       "      <th></th>\n",
       "      <th>pop_count</th>\n",
       "      <th>pop_per_clinic</th>\n",
       "      <th>population</th>\n",
       "    </tr>\n",
       "  </thead>\n",
       "  <tbody>\n",
       "    <tr>\n",
       "      <th>min</th>\n",
       "      <td>1.0000</td>\n",
       "      <td>3149.000000</td>\n",
       "      <td>3149.000000</td>\n",
       "    </tr>\n",
       "    <tr>\n",
       "      <th>max</th>\n",
       "      <td>10.0000</td>\n",
       "      <td>110956.000000</td>\n",
       "      <td>115850.000000</td>\n",
       "    </tr>\n",
       "    <tr>\n",
       "      <th>mean</th>\n",
       "      <td>1.5125</td>\n",
       "      <td>25680.937107</td>\n",
       "      <td>32244.232704</td>\n",
       "    </tr>\n",
       "  </tbody>\n",
       "</table>\n",
       "</div>"
      ],
      "text/plain": [
       "      pop_count  pop_per_clinic     population\n",
       "min      1.0000     3149.000000    3149.000000\n",
       "max     10.0000   110956.000000  115850.000000\n",
       "mean     1.5125    25680.937107   32244.232704"
      ]
     },
     "execution_count": 69,
     "metadata": {},
     "output_type": "execute_result"
    }
   ],
   "source": [
    "# grouping data to aggreagate statistical summaries \n",
    "\n",
    "grouped_df = primary_care_provider.groupby(['population_density_per_are','FSC'])\n",
    "aggregated_pop_clinic = grouped_df[['pop_count', 'pop_per_clinic','population']].mean()\n",
    "aggregated_pop_clinic.agg(['min', 'max', 'mean'])"
   ]
  },
  {
   "cell_type": "markdown",
   "id": "de532c0d-20c9-4114-a8f7-247a480ad8cb",
   "metadata": {},
   "source": [
    "#### Early Discussion Point\n",
    "As evidenced by the analysis above, we have aggregated the number of primary health centers and their associated population. Making a generalized assumption that clinics are situated in order to serve their local population within meaningful agglomeration areas, this would indicate that the average individual family health clinic is servicing 25,000+ Ontario residents.\n",
    "\n",
    "It is worth the effort to attempt to visualize the distribution of populations and associated named municipalities to validate the assumption and look for correlation between population and the number of clinics co-located in a forward sortation area. \n",
    "\n",
    "An interesting point here is that we can use our engineered feature column for 'Urban' versus 'Rural' to distinguish between areas with very different population densities."
   ]
  },
  {
   "cell_type": "code",
   "execution_count": 83,
   "id": "e143959e-1173-41d6-89ec-333211a607b4",
   "metadata": {
    "scrolled": true
   },
   "outputs": [
    {
     "data": {
      "application/vnd.plotly.v1+json": {
       "config": {
        "plotlyServerURL": "https://plot.ly"
       },
       "data": [
        {
         "branchvalues": "total",
         "customdata": [
          [
           30440,
           "Akwesasne",
           1
          ],
          [
           25949,
           "Alliston",
           1
          ],
          [
           111626,
           "Almonte",
           2
          ],
          [
           21688,
           "Amherstburg",
           1
          ],
          [
           8395,
           "Amherstview",
           1
          ],
          [
           32000,
           "Armstrong Station",
           10
          ],
          [
           14265,
           "Arnprior",
           1
          ],
          [
           39649,
           "Athens",
           2
          ],
          [
           32000,
           "Atikokan",
           10
          ],
          [
           15625,
           "Aylmer",
           1
          ],
          [
           78142,
           "Bancroft",
           2
          ],
          [
           46902,
           "Barrie",
           2
          ],
          [
           100835,
           "Barrie",
           1
          ],
          [
           34322,
           "Barry's Bay",
           4
          ],
          [
           83602,
           "Beamsville",
           2
          ],
          [
           32000,
           "Beardmore",
           10
          ],
          [
           50203,
           "Belle River",
           3
          ],
          [
           30393,
           "Belleville",
           1
          ],
          [
           12976,
           "Blind River",
           2
          ],
          [
           17984,
           "Bracebridge",
           1
          ],
          [
           42392,
           "Brampton",
           1
          ],
          [
           23547,
           "Brampton",
           1
          ],
          [
           76113,
           "Brampton",
           1
          ],
          [
           115850,
           "Brighton",
           4
          ],
          [
           28174,
           "Brockville",
           2
          ],
          [
           17822,
           "Burk's Falls",
           1
          ],
          [
           13160,
           "Burlington",
           1
          ],
          [
           12207,
           "Burlington",
           1
          ],
          [
           42928,
           "Cambridge",
           3
          ],
          [
           78142,
           "Campbellford",
           2
          ],
          [
           49727,
           "Capreol",
           6
          ],
          [
           111626,
           "Carp",
           2
          ],
          [
           49727,
           "Chapleau",
           6
          ],
          [
           25127,
           "Chatham",
           2
          ],
          [
           69177,
           "Clinton",
           2
          ],
          [
           26757,
           "Cobourg",
           1
          ],
          [
           22859,
           "Cochrane",
           4
          ],
          [
           28925,
           "Collingwood",
           1
          ],
          [
           20285,
           "Cutler",
           5
          ],
          [
           34322,
           "Deep River",
           4
          ],
          [
           8223,
           "Delhi",
           1
          ],
          [
           115850,
           "Deseronto",
           4
          ],
          [
           86935,
           "Drayton",
           3
          ],
          [
           9619,
           "Dryden",
           1
          ],
          [
           10170,
           "Dubreuilville",
           2
          ],
          [
           22944,
           "Ear Falls",
           3
          ],
          [
           11372,
           "Elliot Lake",
           1
          ],
          [
           20179,
           "Englehart",
           4
          ],
          [
           27530,
           "Erie Shores",
           1
          ],
          [
           86919,
           "Erin",
           1
          ],
          [
           5427,
           "Espanola",
           1
          ],
          [
           11819,
           "Essex",
           1
          ],
          [
           22859,
           "Fauquier",
           4
          ],
          [
           53815,
           "Fenelon Falls",
           2
          ],
          [
           18498,
           "Fergus",
           1
          ],
          [
           49727,
           "Foleyet",
           6
          ],
          [
           10079,
           "Fort Frances",
           2
          ],
          [
           4859,
           "Fort William",
           1
          ],
          [
           48051,
           "Georgetown",
           1
          ],
          [
           32000,
           "Geraldton",
           10
          ],
          [
           null,
           "Glencoe",
           null
          ],
          [
           12495,
           "Goderich",
           1
          ],
          [
           42178,
           "Guelph",
           2
          ],
          [
           31957,
           "Hagersville",
           2
          ],
          [
           20179,
           "Haileybury",
           4
          ],
          [
           53815,
           "Haliburton",
           2
          ],
          [
           13774,
           "Hamilton",
           1
          ],
          [
           24773,
           "Hamilton",
           1
          ],
          [
           11651,
           "Hamilton",
           1
          ],
          [
           10341,
           "Hanover",
           1
          ],
          [
           50203,
           "Harrow",
           3
          ],
          [
           12529,
           "Hawkesbury",
           1
          ],
          [
           22859,
           "Hearst",
           4
          ],
          [
           18099,
           "Huntsville",
           2
          ],
          [
           15721,
           "Ingersoll",
           1
          ],
          [
           11456,
           "Iroquois Falls",
           1
          ],
          [
           28708,
           "Kanata",
           1
          ],
          [
           8260,
           "Kapuskasing",
           1
          ],
          [
           14088,
           "Kenora",
           3
          ],
          [
           49727,
           "Killarney",
           6
          ],
          [
           12341,
           "Kincardine",
           1
          ],
          [
           19621,
           "Kingston",
           3
          ],
          [
           6944,
           "Kirkland Lake",
           1
          ],
          [
           14580,
           "Kitchener",
           1
          ],
          [
           36494,
           "Kitchener",
           1
          ],
          [
           52838,
           "Lancaster",
           2
          ],
          [
           29369,
           "Lindsay",
           1
          ],
          [
           53674,
           "Lion's Head",
           2
          ],
          [
           13311,
           "Listowel",
           1
          ],
          [
           20285,
           "Little Current",
           5
          ],
          [
           24067,
           "London",
           1
          ],
          [
           44215,
           "London",
           2
          ],
          [
           4824,
           "Mactier",
           1
          ],
          [
           115850,
           "Madoc",
           4
          ],
          [
           32000,
           "Manitouwadge",
           10
          ],
          [
           20285,
           "Manitowaning",
           5
          ],
          [
           32000,
           "Marathon",
           10
          ],
          [
           34763,
           "Markham",
           2
          ],
          [
           31909,
           "Mattawa",
           4
          ],
          [
           22859,
           "Mattice Val Cote",
           4
          ],
          [
           19245,
           "Midland",
           1
          ],
          [
           110956,
           "Milton",
           1
          ],
          [
           20285,
           "Mindemoya",
           5
          ],
          [
           49727,
           "Missanabie",
           6
          ],
          [
           67131,
           "Mississauga",
           1
          ],
          [
           106468,
           "Mississauga",
           1
          ],
          [
           86935,
           "Mount Forest",
           3
          ],
          [
           49817,
           "Muncey",
           1
          ],
          [
           32000,
           "Nakina",
           10
          ],
          [
           81863,
           "Nepean",
           1
          ],
          [
           20179,
           "New Liskeard",
           4
          ],
          [
           43556,
           "Newmarket",
           2
          ],
          [
           18587,
           "Niagara Falls",
           2
          ],
          [
           32000,
           "Nipigon",
           10
          ],
          [
           16959,
           "North Bay",
           1
          ],
          [
           33113,
           "North Bay",
           2
          ],
          [
           47286,
           "Northbrook",
           2
          ],
          [
           72662,
           "Oakville",
           1
          ],
          [
           14118,
           "Oakville",
           1
          ],
          [
           31957,
           "Ohsweken",
           2
          ],
          [
           48790,
           "Orangeville",
           1
          ],
          [
           48651,
           "Orillia",
           1
          ],
          [
           37235,
           "OrlÃ©ans",
           1
          ],
          [
           42022,
           "Oro-Medonte",
           1
          ],
          [
           43497,
           "Oshawa",
           1
          ],
          [
           35074,
           "Ottawa",
           1
          ],
          [
           28268,
           "Ottawa",
           1
          ],
          [
           32046,
           "Ottawa",
           1
          ],
          [
           18213,
           "Ottawa",
           2
          ],
          [
           26639,
           "Ottawa",
           1
          ],
          [
           57157,
           "Ottawa",
           1
          ],
          [
           20712,
           "Ottawa",
           1
          ],
          [
           62125,
           "Ottawa",
           1
          ],
          [
           28975,
           "Owen Sound",
           1
          ],
          [
           17676,
           "Paris",
           1
          ],
          [
           14695,
           "Parry Sound",
           3
          ],
          [
           50203,
           "Pelee Island",
           3
          ],
          [
           26392,
           "Pembroke",
           1
          ],
          [
           16188,
           "Petawawa",
           1
          ],
          [
           29704,
           "Peterborough",
           1
          ],
          [
           44547,
           "Peterborough",
           1
          ],
          [
           42297,
           "Petrolia",
           1
          ],
          [
           52787,
           "Pickering",
           1
          ],
          [
           115850,
           "Picton",
           4
          ],
          [
           34322,
           "Pikwakanagan",
           4
          ],
          [
           21020,
           "Plantagenet",
           1
          ],
          [
           14620,
           "Port Perry",
           1
          ],
          [
           31909,
           "Powassan",
           4
          ],
          [
           39649,
           "Prescott",
           2
          ],
          [
           22944,
           "Red Lake",
           3
          ],
          [
           16958,
           "Rockland",
           1
          ],
          [
           28410,
           "Sarnia",
           1
          ],
          [
           26033,
           "Sarnia",
           1
          ],
          [
           53674,
           "Sauble Beach",
           2
          ],
          [
           33800,
           "Sault Ste. Marie",
           1
          ],
          [
           22754,
           "Sault Ste. Marie",
           1
          ],
          [
           45170,
           "Scarborough",
           1
          ],
          [
           50825,
           "Scarborough",
           2
          ],
          [
           32000,
           "Schreiber",
           10
          ],
          [
           24817,
           "Seaforth",
           1
          ],
          [
           47286,
           "Sharbot Lake",
           2
          ],
          [
           5541,
           "Sioux Lookout",
           1
          ],
          [
           8410,
           "Sioux Narrows",
           1
          ],
          [
           17575,
           "Smiths Falls",
           1
          ],
          [
           83602,
           "Smithville",
           2
          ],
          [
           25558,
           "St. Catharines",
           1
          ],
          [
           9946,
           "St. Marys",
           1
          ],
          [
           32898,
           "Stratford",
           2
          ],
          [
           9754,
           "Sturgeon Falls",
           1
          ],
          [
           24326,
           "Sudbury",
           1
          ],
          [
           17596,
           "Sudbury",
           3
          ],
          [
           21898,
           "Sutton",
           1
          ],
          [
           31909,
           "Temagami",
           4
          ],
          [
           12976,
           "Thessalon",
           2
          ],
          [
           31909,
           "Thorne",
           4
          ],
          [
           22675,
           "Thunder Bay",
           4
          ],
          [
           20897,
           "Thunder Bay",
           1
          ],
          [
           53140,
           "Tilbury",
           1
          ],
          [
           24098,
           "Timmins",
           3
          ],
          [
           30467,
           "Toronto",
           1
          ],
          [
           12880,
           "Toronto",
           1
          ],
          [
           39616,
           "Toronto",
           1
          ],
          [
           40846,
           "Toronto",
           1
          ],
          [
           46440,
           "Toronto",
           1
          ],
          [
           30913,
           "Toronto",
           1
          ],
          [
           16058,
           "Toronto",
           1
          ],
          [
           19896,
           "Toronto",
           1
          ],
          [
           48978,
           "Toronto",
           1
          ],
          [
           3149,
           "Toronto",
           1
          ],
          [
           9751,
           "Toronto",
           1
          ],
          [
           17074,
           "Toronto",
           1
          ],
          [
           17903,
           "Toronto",
           2
          ],
          [
           42110,
           "Toronto",
           1
          ],
          [
           42148,
           "Toronto",
           2
          ],
          [
           19349,
           "Toronto",
           1
          ],
          [
           19312,
           "Toronto",
           1
          ],
          [
           26059,
           "Toronto",
           1
          ],
          [
           40977,
           "Toronto",
           1
          ],
          [
           32000,
           "Upsala",
           10
          ],
          [
           22944,
           "Vermilion Bay",
           3
          ],
          [
           86935,
           "Walkerton",
           3
          ],
          [
           10170,
           "Wawa",
           2
          ],
          [
           33462,
           "Welland",
           1
          ],
          [
           49727,
           "White River",
           6
          ],
          [
           34322,
           "Whitney",
           4
          ],
          [
           52838,
           "Winchester",
           2
          ],
          [
           16457,
           "Windsor",
           1
          ],
          [
           77353,
           "Woodbridge",
           1
          ],
          [
           42148,
           "York",
           2
          ],
          [
           69177,
           "Zurich",
           2
          ],
          [
           111626,
           "(?)",
           2
          ],
          [
           21020,
           "Plantagenet",
           1
          ],
          [
           52838,
           "(?)",
           2
          ],
          [
           39649,
           "(?)",
           2
          ],
          [
           47286,
           "(?)",
           2
          ],
          [
           34322,
           "(?)",
           4
          ],
          [
           115850,
           "(?)",
           4
          ],
          [
           78142,
           "(?)",
           2
          ],
          [
           53815,
           "(?)",
           2
          ],
          [
           37235,
           "OrlÃ©ans",
           1
          ],
          [
           35074,
           "Ottawa",
           1
          ],
          [
           28268,
           "Ottawa",
           1
          ],
          [
           32046,
           "Ottawa",
           1
          ],
          [
           18213,
           "Ottawa",
           2
          ],
          [
           26639,
           "Ottawa",
           1
          ],
          [
           57157,
           "Ottawa",
           1
          ],
          [
           20712,
           "Ottawa",
           1
          ],
          [
           81863,
           "Nepean",
           1
          ],
          [
           28708,
           "Kanata",
           1
          ],
          [
           62125,
           "Ottawa",
           1
          ],
          [
           16958,
           "Rockland",
           1
          ],
          [
           12529,
           "Hawkesbury",
           1
          ],
          [
           30440,
           "Akwesasne",
           1
          ],
          [
           28174,
           "Brockville",
           2
          ],
          [
           17575,
           "Smiths Falls",
           1
          ],
          [
           19621,
           "Kingston",
           3
          ],
          [
           8395,
           "Amherstview",
           1
          ],
          [
           14265,
           "Arnprior",
           1
          ],
          [
           26392,
           "Pembroke",
           1
          ],
          [
           16188,
           "Petawawa",
           1
          ],
          [
           30393,
           "Belleville",
           1
          ],
          [
           26757,
           "Cobourg",
           1
          ],
          [
           29704,
           "Peterborough",
           1
          ],
          [
           44547,
           "Peterborough",
           1
          ],
          [
           29369,
           "Lindsay",
           1
          ],
          [
           21898,
           "Sutton",
           1
          ],
          [
           42022,
           "Oro-Medonte",
           1
          ],
          [
           83602,
           "(?)",
           2
          ],
          [
           43497,
           "Oshawa",
           1
          ],
          [
           52787,
           "Pickering",
           1
          ],
          [
           18587,
           "Niagara Falls",
           2
          ],
          [
           25558,
           "St. Catharines",
           1
          ],
          [
           33462,
           "Welland",
           1
          ],
          [
           48651,
           "Orillia",
           1
          ],
          [
           43556,
           "Newmarket",
           2
          ],
          [
           77353,
           "Woodbridge",
           1
          ],
          [
           46902,
           "Barrie",
           2
          ],
          [
           100835,
           "Barrie",
           1
          ],
          [
           19245,
           "Midland",
           1
          ],
          [
           67131,
           "Mississauga",
           1
          ],
          [
           106468,
           "Mississauga",
           1
          ],
          [
           34763,
           "Markham",
           2
          ],
          [
           72662,
           "Oakville",
           1
          ],
          [
           14118,
           "Oakville",
           1
          ],
          [
           42392,
           "Brampton",
           1
          ],
          [
           23547,
           "Brampton",
           1
          ],
          [
           76113,
           "Brampton",
           1
          ],
          [
           48051,
           "Georgetown",
           1
          ],
          [
           13160,
           "Burlington",
           1
          ],
          [
           12207,
           "Burlington",
           1
          ],
          [
           13774,
           "Hamilton",
           1
          ],
          [
           24773,
           "Hamilton",
           1
          ],
          [
           11651,
           "Hamilton",
           1
          ],
          [
           14620,
           "Port Perry",
           1
          ],
          [
           25949,
           "Alliston",
           1
          ],
          [
           110956,
           "Milton",
           1
          ],
          [
           48790,
           "Orangeville",
           1
          ],
          [
           28925,
           "Collingwood",
           1
          ],
          [
           45170,
           "Scarborough",
           1
          ],
          [
           30467,
           "Toronto",
           1
          ],
          [
           50825,
           "Scarborough",
           2
          ],
          [
           12880,
           "Toronto",
           1
          ],
          [
           39616,
           "Toronto",
           1
          ],
          [
           40846,
           "Toronto",
           1
          ],
          [
           46440,
           "Toronto",
           1
          ],
          [
           30913,
           "Toronto",
           1
          ],
          [
           16058,
           "Toronto",
           1
          ],
          [
           19896,
           "Toronto",
           1
          ],
          [
           48978,
           "Toronto",
           1
          ],
          [
           3149,
           "Toronto",
           1
          ],
          [
           9751,
           "Toronto",
           1
          ],
          [
           17074,
           "Toronto",
           1
          ],
          [
           17903,
           "Toronto",
           2
          ],
          [
           42110,
           "Toronto",
           1
          ],
          [
           42148,
           "(?)",
           2
          ],
          [
           19349,
           "Toronto",
           1
          ],
          [
           19312,
           "Toronto",
           1
          ],
          [
           26059,
           "Toronto",
           1
          ],
          [
           40977,
           "Toronto",
           1
          ],
          [
           31957,
           "(?)",
           2
          ],
          [
           86919,
           "Erin",
           1
          ],
          [
           86935,
           "(?)",
           3
          ],
          [
           53674,
           "(?)",
           2
          ],
          [
           24817,
           "Seaforth",
           1
          ],
          [
           49817,
           "Muncey",
           1
          ],
          [
           69177,
           "(?)",
           2
          ],
          [
           42297,
           "Petrolia",
           1
          ],
          [
           53140,
           "Tilbury",
           1
          ],
          [
           50203,
           "(?)",
           3
          ],
          [
           42178,
           "Guelph",
           2
          ],
          [
           18498,
           "Fergus",
           1
          ],
          [
           42928,
           "Cambridge",
           3
          ],
          [
           14580,
           "Kitchener",
           1
          ],
          [
           36494,
           "Kitchener",
           1
          ],
          [
           12341,
           "Kincardine",
           1
          ],
          [
           17676,
           "Paris",
           1
          ],
          [
           8223,
           "Delhi",
           1
          ],
          [
           28975,
           "Owen Sound",
           1
          ],
          [
           10341,
           "Hanover",
           1
          ],
          [
           13311,
           "Listowel",
           1
          ],
          [
           9946,
           "St. Marys",
           1
          ],
          [
           32898,
           "Stratford",
           2
          ],
          [
           15721,
           "Ingersoll",
           1
          ],
          [
           15625,
           "Aylmer",
           1
          ],
          [
           24067,
           "London",
           1
          ],
          [
           44215,
           "London",
           2
          ],
          [
           12495,
           "Goderich",
           1
          ],
          [
           25127,
           "Chatham",
           2
          ],
          [
           28410,
           "Sarnia",
           1
          ],
          [
           26033,
           "Sarnia",
           1
          ],
          [
           27530,
           "Erie Shores",
           1
          ],
          [
           11819,
           "Essex",
           1
          ],
          [
           16457,
           "Windsor",
           1
          ],
          [
           21688,
           "Amherstburg",
           1
          ],
          [
           null,
           "Glencoe",
           null
          ],
          [
           17822,
           "Burk's Falls",
           1
          ],
          [
           4824,
           "Mactier",
           1
          ],
          [
           31909,
           "(?)",
           4
          ],
          [
           20179,
           "(?)",
           4
          ],
          [
           11456,
           "Iroquois Falls",
           1
          ],
          [
           22859,
           "(?)",
           4
          ],
          [
           49727,
           "(?)",
           5.999999999999999
          ],
          [
           20285,
           "(?)",
           5
          ],
          [
           12976,
           "(?)",
           2
          ],
          [
           10170,
           "(?)",
           2
          ],
          [
           32000,
           "(?)",
           10
          ],
          [
           22944,
           "(?)",
           3
          ],
          [
           8410,
           "Sioux Narrows",
           1
          ],
          [
           16959,
           "North Bay",
           1
          ],
          [
           33113,
           "North Bay",
           2
          ],
          [
           18099,
           "Huntsville",
           2
          ],
          [
           17984,
           "Bracebridge",
           1
          ],
          [
           14695,
           "Parry Sound",
           3
          ],
          [
           9754,
           "Sturgeon Falls",
           1
          ],
          [
           6944,
           "Kirkland Lake",
           1
          ],
          [
           24326,
           "Sudbury",
           1
          ],
          [
           17596,
           "Sudbury",
           3
          ],
          [
           24098,
           "Timmins",
           3
          ],
          [
           11372,
           "Elliot Lake",
           1
          ],
          [
           5427,
           "Espanola",
           1
          ],
          [
           8260,
           "Kapuskasing",
           1
          ],
          [
           33800,
           "Sault Ste. Marie",
           1
          ],
          [
           22754,
           "Sault Ste. Marie",
           1
          ],
          [
           22675,
           "Thunder Bay",
           4
          ],
          [
           20897,
           "Thunder Bay",
           1
          ],
          [
           4859,
           "Fort William",
           1
          ],
          [
           9619,
           "Dryden",
           1
          ],
          [
           5541,
           "Sioux Lookout",
           1
          ],
          [
           10079,
           "Fort Frances",
           2
          ],
          [
           14088,
           "Kenora",
           3
          ],
          [
           "(?)",
           "(?)",
           2.4890262019416225
          ],
          [
           "(?)",
           "(?)",
           null
          ],
          [
           "(?)",
           "(?)",
           null
          ]
         ],
         "domain": {
          "x": [
           0,
           1
          ],
          "y": [
           0,
           1
          ]
         },
         "hovertemplate": "labels=%{label}<br>pop_per_clinic=%{value}<br>parent=%{parent}<br>id=%{id}<br>population=%{customdata[0]}<br>COMMUNITY=%{customdata[1]}<br>pop_count=%{color}<extra></extra>",
         "ids": [
          "Ontario/urban/K6H/Akwesasne",
          "Ontario/urban/L9R/Alliston",
          "Ontario/rural/K0A/Almonte",
          "Ontario/urban/N9V/Amherstburg",
          "Ontario/urban/K7N/Amherstview",
          "Ontario/rural/P0T/Armstrong Station",
          "Ontario/urban/K7S/Arnprior",
          "Ontario/rural/K0E/Athens",
          "Ontario/rural/P0T/Atikokan",
          "Ontario/urban/N5H/Aylmer",
          "Ontario/rural/K0L/Bancroft",
          "Ontario/urban/L4M/Barrie",
          "Ontario/urban/L4N/Barrie",
          "Ontario/rural/K0J/Barry's Bay",
          "Ontario/rural/L0R/Beamsville",
          "Ontario/rural/P0T/Beardmore",
          "Ontario/rural/N0R/Belle River",
          "Ontario/urban/K8N/Belleville",
          "Ontario/rural/P0R/Blind River",
          "Ontario/urban/P1L/Bracebridge",
          "Ontario/urban/L6V/Brampton",
          "Ontario/urban/L6W/Brampton",
          "Ontario/urban/L6X/Brampton",
          "Ontario/rural/K0K/Brighton",
          "Ontario/urban/K6V/Brockville",
          "Ontario/rural/P0A/Burk's Falls",
          "Ontario/urban/L7N/Burlington",
          "Ontario/urban/L7S/Burlington",
          "Ontario/urban/N1R/Cambridge",
          "Ontario/rural/K0L/Campbellford",
          "Ontario/rural/P0M/Capreol",
          "Ontario/rural/K0A/Carp",
          "Ontario/rural/P0M/Chapleau",
          "Ontario/urban/N7L/Chatham",
          "Ontario/rural/N0M/Clinton",
          "Ontario/urban/K9A/Cobourg",
          "Ontario/rural/P0L/Cochrane",
          "Ontario/urban/L9Y/Collingwood",
          "Ontario/rural/P0P/Cutler",
          "Ontario/rural/K0J/Deep River",
          "Ontario/urban/N4B/Delhi",
          "Ontario/rural/K0K/Deseronto",
          "Ontario/rural/N0G/Drayton",
          "Ontario/urban/P8N/Dryden",
          "Ontario/rural/P0S/Dubreuilville",
          "Ontario/rural/P0V/Ear Falls",
          "Ontario/urban/P5A/Elliot Lake",
          "Ontario/rural/P0J/Englehart",
          "Ontario/urban/N8H/Erie Shores",
          "Ontario/rural/N0B/Erin",
          "Ontario/urban/P5E/Espanola",
          "Ontario/urban/N8M/Essex",
          "Ontario/rural/P0L/Fauquier",
          "Ontario/rural/K0M/Fenelon Falls",
          "Ontario/urban/N1M/Fergus",
          "Ontario/rural/P0M/Foleyet",
          "Ontario/urban/P9A/Fort Frances",
          "Ontario/urban/P7J/Fort William",
          "Ontario/urban/L7G/Georgetown",
          "Ontario/rural/P0T/Geraldton",
          "Ontario/urban/NOL/Glencoe",
          "Ontario/urban/N7A/Goderich",
          "Ontario/urban/N1H/Guelph",
          "Ontario/rural/N0A/Hagersville",
          "Ontario/rural/P0J/Haileybury",
          "Ontario/rural/K0M/Haliburton",
          "Ontario/urban/L8M/Hamilton",
          "Ontario/urban/L8P/Hamilton",
          "Ontario/urban/L8R/Hamilton",
          "Ontario/urban/N4N/Hanover",
          "Ontario/rural/N0R/Harrow",
          "Ontario/urban/K6A/Hawkesbury",
          "Ontario/rural/P0L/Hearst",
          "Ontario/urban/P1H/Huntsville",
          "Ontario/urban/N5C/Ingersoll",
          "Ontario/rural/P0K/Iroquois Falls",
          "Ontario/urban/K2M/Kanata",
          "Ontario/urban/P5N/Kapuskasing",
          "Ontario/urban/P9N/Kenora",
          "Ontario/rural/P0M/Killarney",
          "Ontario/urban/N2Z/Kincardine",
          "Ontario/urban/K7L/Kingston",
          "Ontario/urban/P2N/Kirkland Lake",
          "Ontario/urban/N2G/Kitchener",
          "Ontario/urban/N2M/Kitchener",
          "Ontario/rural/K0C/Lancaster",
          "Ontario/urban/K9V/Lindsay",
          "Ontario/rural/N0H/Lion's Head",
          "Ontario/urban/N4W/Listowel",
          "Ontario/rural/P0P/Little Current",
          "Ontario/urban/N5Z/London",
          "Ontario/urban/N6H/London",
          "Ontario/rural/P0C/Mactier",
          "Ontario/rural/K0K/Madoc",
          "Ontario/rural/P0T/Manitouwadge",
          "Ontario/rural/P0P/Manitowaning",
          "Ontario/rural/P0T/Marathon",
          "Ontario/urban/L6B/Markham",
          "Ontario/rural/P0H/Mattawa",
          "Ontario/rural/P0L/Mattice Val Cote",
          "Ontario/urban/L4R/Midland",
          "Ontario/urban/L9T/Milton",
          "Ontario/rural/P0P/Mindemoya",
          "Ontario/rural/P0M/Missanabie",
          "Ontario/urban/L5B/Mississauga",
          "Ontario/urban/L5M/Mississauga",
          "Ontario/rural/N0G/Mount Forest",
          "Ontario/rural/N0L/Muncey",
          "Ontario/rural/P0T/Nakina",
          "Ontario/urban/K2J/Nepean",
          "Ontario/rural/P0J/New Liskeard",
          "Ontario/urban/L3Y/Newmarket",
          "Ontario/urban/L2E/Niagara Falls",
          "Ontario/rural/P0T/Nipigon",
          "Ontario/urban/P1A/North Bay",
          "Ontario/urban/P1B/North Bay",
          "Ontario/rural/K0H/Northbrook",
          "Ontario/urban/L6H/Oakville",
          "Ontario/urban/L6K/Oakville",
          "Ontario/rural/N0A/Ohsweken",
          "Ontario/urban/L9W/Orangeville",
          "Ontario/urban/L3V/Orillia",
          "Ontario/urban/K1C/OrlÃ©ans",
          "Ontario/rural/L0L/Oro-Medonte",
          "Ontario/urban/L1G/Oshawa",
          "Ontario/urban/K1G/Ottawa",
          "Ontario/urban/K1J/Ottawa",
          "Ontario/urban/K1K/Ottawa",
          "Ontario/urban/K1L/Ottawa",
          "Ontario/urban/K1N/Ottawa",
          "Ontario/urban/K1V/Ottawa",
          "Ontario/urban/K1Y/Ottawa",
          "Ontario/urban/K4A/Ottawa",
          "Ontario/urban/N4K/Owen Sound",
          "Ontario/urban/N3L/Paris",
          "Ontario/urban/P2A/Parry Sound",
          "Ontario/rural/N0R/Pelee Island",
          "Ontario/urban/K8A/Pembroke",
          "Ontario/urban/K8H/Petawawa",
          "Ontario/urban/K9H/Peterborough",
          "Ontario/urban/K9J/Peterborough",
          "Ontario/rural/N0N/Petrolia",
          "Ontario/urban/L1V/Pickering",
          "Ontario/rural/K0K/Picton",
          "Ontario/rural/K0J/Pikwakanagan",
          "Ontario/rural/K0B/Plantagenet",
          "Ontario/urban/L9L/Port Perry",
          "Ontario/rural/P0H/Powassan",
          "Ontario/rural/K0E/Prescott",
          "Ontario/rural/P0V/Red Lake",
          "Ontario/urban/K4K/Rockland",
          "Ontario/urban/N7S/Sarnia",
          "Ontario/urban/N7T/Sarnia",
          "Ontario/rural/N0H/Sauble Beach",
          "Ontario/urban/P6A/Sault Ste. Marie",
          "Ontario/urban/P6B/Sault Ste. Marie",
          "Ontario/urban/M1P/Scarborough",
          "Ontario/urban/M1V/Scarborough",
          "Ontario/rural/P0T/Schreiber",
          "Ontario/rural/N0K/Seaforth",
          "Ontario/rural/K0H/Sharbot Lake",
          "Ontario/urban/P8T/Sioux Lookout",
          "Ontario/rural/P0X/Sioux Narrows",
          "Ontario/urban/K7A/Smiths Falls",
          "Ontario/rural/L0R/Smithville",
          "Ontario/urban/L2R/St. Catharines",
          "Ontario/urban/N4X/St. Marys",
          "Ontario/urban/N5A/Stratford",
          "Ontario/urban/P2B/Sturgeon Falls",
          "Ontario/urban/P3A/Sudbury",
          "Ontario/urban/P3C/Sudbury",
          "Ontario/rural/L0E/Sutton",
          "Ontario/rural/P0H/Temagami",
          "Ontario/rural/P0R/Thessalon",
          "Ontario/rural/P0H/Thorne",
          "Ontario/urban/P7B/Thunder Bay",
          "Ontario/urban/P7E/Thunder Bay",
          "Ontario/rural/N0P/Tilbury",
          "Ontario/urban/P4N/Timmins",
          "Ontario/urban/M1R/Toronto",
          "Ontario/urban/M3B/Toronto",
          "Ontario/urban/M3C/Toronto",
          "Ontario/urban/M3N/Toronto",
          "Ontario/urban/M4C/Toronto",
          "Ontario/urban/M4K/Toronto",
          "Ontario/urban/M4N/Toronto",
          "Ontario/urban/M4X/Toronto",
          "Ontario/urban/M5A/Toronto",
          "Ontario/urban/M5C/Toronto",
          "Ontario/urban/M5G/Toronto",
          "Ontario/urban/M5S/Toronto",
          "Ontario/urban/M5T/Toronto",
          "Ontario/urban/M6K/Toronto",
          "Ontario/urban/M6M/Toronto",
          "Ontario/urban/M6R/Toronto",
          "Ontario/urban/M8Z/Toronto",
          "Ontario/urban/M9N/Toronto",
          "Ontario/urban/M9W/Toronto",
          "Ontario/rural/P0T/Upsala",
          "Ontario/rural/P0V/Vermilion Bay",
          "Ontario/rural/N0G/Walkerton",
          "Ontario/rural/P0S/Wawa",
          "Ontario/urban/L3C/Welland",
          "Ontario/rural/P0M/White River",
          "Ontario/rural/K0J/Whitney",
          "Ontario/rural/K0C/Winchester",
          "Ontario/urban/N8X/Windsor",
          "Ontario/urban/L4H/Woodbridge",
          "Ontario/urban/M6M/York",
          "Ontario/rural/N0M/Zurich",
          "Ontario/rural/K0A",
          "Ontario/rural/K0B",
          "Ontario/rural/K0C",
          "Ontario/rural/K0E",
          "Ontario/rural/K0H",
          "Ontario/rural/K0J",
          "Ontario/rural/K0K",
          "Ontario/rural/K0L",
          "Ontario/rural/K0M",
          "Ontario/urban/K1C",
          "Ontario/urban/K1G",
          "Ontario/urban/K1J",
          "Ontario/urban/K1K",
          "Ontario/urban/K1L",
          "Ontario/urban/K1N",
          "Ontario/urban/K1V",
          "Ontario/urban/K1Y",
          "Ontario/urban/K2J",
          "Ontario/urban/K2M",
          "Ontario/urban/K4A",
          "Ontario/urban/K4K",
          "Ontario/urban/K6A",
          "Ontario/urban/K6H",
          "Ontario/urban/K6V",
          "Ontario/urban/K7A",
          "Ontario/urban/K7L",
          "Ontario/urban/K7N",
          "Ontario/urban/K7S",
          "Ontario/urban/K8A",
          "Ontario/urban/K8H",
          "Ontario/urban/K8N",
          "Ontario/urban/K9A",
          "Ontario/urban/K9H",
          "Ontario/urban/K9J",
          "Ontario/urban/K9V",
          "Ontario/rural/L0E",
          "Ontario/rural/L0L",
          "Ontario/rural/L0R",
          "Ontario/urban/L1G",
          "Ontario/urban/L1V",
          "Ontario/urban/L2E",
          "Ontario/urban/L2R",
          "Ontario/urban/L3C",
          "Ontario/urban/L3V",
          "Ontario/urban/L3Y",
          "Ontario/urban/L4H",
          "Ontario/urban/L4M",
          "Ontario/urban/L4N",
          "Ontario/urban/L4R",
          "Ontario/urban/L5B",
          "Ontario/urban/L5M",
          "Ontario/urban/L6B",
          "Ontario/urban/L6H",
          "Ontario/urban/L6K",
          "Ontario/urban/L6V",
          "Ontario/urban/L6W",
          "Ontario/urban/L6X",
          "Ontario/urban/L7G",
          "Ontario/urban/L7N",
          "Ontario/urban/L7S",
          "Ontario/urban/L8M",
          "Ontario/urban/L8P",
          "Ontario/urban/L8R",
          "Ontario/urban/L9L",
          "Ontario/urban/L9R",
          "Ontario/urban/L9T",
          "Ontario/urban/L9W",
          "Ontario/urban/L9Y",
          "Ontario/urban/M1P",
          "Ontario/urban/M1R",
          "Ontario/urban/M1V",
          "Ontario/urban/M3B",
          "Ontario/urban/M3C",
          "Ontario/urban/M3N",
          "Ontario/urban/M4C",
          "Ontario/urban/M4K",
          "Ontario/urban/M4N",
          "Ontario/urban/M4X",
          "Ontario/urban/M5A",
          "Ontario/urban/M5C",
          "Ontario/urban/M5G",
          "Ontario/urban/M5S",
          "Ontario/urban/M5T",
          "Ontario/urban/M6K",
          "Ontario/urban/M6M",
          "Ontario/urban/M6R",
          "Ontario/urban/M8Z",
          "Ontario/urban/M9N",
          "Ontario/urban/M9W",
          "Ontario/rural/N0A",
          "Ontario/rural/N0B",
          "Ontario/rural/N0G",
          "Ontario/rural/N0H",
          "Ontario/rural/N0K",
          "Ontario/rural/N0L",
          "Ontario/rural/N0M",
          "Ontario/rural/N0N",
          "Ontario/rural/N0P",
          "Ontario/rural/N0R",
          "Ontario/urban/N1H",
          "Ontario/urban/N1M",
          "Ontario/urban/N1R",
          "Ontario/urban/N2G",
          "Ontario/urban/N2M",
          "Ontario/urban/N2Z",
          "Ontario/urban/N3L",
          "Ontario/urban/N4B",
          "Ontario/urban/N4K",
          "Ontario/urban/N4N",
          "Ontario/urban/N4W",
          "Ontario/urban/N4X",
          "Ontario/urban/N5A",
          "Ontario/urban/N5C",
          "Ontario/urban/N5H",
          "Ontario/urban/N5Z",
          "Ontario/urban/N6H",
          "Ontario/urban/N7A",
          "Ontario/urban/N7L",
          "Ontario/urban/N7S",
          "Ontario/urban/N7T",
          "Ontario/urban/N8H",
          "Ontario/urban/N8M",
          "Ontario/urban/N8X",
          "Ontario/urban/N9V",
          "Ontario/urban/NOL",
          "Ontario/rural/P0A",
          "Ontario/rural/P0C",
          "Ontario/rural/P0H",
          "Ontario/rural/P0J",
          "Ontario/rural/P0K",
          "Ontario/rural/P0L",
          "Ontario/rural/P0M",
          "Ontario/rural/P0P",
          "Ontario/rural/P0R",
          "Ontario/rural/P0S",
          "Ontario/rural/P0T",
          "Ontario/rural/P0V",
          "Ontario/rural/P0X",
          "Ontario/urban/P1A",
          "Ontario/urban/P1B",
          "Ontario/urban/P1H",
          "Ontario/urban/P1L",
          "Ontario/urban/P2A",
          "Ontario/urban/P2B",
          "Ontario/urban/P2N",
          "Ontario/urban/P3A",
          "Ontario/urban/P3C",
          "Ontario/urban/P4N",
          "Ontario/urban/P5A",
          "Ontario/urban/P5E",
          "Ontario/urban/P5N",
          "Ontario/urban/P6A",
          "Ontario/urban/P6B",
          "Ontario/urban/P7B",
          "Ontario/urban/P7E",
          "Ontario/urban/P7J",
          "Ontario/urban/P8N",
          "Ontario/urban/P8T",
          "Ontario/urban/P9A",
          "Ontario/urban/P9N",
          "Ontario/rural",
          "Ontario/urban",
          "Ontario"
         ],
         "labels": [
          "Akwesasne",
          "Alliston",
          "Almonte",
          "Amherstburg",
          "Amherstview",
          "Armstrong Station",
          "Arnprior",
          "Athens",
          "Atikokan",
          "Aylmer",
          "Bancroft",
          "Barrie",
          "Barrie",
          "Barry's Bay",
          "Beamsville",
          "Beardmore",
          "Belle River",
          "Belleville",
          "Blind River",
          "Bracebridge",
          "Brampton",
          "Brampton",
          "Brampton",
          "Brighton",
          "Brockville",
          "Burk's Falls",
          "Burlington",
          "Burlington",
          "Cambridge",
          "Campbellford",
          "Capreol",
          "Carp",
          "Chapleau",
          "Chatham",
          "Clinton",
          "Cobourg",
          "Cochrane",
          "Collingwood",
          "Cutler",
          "Deep River",
          "Delhi",
          "Deseronto",
          "Drayton",
          "Dryden",
          "Dubreuilville",
          "Ear Falls",
          "Elliot Lake",
          "Englehart",
          "Erie Shores",
          "Erin",
          "Espanola",
          "Essex",
          "Fauquier",
          "Fenelon Falls",
          "Fergus",
          "Foleyet",
          "Fort Frances",
          "Fort William",
          "Georgetown",
          "Geraldton",
          "Glencoe",
          "Goderich",
          "Guelph",
          "Hagersville",
          "Haileybury",
          "Haliburton",
          "Hamilton",
          "Hamilton",
          "Hamilton",
          "Hanover",
          "Harrow",
          "Hawkesbury",
          "Hearst",
          "Huntsville",
          "Ingersoll",
          "Iroquois Falls",
          "Kanata",
          "Kapuskasing",
          "Kenora",
          "Killarney",
          "Kincardine",
          "Kingston",
          "Kirkland Lake",
          "Kitchener",
          "Kitchener",
          "Lancaster",
          "Lindsay",
          "Lion's Head",
          "Listowel",
          "Little Current",
          "London",
          "London",
          "Mactier",
          "Madoc",
          "Manitouwadge",
          "Manitowaning",
          "Marathon",
          "Markham",
          "Mattawa",
          "Mattice Val Cote",
          "Midland",
          "Milton",
          "Mindemoya",
          "Missanabie",
          "Mississauga",
          "Mississauga",
          "Mount Forest",
          "Muncey",
          "Nakina",
          "Nepean",
          "New Liskeard",
          "Newmarket",
          "Niagara Falls",
          "Nipigon",
          "North Bay",
          "North Bay",
          "Northbrook",
          "Oakville",
          "Oakville",
          "Ohsweken",
          "Orangeville",
          "Orillia",
          "OrlÃ©ans",
          "Oro-Medonte",
          "Oshawa",
          "Ottawa",
          "Ottawa",
          "Ottawa",
          "Ottawa",
          "Ottawa",
          "Ottawa",
          "Ottawa",
          "Ottawa",
          "Owen Sound",
          "Paris",
          "Parry Sound",
          "Pelee Island",
          "Pembroke",
          "Petawawa",
          "Peterborough",
          "Peterborough",
          "Petrolia",
          "Pickering",
          "Picton",
          "Pikwakanagan",
          "Plantagenet",
          "Port Perry",
          "Powassan",
          "Prescott",
          "Red Lake",
          "Rockland",
          "Sarnia",
          "Sarnia",
          "Sauble Beach",
          "Sault Ste. Marie",
          "Sault Ste. Marie",
          "Scarborough",
          "Scarborough",
          "Schreiber",
          "Seaforth",
          "Sharbot Lake",
          "Sioux Lookout",
          "Sioux Narrows",
          "Smiths Falls",
          "Smithville",
          "St. Catharines",
          "St. Marys",
          "Stratford",
          "Sturgeon Falls",
          "Sudbury",
          "Sudbury",
          "Sutton",
          "Temagami",
          "Thessalon",
          "Thorne",
          "Thunder Bay",
          "Thunder Bay",
          "Tilbury",
          "Timmins",
          "Toronto",
          "Toronto",
          "Toronto",
          "Toronto",
          "Toronto",
          "Toronto",
          "Toronto",
          "Toronto",
          "Toronto",
          "Toronto",
          "Toronto",
          "Toronto",
          "Toronto",
          "Toronto",
          "Toronto",
          "Toronto",
          "Toronto",
          "Toronto",
          "Toronto",
          "Upsala",
          "Vermilion Bay",
          "Walkerton",
          "Wawa",
          "Welland",
          "White River",
          "Whitney",
          "Winchester",
          "Windsor",
          "Woodbridge",
          "York",
          "Zurich",
          "K0A",
          "K0B",
          "K0C",
          "K0E",
          "K0H",
          "K0J",
          "K0K",
          "K0L",
          "K0M",
          "K1C",
          "K1G",
          "K1J",
          "K1K",
          "K1L",
          "K1N",
          "K1V",
          "K1Y",
          "K2J",
          "K2M",
          "K4A",
          "K4K",
          "K6A",
          "K6H",
          "K6V",
          "K7A",
          "K7L",
          "K7N",
          "K7S",
          "K8A",
          "K8H",
          "K8N",
          "K9A",
          "K9H",
          "K9J",
          "K9V",
          "L0E",
          "L0L",
          "L0R",
          "L1G",
          "L1V",
          "L2E",
          "L2R",
          "L3C",
          "L3V",
          "L3Y",
          "L4H",
          "L4M",
          "L4N",
          "L4R",
          "L5B",
          "L5M",
          "L6B",
          "L6H",
          "L6K",
          "L6V",
          "L6W",
          "L6X",
          "L7G",
          "L7N",
          "L7S",
          "L8M",
          "L8P",
          "L8R",
          "L9L",
          "L9R",
          "L9T",
          "L9W",
          "L9Y",
          "M1P",
          "M1R",
          "M1V",
          "M3B",
          "M3C",
          "M3N",
          "M4C",
          "M4K",
          "M4N",
          "M4X",
          "M5A",
          "M5C",
          "M5G",
          "M5S",
          "M5T",
          "M6K",
          "M6M",
          "M6R",
          "M8Z",
          "M9N",
          "M9W",
          "N0A",
          "N0B",
          "N0G",
          "N0H",
          "N0K",
          "N0L",
          "N0M",
          "N0N",
          "N0P",
          "N0R",
          "N1H",
          "N1M",
          "N1R",
          "N2G",
          "N2M",
          "N2Z",
          "N3L",
          "N4B",
          "N4K",
          "N4N",
          "N4W",
          "N4X",
          "N5A",
          "N5C",
          "N5H",
          "N5Z",
          "N6H",
          "N7A",
          "N7L",
          "N7S",
          "N7T",
          "N8H",
          "N8M",
          "N8X",
          "N9V",
          "NOL",
          "P0A",
          "P0C",
          "P0H",
          "P0J",
          "P0K",
          "P0L",
          "P0M",
          "P0P",
          "P0R",
          "P0S",
          "P0T",
          "P0V",
          "P0X",
          "P1A",
          "P1B",
          "P1H",
          "P1L",
          "P2A",
          "P2B",
          "P2N",
          "P3A",
          "P3C",
          "P4N",
          "P5A",
          "P5E",
          "P5N",
          "P6A",
          "P6B",
          "P7B",
          "P7E",
          "P7J",
          "P8N",
          "P8T",
          "P9A",
          "P9N",
          "rural",
          "urban",
          "Ontario"
         ],
         "marker": {
          "coloraxis": "coloraxis",
          "colors": [
           1,
           1,
           2,
           1,
           1,
           10,
           1,
           2,
           10,
           1,
           2,
           2,
           1,
           4,
           2,
           10,
           3,
           1,
           2,
           1,
           1,
           1,
           1,
           4,
           2,
           1,
           1,
           1,
           3,
           2,
           6,
           2,
           6,
           2,
           2,
           1,
           4,
           1,
           5,
           4,
           1,
           4,
           3,
           1,
           2,
           3,
           1,
           4,
           1,
           1,
           1,
           1,
           4,
           2,
           1,
           6,
           2,
           1,
           1,
           10,
           null,
           1,
           2,
           2,
           4,
           2,
           1,
           1,
           1,
           1,
           3,
           1,
           4,
           2,
           1,
           1,
           1,
           1,
           3,
           6,
           1,
           3,
           1,
           1,
           1,
           2,
           1,
           2,
           1,
           5,
           1,
           2,
           1,
           4,
           10,
           5,
           10,
           2,
           4,
           4,
           1,
           1,
           5,
           6,
           1,
           1,
           3,
           1,
           10,
           1,
           4,
           2,
           2,
           10,
           1,
           2,
           2,
           1,
           1,
           2,
           1,
           1,
           1,
           1,
           1,
           1,
           1,
           1,
           2,
           1,
           1,
           1,
           1,
           1,
           1,
           3,
           3,
           1,
           1,
           1,
           1,
           1,
           1,
           4,
           4,
           1,
           1,
           4,
           2,
           3,
           1,
           1,
           1,
           2,
           1,
           1,
           1,
           2,
           10,
           1,
           2,
           1,
           1,
           1,
           2,
           1,
           1,
           2,
           1,
           1,
           3,
           1,
           4,
           2,
           4,
           4,
           1,
           1,
           3,
           1,
           1,
           1,
           1,
           1,
           1,
           1,
           1,
           1,
           1,
           1,
           1,
           2,
           1,
           2,
           1,
           1,
           1,
           1,
           10,
           3,
           3,
           2,
           1,
           6,
           4,
           2,
           1,
           1,
           2,
           2,
           2,
           1,
           2,
           2,
           2,
           4,
           4,
           2,
           2,
           1,
           1,
           1,
           1,
           2,
           1,
           1,
           1,
           1,
           1,
           1,
           1,
           1,
           1,
           2,
           1,
           3,
           1,
           1,
           1,
           1,
           1,
           1,
           1,
           1,
           1,
           1,
           1,
           2,
           1,
           1,
           2,
           1,
           1,
           1,
           2,
           1,
           2,
           1,
           1,
           1,
           1,
           2,
           1,
           1,
           1,
           1,
           1,
           1,
           1,
           1,
           1,
           1,
           1,
           1,
           1,
           1,
           1,
           1,
           1,
           1,
           2,
           1,
           1,
           1,
           1,
           1,
           1,
           1,
           1,
           1,
           1,
           1,
           2,
           1,
           2,
           1,
           1,
           1,
           1,
           2,
           1,
           3,
           2,
           1,
           1,
           2,
           1,
           1,
           3,
           2,
           1,
           3,
           1,
           1,
           1,
           1,
           1,
           1,
           1,
           1,
           1,
           2,
           1,
           1,
           1,
           2,
           1,
           2,
           1,
           1,
           1,
           1,
           1,
           1,
           null,
           1,
           1,
           4,
           4,
           1,
           4,
           5.999999999999999,
           5,
           2,
           2,
           10,
           3,
           1,
           1,
           2,
           2,
           1,
           3,
           1,
           1,
           1,
           3,
           3,
           1,
           1,
           1,
           1,
           1,
           4,
           1,
           1,
           1,
           1,
           2,
           3,
           2.4890262019416225,
           null,
           null
          ]
         },
         "name": "",
         "parents": [
          "Ontario/urban/K6H",
          "Ontario/urban/L9R",
          "Ontario/rural/K0A",
          "Ontario/urban/N9V",
          "Ontario/urban/K7N",
          "Ontario/rural/P0T",
          "Ontario/urban/K7S",
          "Ontario/rural/K0E",
          "Ontario/rural/P0T",
          "Ontario/urban/N5H",
          "Ontario/rural/K0L",
          "Ontario/urban/L4M",
          "Ontario/urban/L4N",
          "Ontario/rural/K0J",
          "Ontario/rural/L0R",
          "Ontario/rural/P0T",
          "Ontario/rural/N0R",
          "Ontario/urban/K8N",
          "Ontario/rural/P0R",
          "Ontario/urban/P1L",
          "Ontario/urban/L6V",
          "Ontario/urban/L6W",
          "Ontario/urban/L6X",
          "Ontario/rural/K0K",
          "Ontario/urban/K6V",
          "Ontario/rural/P0A",
          "Ontario/urban/L7N",
          "Ontario/urban/L7S",
          "Ontario/urban/N1R",
          "Ontario/rural/K0L",
          "Ontario/rural/P0M",
          "Ontario/rural/K0A",
          "Ontario/rural/P0M",
          "Ontario/urban/N7L",
          "Ontario/rural/N0M",
          "Ontario/urban/K9A",
          "Ontario/rural/P0L",
          "Ontario/urban/L9Y",
          "Ontario/rural/P0P",
          "Ontario/rural/K0J",
          "Ontario/urban/N4B",
          "Ontario/rural/K0K",
          "Ontario/rural/N0G",
          "Ontario/urban/P8N",
          "Ontario/rural/P0S",
          "Ontario/rural/P0V",
          "Ontario/urban/P5A",
          "Ontario/rural/P0J",
          "Ontario/urban/N8H",
          "Ontario/rural/N0B",
          "Ontario/urban/P5E",
          "Ontario/urban/N8M",
          "Ontario/rural/P0L",
          "Ontario/rural/K0M",
          "Ontario/urban/N1M",
          "Ontario/rural/P0M",
          "Ontario/urban/P9A",
          "Ontario/urban/P7J",
          "Ontario/urban/L7G",
          "Ontario/rural/P0T",
          "Ontario/urban/NOL",
          "Ontario/urban/N7A",
          "Ontario/urban/N1H",
          "Ontario/rural/N0A",
          "Ontario/rural/P0J",
          "Ontario/rural/K0M",
          "Ontario/urban/L8M",
          "Ontario/urban/L8P",
          "Ontario/urban/L8R",
          "Ontario/urban/N4N",
          "Ontario/rural/N0R",
          "Ontario/urban/K6A",
          "Ontario/rural/P0L",
          "Ontario/urban/P1H",
          "Ontario/urban/N5C",
          "Ontario/rural/P0K",
          "Ontario/urban/K2M",
          "Ontario/urban/P5N",
          "Ontario/urban/P9N",
          "Ontario/rural/P0M",
          "Ontario/urban/N2Z",
          "Ontario/urban/K7L",
          "Ontario/urban/P2N",
          "Ontario/urban/N2G",
          "Ontario/urban/N2M",
          "Ontario/rural/K0C",
          "Ontario/urban/K9V",
          "Ontario/rural/N0H",
          "Ontario/urban/N4W",
          "Ontario/rural/P0P",
          "Ontario/urban/N5Z",
          "Ontario/urban/N6H",
          "Ontario/rural/P0C",
          "Ontario/rural/K0K",
          "Ontario/rural/P0T",
          "Ontario/rural/P0P",
          "Ontario/rural/P0T",
          "Ontario/urban/L6B",
          "Ontario/rural/P0H",
          "Ontario/rural/P0L",
          "Ontario/urban/L4R",
          "Ontario/urban/L9T",
          "Ontario/rural/P0P",
          "Ontario/rural/P0M",
          "Ontario/urban/L5B",
          "Ontario/urban/L5M",
          "Ontario/rural/N0G",
          "Ontario/rural/N0L",
          "Ontario/rural/P0T",
          "Ontario/urban/K2J",
          "Ontario/rural/P0J",
          "Ontario/urban/L3Y",
          "Ontario/urban/L2E",
          "Ontario/rural/P0T",
          "Ontario/urban/P1A",
          "Ontario/urban/P1B",
          "Ontario/rural/K0H",
          "Ontario/urban/L6H",
          "Ontario/urban/L6K",
          "Ontario/rural/N0A",
          "Ontario/urban/L9W",
          "Ontario/urban/L3V",
          "Ontario/urban/K1C",
          "Ontario/rural/L0L",
          "Ontario/urban/L1G",
          "Ontario/urban/K1G",
          "Ontario/urban/K1J",
          "Ontario/urban/K1K",
          "Ontario/urban/K1L",
          "Ontario/urban/K1N",
          "Ontario/urban/K1V",
          "Ontario/urban/K1Y",
          "Ontario/urban/K4A",
          "Ontario/urban/N4K",
          "Ontario/urban/N3L",
          "Ontario/urban/P2A",
          "Ontario/rural/N0R",
          "Ontario/urban/K8A",
          "Ontario/urban/K8H",
          "Ontario/urban/K9H",
          "Ontario/urban/K9J",
          "Ontario/rural/N0N",
          "Ontario/urban/L1V",
          "Ontario/rural/K0K",
          "Ontario/rural/K0J",
          "Ontario/rural/K0B",
          "Ontario/urban/L9L",
          "Ontario/rural/P0H",
          "Ontario/rural/K0E",
          "Ontario/rural/P0V",
          "Ontario/urban/K4K",
          "Ontario/urban/N7S",
          "Ontario/urban/N7T",
          "Ontario/rural/N0H",
          "Ontario/urban/P6A",
          "Ontario/urban/P6B",
          "Ontario/urban/M1P",
          "Ontario/urban/M1V",
          "Ontario/rural/P0T",
          "Ontario/rural/N0K",
          "Ontario/rural/K0H",
          "Ontario/urban/P8T",
          "Ontario/rural/P0X",
          "Ontario/urban/K7A",
          "Ontario/rural/L0R",
          "Ontario/urban/L2R",
          "Ontario/urban/N4X",
          "Ontario/urban/N5A",
          "Ontario/urban/P2B",
          "Ontario/urban/P3A",
          "Ontario/urban/P3C",
          "Ontario/rural/L0E",
          "Ontario/rural/P0H",
          "Ontario/rural/P0R",
          "Ontario/rural/P0H",
          "Ontario/urban/P7B",
          "Ontario/urban/P7E",
          "Ontario/rural/N0P",
          "Ontario/urban/P4N",
          "Ontario/urban/M1R",
          "Ontario/urban/M3B",
          "Ontario/urban/M3C",
          "Ontario/urban/M3N",
          "Ontario/urban/M4C",
          "Ontario/urban/M4K",
          "Ontario/urban/M4N",
          "Ontario/urban/M4X",
          "Ontario/urban/M5A",
          "Ontario/urban/M5C",
          "Ontario/urban/M5G",
          "Ontario/urban/M5S",
          "Ontario/urban/M5T",
          "Ontario/urban/M6K",
          "Ontario/urban/M6M",
          "Ontario/urban/M6R",
          "Ontario/urban/M8Z",
          "Ontario/urban/M9N",
          "Ontario/urban/M9W",
          "Ontario/rural/P0T",
          "Ontario/rural/P0V",
          "Ontario/rural/N0G",
          "Ontario/rural/P0S",
          "Ontario/urban/L3C",
          "Ontario/rural/P0M",
          "Ontario/rural/K0J",
          "Ontario/rural/K0C",
          "Ontario/urban/N8X",
          "Ontario/urban/L4H",
          "Ontario/urban/M6M",
          "Ontario/rural/N0M",
          "Ontario/rural",
          "Ontario/rural",
          "Ontario/rural",
          "Ontario/rural",
          "Ontario/rural",
          "Ontario/rural",
          "Ontario/rural",
          "Ontario/rural",
          "Ontario/rural",
          "Ontario/urban",
          "Ontario/urban",
          "Ontario/urban",
          "Ontario/urban",
          "Ontario/urban",
          "Ontario/urban",
          "Ontario/urban",
          "Ontario/urban",
          "Ontario/urban",
          "Ontario/urban",
          "Ontario/urban",
          "Ontario/urban",
          "Ontario/urban",
          "Ontario/urban",
          "Ontario/urban",
          "Ontario/urban",
          "Ontario/urban",
          "Ontario/urban",
          "Ontario/urban",
          "Ontario/urban",
          "Ontario/urban",
          "Ontario/urban",
          "Ontario/urban",
          "Ontario/urban",
          "Ontario/urban",
          "Ontario/urban",
          "Ontario/rural",
          "Ontario/rural",
          "Ontario/rural",
          "Ontario/urban",
          "Ontario/urban",
          "Ontario/urban",
          "Ontario/urban",
          "Ontario/urban",
          "Ontario/urban",
          "Ontario/urban",
          "Ontario/urban",
          "Ontario/urban",
          "Ontario/urban",
          "Ontario/urban",
          "Ontario/urban",
          "Ontario/urban",
          "Ontario/urban",
          "Ontario/urban",
          "Ontario/urban",
          "Ontario/urban",
          "Ontario/urban",
          "Ontario/urban",
          "Ontario/urban",
          "Ontario/urban",
          "Ontario/urban",
          "Ontario/urban",
          "Ontario/urban",
          "Ontario/urban",
          "Ontario/urban",
          "Ontario/urban",
          "Ontario/urban",
          "Ontario/urban",
          "Ontario/urban",
          "Ontario/urban",
          "Ontario/urban",
          "Ontario/urban",
          "Ontario/urban",
          "Ontario/urban",
          "Ontario/urban",
          "Ontario/urban",
          "Ontario/urban",
          "Ontario/urban",
          "Ontario/urban",
          "Ontario/urban",
          "Ontario/urban",
          "Ontario/urban",
          "Ontario/urban",
          "Ontario/urban",
          "Ontario/urban",
          "Ontario/urban",
          "Ontario/urban",
          "Ontario/urban",
          "Ontario/urban",
          "Ontario/urban",
          "Ontario/rural",
          "Ontario/rural",
          "Ontario/rural",
          "Ontario/rural",
          "Ontario/rural",
          "Ontario/rural",
          "Ontario/rural",
          "Ontario/rural",
          "Ontario/rural",
          "Ontario/rural",
          "Ontario/urban",
          "Ontario/urban",
          "Ontario/urban",
          "Ontario/urban",
          "Ontario/urban",
          "Ontario/urban",
          "Ontario/urban",
          "Ontario/urban",
          "Ontario/urban",
          "Ontario/urban",
          "Ontario/urban",
          "Ontario/urban",
          "Ontario/urban",
          "Ontario/urban",
          "Ontario/urban",
          "Ontario/urban",
          "Ontario/urban",
          "Ontario/urban",
          "Ontario/urban",
          "Ontario/urban",
          "Ontario/urban",
          "Ontario/urban",
          "Ontario/urban",
          "Ontario/urban",
          "Ontario/urban",
          "Ontario/urban",
          "Ontario/rural",
          "Ontario/rural",
          "Ontario/rural",
          "Ontario/rural",
          "Ontario/rural",
          "Ontario/rural",
          "Ontario/rural",
          "Ontario/rural",
          "Ontario/rural",
          "Ontario/rural",
          "Ontario/rural",
          "Ontario/rural",
          "Ontario/rural",
          "Ontario/urban",
          "Ontario/urban",
          "Ontario/urban",
          "Ontario/urban",
          "Ontario/urban",
          "Ontario/urban",
          "Ontario/urban",
          "Ontario/urban",
          "Ontario/urban",
          "Ontario/urban",
          "Ontario/urban",
          "Ontario/urban",
          "Ontario/urban",
          "Ontario/urban",
          "Ontario/urban",
          "Ontario/urban",
          "Ontario/urban",
          "Ontario/urban",
          "Ontario/urban",
          "Ontario/urban",
          "Ontario/urban",
          "Ontario/urban",
          "Ontario",
          "Ontario",
          ""
         ],
         "root": {
          "color": "lightgrey"
         },
         "type": "treemap",
         "values": [
          30440,
          25949,
          55813,
          21688,
          8395,
          3200,
          14265,
          19824.5,
          3200,
          15625,
          39071,
          46902,
          100835,
          8580.5,
          41801,
          3200,
          16734.333333333332,
          30393,
          6488,
          17984,
          42392,
          23547,
          76113,
          28962.5,
          28174,
          17822,
          13160,
          12207,
          42928,
          39071,
          8287.833333333334,
          55813,
          8287.833333333334,
          25127,
          34588.5,
          26757,
          5714.75,
          28925,
          4057,
          8580.5,
          8223,
          28962.5,
          28978.333333333332,
          9619,
          5085,
          7648,
          11372,
          5044.75,
          27530,
          86919,
          5427,
          11819,
          5714.75,
          26907.5,
          18498,
          8287.833333333334,
          10079,
          4859,
          48051,
          3200,
          0,
          12495,
          42178,
          15978.5,
          5044.75,
          26907.5,
          13774,
          24773,
          11651,
          10341,
          16734.333333333332,
          12529,
          5714.75,
          18099,
          15721,
          11456,
          28708,
          8260,
          14088,
          8287.833333333334,
          12341,
          19621,
          6944,
          14580,
          36494,
          26419,
          29369,
          26837,
          13311,
          8114,
          24067,
          44215,
          4824,
          28962.5,
          3200,
          4057,
          3200,
          34763,
          7977.25,
          5714.75,
          19245,
          110956,
          4057,
          8287.833333333334,
          67131,
          106468,
          28978.333333333332,
          49817,
          3200,
          81863,
          10089.5,
          43556,
          18587,
          3200,
          16959,
          33113,
          23643,
          72662,
          14118,
          15978.5,
          48790,
          48651,
          37235,
          42022,
          43497,
          35074,
          28268,
          32046,
          18213,
          26639,
          57157,
          20712,
          62125,
          28975,
          17676,
          14695,
          16734.333333333332,
          26392,
          16188,
          29704,
          44547,
          42297,
          52787,
          28962.5,
          8580.5,
          21020,
          14620,
          7977.25,
          19824.5,
          7648,
          16958,
          28410,
          26033,
          26837,
          33800,
          22754,
          45170,
          50825,
          3200,
          24817,
          23643,
          5541,
          8410,
          17575,
          41801,
          25558,
          9946,
          32898,
          9754,
          24326,
          17596,
          21898,
          7977.25,
          6488,
          7977.25,
          22675,
          20897,
          53140,
          24098,
          30467,
          12880,
          39616,
          40846,
          46440,
          30913,
          16058,
          19896,
          48978,
          3149,
          9751,
          17074,
          17903,
          42110,
          21074,
          19349,
          19312,
          26059,
          40977,
          3200,
          7648,
          28978.333333333332,
          5085,
          33462,
          8287.833333333334,
          8580.5,
          26419,
          16457,
          77353,
          21074,
          34588.5,
          111626,
          21020,
          52838,
          39649,
          47286,
          34322,
          115850,
          78142,
          53815,
          37235,
          35074,
          28268,
          32046,
          18213,
          26639,
          57157,
          20712,
          81863,
          28708,
          62125,
          16958,
          12529,
          30440,
          28174,
          17575,
          19621,
          8395,
          14265,
          26392,
          16188,
          30393,
          26757,
          29704,
          44547,
          29369,
          21898,
          42022,
          83602,
          43497,
          52787,
          18587,
          25558,
          33462,
          48651,
          43556,
          77353,
          46902,
          100835,
          19245,
          67131,
          106468,
          34763,
          72662,
          14118,
          42392,
          23547,
          76113,
          48051,
          13160,
          12207,
          13774,
          24773,
          11651,
          14620,
          25949,
          110956,
          48790,
          28925,
          45170,
          30467,
          50825,
          12880,
          39616,
          40846,
          46440,
          30913,
          16058,
          19896,
          48978,
          3149,
          9751,
          17074,
          17903,
          42110,
          42148,
          19349,
          19312,
          26059,
          40977,
          31957,
          86919,
          86935,
          53674,
          24817,
          49817,
          69177,
          42297,
          53140,
          50203,
          42178,
          18498,
          42928,
          14580,
          36494,
          12341,
          17676,
          8223,
          28975,
          10341,
          13311,
          9946,
          32898,
          15721,
          15625,
          24067,
          44215,
          12495,
          25127,
          28410,
          26033,
          27530,
          11819,
          16457,
          21688,
          0,
          17822,
          4824,
          31909,
          20179,
          11456,
          22859,
          49727,
          20285,
          12976,
          10170,
          32000,
          22944,
          8410,
          16959,
          33113,
          18099,
          17984,
          14695,
          9754,
          6944,
          24326,
          17596,
          24098,
          11372,
          5427,
          8260,
          33800,
          22754,
          22675,
          20897,
          4859,
          9619,
          5541,
          10079,
          14088,
          1516567,
          3610266,
          5126833
         ]
        }
       ],
       "layout": {
        "autosize": true,
        "coloraxis": {
         "cmid": null,
         "colorbar": {
          "title": {
           "text": "pop_count"
          }
         },
         "colorscale": [
          [
           0,
           "rgb(103,0,31)"
          ],
          [
           0.1,
           "rgb(178,24,43)"
          ],
          [
           0.2,
           "rgb(214,96,77)"
          ],
          [
           0.3,
           "rgb(244,165,130)"
          ],
          [
           0.4,
           "rgb(253,219,199)"
          ],
          [
           0.5,
           "rgb(247,247,247)"
          ],
          [
           0.6,
           "rgb(209,229,240)"
          ],
          [
           0.7,
           "rgb(146,197,222)"
          ],
          [
           0.8,
           "rgb(67,147,195)"
          ],
          [
           0.9,
           "rgb(33,102,172)"
          ],
          [
           1,
           "rgb(5,48,97)"
          ]
         ]
        },
        "legend": {
         "tracegroupgap": 0
        },
        "margin": {
         "b": 25,
         "l": 25,
         "r": 25,
         "t": 50
        },
        "template": {
         "data": {
          "bar": [
           {
            "error_x": {
             "color": "#2a3f5f"
            },
            "error_y": {
             "color": "#2a3f5f"
            },
            "marker": {
             "line": {
              "color": "#E5ECF6",
              "width": 0.5
             },
             "pattern": {
              "fillmode": "overlay",
              "size": 10,
              "solidity": 0.2
             }
            },
            "type": "bar"
           }
          ],
          "barpolar": [
           {
            "marker": {
             "line": {
              "color": "#E5ECF6",
              "width": 0.5
             },
             "pattern": {
              "fillmode": "overlay",
              "size": 10,
              "solidity": 0.2
             }
            },
            "type": "barpolar"
           }
          ],
          "carpet": [
           {
            "aaxis": {
             "endlinecolor": "#2a3f5f",
             "gridcolor": "white",
             "linecolor": "white",
             "minorgridcolor": "white",
             "startlinecolor": "#2a3f5f"
            },
            "baxis": {
             "endlinecolor": "#2a3f5f",
             "gridcolor": "white",
             "linecolor": "white",
             "minorgridcolor": "white",
             "startlinecolor": "#2a3f5f"
            },
            "type": "carpet"
           }
          ],
          "choropleth": [
           {
            "colorbar": {
             "outlinewidth": 0,
             "ticks": ""
            },
            "type": "choropleth"
           }
          ],
          "contour": [
           {
            "colorbar": {
             "outlinewidth": 0,
             "ticks": ""
            },
            "colorscale": [
             [
              0,
              "#0d0887"
             ],
             [
              0.1111111111111111,
              "#46039f"
             ],
             [
              0.2222222222222222,
              "#7201a8"
             ],
             [
              0.3333333333333333,
              "#9c179e"
             ],
             [
              0.4444444444444444,
              "#bd3786"
             ],
             [
              0.5555555555555556,
              "#d8576b"
             ],
             [
              0.6666666666666666,
              "#ed7953"
             ],
             [
              0.7777777777777778,
              "#fb9f3a"
             ],
             [
              0.8888888888888888,
              "#fdca26"
             ],
             [
              1,
              "#f0f921"
             ]
            ],
            "type": "contour"
           }
          ],
          "contourcarpet": [
           {
            "colorbar": {
             "outlinewidth": 0,
             "ticks": ""
            },
            "type": "contourcarpet"
           }
          ],
          "heatmap": [
           {
            "colorbar": {
             "outlinewidth": 0,
             "ticks": ""
            },
            "colorscale": [
             [
              0,
              "#0d0887"
             ],
             [
              0.1111111111111111,
              "#46039f"
             ],
             [
              0.2222222222222222,
              "#7201a8"
             ],
             [
              0.3333333333333333,
              "#9c179e"
             ],
             [
              0.4444444444444444,
              "#bd3786"
             ],
             [
              0.5555555555555556,
              "#d8576b"
             ],
             [
              0.6666666666666666,
              "#ed7953"
             ],
             [
              0.7777777777777778,
              "#fb9f3a"
             ],
             [
              0.8888888888888888,
              "#fdca26"
             ],
             [
              1,
              "#f0f921"
             ]
            ],
            "type": "heatmap"
           }
          ],
          "heatmapgl": [
           {
            "colorbar": {
             "outlinewidth": 0,
             "ticks": ""
            },
            "colorscale": [
             [
              0,
              "#0d0887"
             ],
             [
              0.1111111111111111,
              "#46039f"
             ],
             [
              0.2222222222222222,
              "#7201a8"
             ],
             [
              0.3333333333333333,
              "#9c179e"
             ],
             [
              0.4444444444444444,
              "#bd3786"
             ],
             [
              0.5555555555555556,
              "#d8576b"
             ],
             [
              0.6666666666666666,
              "#ed7953"
             ],
             [
              0.7777777777777778,
              "#fb9f3a"
             ],
             [
              0.8888888888888888,
              "#fdca26"
             ],
             [
              1,
              "#f0f921"
             ]
            ],
            "type": "heatmapgl"
           }
          ],
          "histogram": [
           {
            "marker": {
             "pattern": {
              "fillmode": "overlay",
              "size": 10,
              "solidity": 0.2
             }
            },
            "type": "histogram"
           }
          ],
          "histogram2d": [
           {
            "colorbar": {
             "outlinewidth": 0,
             "ticks": ""
            },
            "colorscale": [
             [
              0,
              "#0d0887"
             ],
             [
              0.1111111111111111,
              "#46039f"
             ],
             [
              0.2222222222222222,
              "#7201a8"
             ],
             [
              0.3333333333333333,
              "#9c179e"
             ],
             [
              0.4444444444444444,
              "#bd3786"
             ],
             [
              0.5555555555555556,
              "#d8576b"
             ],
             [
              0.6666666666666666,
              "#ed7953"
             ],
             [
              0.7777777777777778,
              "#fb9f3a"
             ],
             [
              0.8888888888888888,
              "#fdca26"
             ],
             [
              1,
              "#f0f921"
             ]
            ],
            "type": "histogram2d"
           }
          ],
          "histogram2dcontour": [
           {
            "colorbar": {
             "outlinewidth": 0,
             "ticks": ""
            },
            "colorscale": [
             [
              0,
              "#0d0887"
             ],
             [
              0.1111111111111111,
              "#46039f"
             ],
             [
              0.2222222222222222,
              "#7201a8"
             ],
             [
              0.3333333333333333,
              "#9c179e"
             ],
             [
              0.4444444444444444,
              "#bd3786"
             ],
             [
              0.5555555555555556,
              "#d8576b"
             ],
             [
              0.6666666666666666,
              "#ed7953"
             ],
             [
              0.7777777777777778,
              "#fb9f3a"
             ],
             [
              0.8888888888888888,
              "#fdca26"
             ],
             [
              1,
              "#f0f921"
             ]
            ],
            "type": "histogram2dcontour"
           }
          ],
          "mesh3d": [
           {
            "colorbar": {
             "outlinewidth": 0,
             "ticks": ""
            },
            "type": "mesh3d"
           }
          ],
          "parcoords": [
           {
            "line": {
             "colorbar": {
              "outlinewidth": 0,
              "ticks": ""
             }
            },
            "type": "parcoords"
           }
          ],
          "pie": [
           {
            "automargin": true,
            "type": "pie"
           }
          ],
          "scatter": [
           {
            "fillpattern": {
             "fillmode": "overlay",
             "size": 10,
             "solidity": 0.2
            },
            "type": "scatter"
           }
          ],
          "scatter3d": [
           {
            "line": {
             "colorbar": {
              "outlinewidth": 0,
              "ticks": ""
             }
            },
            "marker": {
             "colorbar": {
              "outlinewidth": 0,
              "ticks": ""
             }
            },
            "type": "scatter3d"
           }
          ],
          "scattercarpet": [
           {
            "marker": {
             "colorbar": {
              "outlinewidth": 0,
              "ticks": ""
             }
            },
            "type": "scattercarpet"
           }
          ],
          "scattergeo": [
           {
            "marker": {
             "colorbar": {
              "outlinewidth": 0,
              "ticks": ""
             }
            },
            "type": "scattergeo"
           }
          ],
          "scattergl": [
           {
            "marker": {
             "colorbar": {
              "outlinewidth": 0,
              "ticks": ""
             }
            },
            "type": "scattergl"
           }
          ],
          "scattermapbox": [
           {
            "marker": {
             "colorbar": {
              "outlinewidth": 0,
              "ticks": ""
             }
            },
            "type": "scattermapbox"
           }
          ],
          "scatterpolar": [
           {
            "marker": {
             "colorbar": {
              "outlinewidth": 0,
              "ticks": ""
             }
            },
            "type": "scatterpolar"
           }
          ],
          "scatterpolargl": [
           {
            "marker": {
             "colorbar": {
              "outlinewidth": 0,
              "ticks": ""
             }
            },
            "type": "scatterpolargl"
           }
          ],
          "scatterternary": [
           {
            "marker": {
             "colorbar": {
              "outlinewidth": 0,
              "ticks": ""
             }
            },
            "type": "scatterternary"
           }
          ],
          "surface": [
           {
            "colorbar": {
             "outlinewidth": 0,
             "ticks": ""
            },
            "colorscale": [
             [
              0,
              "#0d0887"
             ],
             [
              0.1111111111111111,
              "#46039f"
             ],
             [
              0.2222222222222222,
              "#7201a8"
             ],
             [
              0.3333333333333333,
              "#9c179e"
             ],
             [
              0.4444444444444444,
              "#bd3786"
             ],
             [
              0.5555555555555556,
              "#d8576b"
             ],
             [
              0.6666666666666666,
              "#ed7953"
             ],
             [
              0.7777777777777778,
              "#fb9f3a"
             ],
             [
              0.8888888888888888,
              "#fdca26"
             ],
             [
              1,
              "#f0f921"
             ]
            ],
            "type": "surface"
           }
          ],
          "table": [
           {
            "cells": {
             "fill": {
              "color": "#EBF0F8"
             },
             "line": {
              "color": "white"
             }
            },
            "header": {
             "fill": {
              "color": "#C8D4E3"
             },
             "line": {
              "color": "white"
             }
            },
            "type": "table"
           }
          ]
         },
         "layout": {
          "annotationdefaults": {
           "arrowcolor": "#2a3f5f",
           "arrowhead": 0,
           "arrowwidth": 1
          },
          "autotypenumbers": "strict",
          "coloraxis": {
           "colorbar": {
            "outlinewidth": 0,
            "ticks": ""
           }
          },
          "colorscale": {
           "diverging": [
            [
             0,
             "#8e0152"
            ],
            [
             0.1,
             "#c51b7d"
            ],
            [
             0.2,
             "#de77ae"
            ],
            [
             0.3,
             "#f1b6da"
            ],
            [
             0.4,
             "#fde0ef"
            ],
            [
             0.5,
             "#f7f7f7"
            ],
            [
             0.6,
             "#e6f5d0"
            ],
            [
             0.7,
             "#b8e186"
            ],
            [
             0.8,
             "#7fbc41"
            ],
            [
             0.9,
             "#4d9221"
            ],
            [
             1,
             "#276419"
            ]
           ],
           "sequential": [
            [
             0,
             "#0d0887"
            ],
            [
             0.1111111111111111,
             "#46039f"
            ],
            [
             0.2222222222222222,
             "#7201a8"
            ],
            [
             0.3333333333333333,
             "#9c179e"
            ],
            [
             0.4444444444444444,
             "#bd3786"
            ],
            [
             0.5555555555555556,
             "#d8576b"
            ],
            [
             0.6666666666666666,
             "#ed7953"
            ],
            [
             0.7777777777777778,
             "#fb9f3a"
            ],
            [
             0.8888888888888888,
             "#fdca26"
            ],
            [
             1,
             "#f0f921"
            ]
           ],
           "sequentialminus": [
            [
             0,
             "#0d0887"
            ],
            [
             0.1111111111111111,
             "#46039f"
            ],
            [
             0.2222222222222222,
             "#7201a8"
            ],
            [
             0.3333333333333333,
             "#9c179e"
            ],
            [
             0.4444444444444444,
             "#bd3786"
            ],
            [
             0.5555555555555556,
             "#d8576b"
            ],
            [
             0.6666666666666666,
             "#ed7953"
            ],
            [
             0.7777777777777778,
             "#fb9f3a"
            ],
            [
             0.8888888888888888,
             "#fdca26"
            ],
            [
             1,
             "#f0f921"
            ]
           ]
          },
          "colorway": [
           "#636efa",
           "#EF553B",
           "#00cc96",
           "#ab63fa",
           "#FFA15A",
           "#19d3f3",
           "#FF6692",
           "#B6E880",
           "#FF97FF",
           "#FECB52"
          ],
          "font": {
           "color": "#2a3f5f"
          },
          "geo": {
           "bgcolor": "white",
           "lakecolor": "white",
           "landcolor": "#E5ECF6",
           "showlakes": true,
           "showland": true,
           "subunitcolor": "white"
          },
          "hoverlabel": {
           "align": "left"
          },
          "hovermode": "closest",
          "mapbox": {
           "style": "light"
          },
          "paper_bgcolor": "white",
          "plot_bgcolor": "#E5ECF6",
          "polar": {
           "angularaxis": {
            "gridcolor": "white",
            "linecolor": "white",
            "ticks": ""
           },
           "bgcolor": "#E5ECF6",
           "radialaxis": {
            "gridcolor": "white",
            "linecolor": "white",
            "ticks": ""
           }
          },
          "scene": {
           "xaxis": {
            "backgroundcolor": "#E5ECF6",
            "gridcolor": "white",
            "gridwidth": 2,
            "linecolor": "white",
            "showbackground": true,
            "ticks": "",
            "zerolinecolor": "white"
           },
           "yaxis": {
            "backgroundcolor": "#E5ECF6",
            "gridcolor": "white",
            "gridwidth": 2,
            "linecolor": "white",
            "showbackground": true,
            "ticks": "",
            "zerolinecolor": "white"
           },
           "zaxis": {
            "backgroundcolor": "#E5ECF6",
            "gridcolor": "white",
            "gridwidth": 2,
            "linecolor": "white",
            "showbackground": true,
            "ticks": "",
            "zerolinecolor": "white"
           }
          },
          "shapedefaults": {
           "line": {
            "color": "#2a3f5f"
           }
          },
          "ternary": {
           "aaxis": {
            "gridcolor": "white",
            "linecolor": "white",
            "ticks": ""
           },
           "baxis": {
            "gridcolor": "white",
            "linecolor": "white",
            "ticks": ""
           },
           "bgcolor": "#E5ECF6",
           "caxis": {
            "gridcolor": "white",
            "linecolor": "white",
            "ticks": ""
           }
          },
          "title": {
           "x": 0.05
          },
          "xaxis": {
           "automargin": true,
           "gridcolor": "white",
           "linecolor": "white",
           "ticks": "",
           "title": {
            "standoff": 15
           },
           "zerolinecolor": "white",
           "zerolinewidth": 2
          },
          "yaxis": {
           "automargin": true,
           "gridcolor": "white",
           "linecolor": "white",
           "ticks": "",
           "title": {
            "standoff": 15
           },
           "zerolinecolor": "white",
           "zerolinewidth": 2
          }
         }
        }
       }
      },
      "image/png": "[encoded data removed]",
      "text/html": [
       "<div>                            <div id=\"18c04a15-c7b4-4294-80ee-15caf43cfe04\" class=\"plotly-graph-div\" style=\"height:525px; width:100%;\"></div>            <script type=\"text/javascript\">                require([\"plotly\"], function(Plotly) {                    window.PLOTLYENV=window.PLOTLYENV || {};                                    if (document.getElementById(\"18c04a15-c7b4-4294-80ee-15caf43cfe04\")) {                    Plotly.newPlot(                        \"18c04a15-c7b4-4294-80ee-15caf43cfe04\",                        [{\"branchvalues\":\"total\",\"customdata\":[[30440.0,\"Akwesasne\",1.0],[25949.0,\"Alliston\",1.0],[111626.0,\"Almonte\",2.0],[21688.0,\"Amherstburg\",1.0],[8395.0,\"Amherstview\",1.0],[32000.0,\"Armstrong Station\",10.0],[14265.0,\"Arnprior\",1.0],[39649.0,\"Athens\",2.0],[32000.0,\"Atikokan\",10.0],[15625.0,\"Aylmer\",1.0],[78142.0,\"Bancroft\",2.0],[46902.0,\"Barrie\",2.0],[100835.0,\"Barrie\",1.0],[34322.0,\"Barry's Bay\",4.0],[83602.0,\"Beamsville\",2.0],[32000.0,\"Beardmore\",10.0],[50203.0,\"Belle River\",3.0],[30393.0,\"Belleville\",1.0],[12976.0,\"Blind River\",2.0],[17984.0,\"Bracebridge\",1.0],[42392.0,\"Brampton\",1.0],[23547.0,\"Brampton\",1.0],[76113.0,\"Brampton\",1.0],[115850.0,\"Brighton\",4.0],[28174.0,\"Brockville\",2.0],[17822.0,\"Burk's Falls\",1.0],[13160.0,\"Burlington\",1.0],[12207.0,\"Burlington\",1.0],[42928.0,\"Cambridge\",3.0],[78142.0,\"Campbellford\",2.0],[49727.0,\"Capreol\",6.0],[111626.0,\"Carp\",2.0],[49727.0,\"Chapleau\",6.0],[25127.0,\"Chatham\",2.0],[69177.0,\"Clinton\",2.0],[26757.0,\"Cobourg\",1.0],[22859.0,\"Cochrane\",4.0],[28925.0,\"Collingwood\",1.0],[20285.0,\"Cutler\",5.0],[34322.0,\"Deep River\",4.0],[8223.0,\"Delhi\",1.0],[115850.0,\"Deseronto\",4.0],[86935.0,\"Drayton\",3.0],[9619.0,\"Dryden\",1.0],[10170.0,\"Dubreuilville\",2.0],[22944.0,\"Ear Falls\",3.0],[11372.0,\"Elliot Lake\",1.0],[20179.0,\"Englehart\",4.0],[27530.0,\"Erie Shores\",1.0],[86919.0,\"Erin\",1.0],[5427.0,\"Espanola\",1.0],[11819.0,\"Essex\",1.0],[22859.0,\"Fauquier\",4.0],[53815.0,\"Fenelon Falls\",2.0],[18498.0,\"Fergus\",1.0],[49727.0,\"Foleyet\",6.0],[10079.0,\"Fort Frances\",2.0],[4859.0,\"Fort William\",1.0],[48051.0,\"Georgetown\",1.0],[32000.0,\"Geraldton\",10.0],[null,\"Glencoe\",null],[12495.0,\"Goderich\",1.0],[42178.0,\"Guelph\",2.0],[31957.0,\"Hagersville\",2.0],[20179.0,\"Haileybury\",4.0],[53815.0,\"Haliburton\",2.0],[13774.0,\"Hamilton\",1.0],[24773.0,\"Hamilton\",1.0],[11651.0,\"Hamilton\",1.0],[10341.0,\"Hanover\",1.0],[50203.0,\"Harrow\",3.0],[12529.0,\"Hawkesbury\",1.0],[22859.0,\"Hearst\",4.0],[18099.0,\"Huntsville\",2.0],[15721.0,\"Ingersoll\",1.0],[11456.0,\"Iroquois Falls\",1.0],[28708.0,\"Kanata\",1.0],[8260.0,\"Kapuskasing\",1.0],[14088.0,\"Kenora\",3.0],[49727.0,\"Killarney\",6.0],[12341.0,\"Kincardine\",1.0],[19621.0,\"Kingston\",3.0],[6944.0,\"Kirkland Lake\",1.0],[14580.0,\"Kitchener\",1.0],[36494.0,\"Kitchener\",1.0],[52838.0,\"Lancaster\",2.0],[29369.0,\"Lindsay\",1.0],[53674.0,\"Lion's Head\",2.0],[13311.0,\"Listowel\",1.0],[20285.0,\"Little Current\",5.0],[24067.0,\"London\",1.0],[44215.0,\"London\",2.0],[4824.0,\"Mactier\",1.0],[115850.0,\"Madoc\",4.0],[32000.0,\"Manitouwadge\",10.0],[20285.0,\"Manitowaning\",5.0],[32000.0,\"Marathon\",10.0],[34763.0,\"Markham\",2.0],[31909.0,\"Mattawa\",4.0],[22859.0,\"Mattice Val Cote\",4.0],[19245.0,\"Midland\",1.0],[110956.0,\"Milton\",1.0],[20285.0,\"Mindemoya\",5.0],[49727.0,\"Missanabie\",6.0],[67131.0,\"Mississauga\",1.0],[106468.0,\"Mississauga\",1.0],[86935.0,\"Mount Forest\",3.0],[49817.0,\"Muncey\",1.0],[32000.0,\"Nakina\",10.0],[81863.0,\"Nepean\",1.0],[20179.0,\"New Liskeard\",4.0],[43556.0,\"Newmarket\",2.0],[18587.0,\"Niagara Falls\",2.0],[32000.0,\"Nipigon\",10.0],[16959.0,\"North Bay\",1.0],[33113.0,\"North Bay\",2.0],[47286.0,\"Northbrook\",2.0],[72662.0,\"Oakville\",1.0],[14118.0,\"Oakville\",1.0],[31957.0,\"Ohsweken\",2.0],[48790.0,\"Orangeville\",1.0],[48651.0,\"Orillia\",1.0],[37235.0,\"Orl\\u00c3\\u00a9ans\",1.0],[42022.0,\"Oro-Medonte\",1.0],[43497.0,\"Oshawa\",1.0],[35074.0,\"Ottawa\",1.0],[28268.0,\"Ottawa\",1.0],[32046.0,\"Ottawa\",1.0],[18213.0,\"Ottawa\",2.0],[26639.0,\"Ottawa\",1.0],[57157.0,\"Ottawa\",1.0],[20712.0,\"Ottawa\",1.0],[62125.0,\"Ottawa\",1.0],[28975.0,\"Owen Sound\",1.0],[17676.0,\"Paris\",1.0],[14695.0,\"Parry Sound\",3.0],[50203.0,\"Pelee Island\",3.0],[26392.0,\"Pembroke\",1.0],[16188.0,\"Petawawa\",1.0],[29704.0,\"Peterborough\",1.0],[44547.0,\"Peterborough\",1.0],[42297.0,\"Petrolia\",1.0],[52787.0,\"Pickering\",1.0],[115850.0,\"Picton\",4.0],[34322.0,\"Pikwakanagan\",4.0],[21020.0,\"Plantagenet\",1.0],[14620.0,\"Port Perry\",1.0],[31909.0,\"Powassan\",4.0],[39649.0,\"Prescott\",2.0],[22944.0,\"Red Lake\",3.0],[16958.0,\"Rockland\",1.0],[28410.0,\"Sarnia\",1.0],[26033.0,\"Sarnia\",1.0],[53674.0,\"Sauble Beach\",2.0],[33800.0,\"Sault Ste. Marie\",1.0],[22754.0,\"Sault Ste. Marie\",1.0],[45170.0,\"Scarborough\",1.0],[50825.0,\"Scarborough\",2.0],[32000.0,\"Schreiber\",10.0],[24817.0,\"Seaforth\",1.0],[47286.0,\"Sharbot Lake\",2.0],[5541.0,\"Sioux Lookout\",1.0],[8410.0,\"Sioux Narrows\",1.0],[17575.0,\"Smiths Falls\",1.0],[83602.0,\"Smithville\",2.0],[25558.0,\"St. Catharines\",1.0],[9946.0,\"St. Marys\",1.0],[32898.0,\"Stratford\",2.0],[9754.0,\"Sturgeon Falls\",1.0],[24326.0,\"Sudbury\",1.0],[17596.0,\"Sudbury\",3.0],[21898.0,\"Sutton\",1.0],[31909.0,\"Temagami\",4.0],[12976.0,\"Thessalon\",2.0],[31909.0,\"Thorne\",4.0],[22675.0,\"Thunder Bay\",4.0],[20897.0,\"Thunder Bay\",1.0],[53140.0,\"Tilbury\",1.0],[24098.0,\"Timmins\",3.0],[30467.0,\"Toronto\",1.0],[12880.0,\"Toronto\",1.0],[39616.0,\"Toronto\",1.0],[40846.0,\"Toronto\",1.0],[46440.0,\"Toronto\",1.0],[30913.0,\"Toronto\",1.0],[16058.0,\"Toronto\",1.0],[19896.0,\"Toronto\",1.0],[48978.0,\"Toronto\",1.0],[3149.0,\"Toronto\",1.0],[9751.0,\"Toronto\",1.0],[17074.0,\"Toronto\",1.0],[17903.0,\"Toronto\",2.0],[42110.0,\"Toronto\",1.0],[42148.0,\"Toronto\",2.0],[19349.0,\"Toronto\",1.0],[19312.0,\"Toronto\",1.0],[26059.0,\"Toronto\",1.0],[40977.0,\"Toronto\",1.0],[32000.0,\"Upsala\",10.0],[22944.0,\"Vermilion Bay\",3.0],[86935.0,\"Walkerton\",3.0],[10170.0,\"Wawa\",2.0],[33462.0,\"Welland\",1.0],[49727.0,\"White River\",6.0],[34322.0,\"Whitney\",4.0],[52838.0,\"Winchester\",2.0],[16457.0,\"Windsor\",1.0],[77353.0,\"Woodbridge\",1.0],[42148.0,\"York\",2.0],[69177.0,\"Zurich\",2.0],[111626.0,\"(?)\",2.0],[21020.0,\"Plantagenet\",1.0],[52838.0,\"(?)\",2.0],[39649.0,\"(?)\",2.0],[47286.0,\"(?)\",2.0],[34322.0,\"(?)\",4.0],[115850.0,\"(?)\",4.0],[78142.0,\"(?)\",2.0],[53815.0,\"(?)\",2.0],[37235.0,\"Orl\\u00c3\\u00a9ans\",1.0],[35074.0,\"Ottawa\",1.0],[28268.0,\"Ottawa\",1.0],[32046.0,\"Ottawa\",1.0],[18213.0,\"Ottawa\",2.0],[26639.0,\"Ottawa\",1.0],[57157.0,\"Ottawa\",1.0],[20712.0,\"Ottawa\",1.0],[81863.0,\"Nepean\",1.0],[28708.0,\"Kanata\",1.0],[62125.0,\"Ottawa\",1.0],[16958.0,\"Rockland\",1.0],[12529.0,\"Hawkesbury\",1.0],[30440.0,\"Akwesasne\",1.0],[28174.0,\"Brockville\",2.0],[17575.0,\"Smiths Falls\",1.0],[19621.0,\"Kingston\",3.0],[8395.0,\"Amherstview\",1.0],[14265.0,\"Arnprior\",1.0],[26392.0,\"Pembroke\",1.0],[16188.0,\"Petawawa\",1.0],[30393.0,\"Belleville\",1.0],[26757.0,\"Cobourg\",1.0],[29704.0,\"Peterborough\",1.0],[44547.0,\"Peterborough\",1.0],[29369.0,\"Lindsay\",1.0],[21898.0,\"Sutton\",1.0],[42022.0,\"Oro-Medonte\",1.0],[83602.0,\"(?)\",2.0],[43497.0,\"Oshawa\",1.0],[52787.0,\"Pickering\",1.0],[18587.0,\"Niagara Falls\",2.0],[25558.0,\"St. Catharines\",1.0],[33462.0,\"Welland\",1.0],[48651.0,\"Orillia\",1.0],[43556.0,\"Newmarket\",2.0],[77353.0,\"Woodbridge\",1.0],[46902.0,\"Barrie\",2.0],[100835.0,\"Barrie\",1.0],[19245.0,\"Midland\",1.0],[67131.0,\"Mississauga\",1.0],[106468.0,\"Mississauga\",1.0],[34763.0,\"Markham\",2.0],[72662.0,\"Oakville\",1.0],[14118.0,\"Oakville\",1.0],[42392.0,\"Brampton\",1.0],[23547.0,\"Brampton\",1.0],[76113.0,\"Brampton\",1.0],[48051.0,\"Georgetown\",1.0],[13160.0,\"Burlington\",1.0],[12207.0,\"Burlington\",1.0],[13774.0,\"Hamilton\",1.0],[24773.0,\"Hamilton\",1.0],[11651.0,\"Hamilton\",1.0],[14620.0,\"Port Perry\",1.0],[25949.0,\"Alliston\",1.0],[110956.0,\"Milton\",1.0],[48790.0,\"Orangeville\",1.0],[28925.0,\"Collingwood\",1.0],[45170.0,\"Scarborough\",1.0],[30467.0,\"Toronto\",1.0],[50825.0,\"Scarborough\",2.0],[12880.0,\"Toronto\",1.0],[39616.0,\"Toronto\",1.0],[40846.0,\"Toronto\",1.0],[46440.0,\"Toronto\",1.0],[30913.0,\"Toronto\",1.0],[16058.0,\"Toronto\",1.0],[19896.0,\"Toronto\",1.0],[48978.0,\"Toronto\",1.0],[3149.0,\"Toronto\",1.0],[9751.0,\"Toronto\",1.0],[17074.0,\"Toronto\",1.0],[17903.0,\"Toronto\",2.0],[42110.0,\"Toronto\",1.0],[42148.0,\"(?)\",2.0],[19349.0,\"Toronto\",1.0],[19312.0,\"Toronto\",1.0],[26059.0,\"Toronto\",1.0],[40977.0,\"Toronto\",1.0],[31957.0,\"(?)\",2.0],[86919.0,\"Erin\",1.0],[86935.0,\"(?)\",3.0],[53674.0,\"(?)\",2.0],[24817.0,\"Seaforth\",1.0],[49817.0,\"Muncey\",1.0],[69177.0,\"(?)\",2.0],[42297.0,\"Petrolia\",1.0],[53140.0,\"Tilbury\",1.0],[50203.0,\"(?)\",3.0],[42178.0,\"Guelph\",2.0],[18498.0,\"Fergus\",1.0],[42928.0,\"Cambridge\",3.0],[14580.0,\"Kitchener\",1.0],[36494.0,\"Kitchener\",1.0],[12341.0,\"Kincardine\",1.0],[17676.0,\"Paris\",1.0],[8223.0,\"Delhi\",1.0],[28975.0,\"Owen Sound\",1.0],[10341.0,\"Hanover\",1.0],[13311.0,\"Listowel\",1.0],[9946.0,\"St. Marys\",1.0],[32898.0,\"Stratford\",2.0],[15721.0,\"Ingersoll\",1.0],[15625.0,\"Aylmer\",1.0],[24067.0,\"London\",1.0],[44215.0,\"London\",2.0],[12495.0,\"Goderich\",1.0],[25127.0,\"Chatham\",2.0],[28410.0,\"Sarnia\",1.0],[26033.0,\"Sarnia\",1.0],[27530.0,\"Erie Shores\",1.0],[11819.0,\"Essex\",1.0],[16457.0,\"Windsor\",1.0],[21688.0,\"Amherstburg\",1.0],[null,\"Glencoe\",null],[17822.0,\"Burk's Falls\",1.0],[4824.0,\"Mactier\",1.0],[31909.0,\"(?)\",4.0],[20179.0,\"(?)\",4.0],[11456.0,\"Iroquois Falls\",1.0],[22859.0,\"(?)\",4.0],[49727.0,\"(?)\",5.999999999999999],[20285.0,\"(?)\",5.0],[12976.0,\"(?)\",2.0],[10170.0,\"(?)\",2.0],[32000.0,\"(?)\",10.0],[22944.0,\"(?)\",3.0],[8410.0,\"Sioux Narrows\",1.0],[16959.0,\"North Bay\",1.0],[33113.0,\"North Bay\",2.0],[18099.0,\"Huntsville\",2.0],[17984.0,\"Bracebridge\",1.0],[14695.0,\"Parry Sound\",3.0],[9754.0,\"Sturgeon Falls\",1.0],[6944.0,\"Kirkland Lake\",1.0],[24326.0,\"Sudbury\",1.0],[17596.0,\"Sudbury\",3.0],[24098.0,\"Timmins\",3.0],[11372.0,\"Elliot Lake\",1.0],[5427.0,\"Espanola\",1.0],[8260.0,\"Kapuskasing\",1.0],[33800.0,\"Sault Ste. Marie\",1.0],[22754.0,\"Sault Ste. Marie\",1.0],[22675.0,\"Thunder Bay\",4.0],[20897.0,\"Thunder Bay\",1.0],[4859.0,\"Fort William\",1.0],[9619.0,\"Dryden\",1.0],[5541.0,\"Sioux Lookout\",1.0],[10079.0,\"Fort Frances\",2.0],[14088.0,\"Kenora\",3.0],[\"(?)\",\"(?)\",2.4890262019416225],[\"(?)\",\"(?)\",null],[\"(?)\",\"(?)\",null]],\"domain\":{\"x\":[0.0,1.0],\"y\":[0.0,1.0]},\"hovertemplate\":\"labels=%{label}\\u003cbr\\u003epop_per_clinic=%{value}\\u003cbr\\u003eparent=%{parent}\\u003cbr\\u003eid=%{id}\\u003cbr\\u003epopulation=%{customdata[0]}\\u003cbr\\u003eCOMMUNITY=%{customdata[1]}\\u003cbr\\u003epop_count=%{color}\\u003cextra\\u003e\\u003c\\u002fextra\\u003e\",\"ids\":[\"Ontario\\u002furban\\u002fK6H\\u002fAkwesasne\",\"Ontario\\u002furban\\u002fL9R\\u002fAlliston\",\"Ontario\\u002frural\\u002fK0A\\u002fAlmonte\",\"Ontario\\u002furban\\u002fN9V\\u002fAmherstburg\",\"Ontario\\u002furban\\u002fK7N\\u002fAmherstview\",\"Ontario\\u002frural\\u002fP0T\\u002fArmstrong Station\",\"Ontario\\u002furban\\u002fK7S\\u002fArnprior\",\"Ontario\\u002frural\\u002fK0E\\u002fAthens\",\"Ontario\\u002frural\\u002fP0T\\u002fAtikokan\",\"Ontario\\u002furban\\u002fN5H\\u002fAylmer\",\"Ontario\\u002frural\\u002fK0L\\u002fBancroft\",\"Ontario\\u002furban\\u002fL4M\\u002fBarrie\",\"Ontario\\u002furban\\u002fL4N\\u002fBarrie\",\"Ontario\\u002frural\\u002fK0J\\u002fBarry's Bay\",\"Ontario\\u002frural\\u002fL0R\\u002fBeamsville\",\"Ontario\\u002frural\\u002fP0T\\u002fBeardmore\",\"Ontario\\u002frural\\u002fN0R\\u002fBelle River\",\"Ontario\\u002furban\\u002fK8N\\u002fBelleville\",\"Ontario\\u002frural\\u002fP0R\\u002fBlind River\",\"Ontario\\u002furban\\u002fP1L\\u002fBracebridge\",\"Ontario\\u002furban\\u002fL6V\\u002fBrampton\",\"Ontario\\u002furban\\u002fL6W\\u002fBrampton\",\"Ontario\\u002furban\\u002fL6X\\u002fBrampton\",\"Ontario\\u002frural\\u002fK0K\\u002fBrighton\",\"Ontario\\u002furban\\u002fK6V\\u002fBrockville\",\"Ontario\\u002frural\\u002fP0A\\u002fBurk's Falls\",\"Ontario\\u002furban\\u002fL7N\\u002fBurlington\",\"Ontario\\u002furban\\u002fL7S\\u002fBurlington\",\"Ontario\\u002furban\\u002fN1R\\u002fCambridge\",\"Ontario\\u002frural\\u002fK0L\\u002fCampbellford\",\"Ontario\\u002frural\\u002fP0M\\u002fCapreol\",\"Ontario\\u002frural\\u002fK0A\\u002fCarp\",\"Ontario\\u002frural\\u002fP0M\\u002fChapleau\",\"Ontario\\u002furban\\u002fN7L\\u002fChatham\",\"Ontario\\u002frural\\u002fN0M\\u002fClinton\",\"Ontario\\u002furban\\u002fK9A\\u002fCobourg\",\"Ontario\\u002frural\\u002fP0L\\u002fCochrane\",\"Ontario\\u002furban\\u002fL9Y\\u002fCollingwood\",\"Ontario\\u002frural\\u002fP0P\\u002fCutler\",\"Ontario\\u002frural\\u002fK0J\\u002fDeep River\",\"Ontario\\u002furban\\u002fN4B\\u002fDelhi\",\"Ontario\\u002frural\\u002fK0K\\u002fDeseronto\",\"Ontario\\u002frural\\u002fN0G\\u002fDrayton\",\"Ontario\\u002furban\\u002fP8N\\u002fDryden\",\"Ontario\\u002frural\\u002fP0S\\u002fDubreuilville\",\"Ontario\\u002frural\\u002fP0V\\u002fEar Falls\",\"Ontario\\u002furban\\u002fP5A\\u002fElliot Lake\",\"Ontario\\u002frural\\u002fP0J\\u002fEnglehart\",\"Ontario\\u002furban\\u002fN8H\\u002fErie Shores\",\"Ontario\\u002frural\\u002fN0B\\u002fErin\",\"Ontario\\u002furban\\u002fP5E\\u002fEspanola\",\"Ontario\\u002furban\\u002fN8M\\u002fEssex\",\"Ontario\\u002frural\\u002fP0L\\u002fFauquier\",\"Ontario\\u002frural\\u002fK0M\\u002fFenelon Falls\",\"Ontario\\u002furban\\u002fN1M\\u002fFergus\",\"Ontario\\u002frural\\u002fP0M\\u002fFoleyet\",\"Ontario\\u002furban\\u002fP9A\\u002fFort Frances\",\"Ontario\\u002furban\\u002fP7J\\u002fFort William\",\"Ontario\\u002furban\\u002fL7G\\u002fGeorgetown\",\"Ontario\\u002frural\\u002fP0T\\u002fGeraldton\",\"Ontario\\u002furban\\u002fNOL\\u002fGlencoe\",\"Ontario\\u002furban\\u002fN7A\\u002fGoderich\",\"Ontario\\u002furban\\u002fN1H\\u002fGuelph\",\"Ontario\\u002frural\\u002fN0A\\u002fHagersville\",\"Ontario\\u002frural\\u002fP0J\\u002fHaileybury\",\"Ontario\\u002frural\\u002fK0M\\u002fHaliburton\",\"Ontario\\u002furban\\u002fL8M\\u002fHamilton\",\"Ontario\\u002furban\\u002fL8P\\u002fHamilton\",\"Ontario\\u002furban\\u002fL8R\\u002fHamilton\",\"Ontario\\u002furban\\u002fN4N\\u002fHanover\",\"Ontario\\u002frural\\u002fN0R\\u002fHarrow\",\"Ontario\\u002furban\\u002fK6A\\u002fHawkesbury\",\"Ontario\\u002frural\\u002fP0L\\u002fHearst\",\"Ontario\\u002furban\\u002fP1H\\u002fHuntsville\",\"Ontario\\u002furban\\u002fN5C\\u002fIngersoll\",\"Ontario\\u002frural\\u002fP0K\\u002fIroquois Falls\",\"Ontario\\u002furban\\u002fK2M\\u002fKanata\",\"Ontario\\u002furban\\u002fP5N\\u002fKapuskasing\",\"Ontario\\u002furban\\u002fP9N\\u002fKenora\",\"Ontario\\u002frural\\u002fP0M\\u002fKillarney\",\"Ontario\\u002furban\\u002fN2Z\\u002fKincardine\",\"Ontario\\u002furban\\u002fK7L\\u002fKingston\",\"Ontario\\u002furban\\u002fP2N\\u002fKirkland Lake\",\"Ontario\\u002furban\\u002fN2G\\u002fKitchener\",\"Ontario\\u002furban\\u002fN2M\\u002fKitchener\",\"Ontario\\u002frural\\u002fK0C\\u002fLancaster\",\"Ontario\\u002furban\\u002fK9V\\u002fLindsay\",\"Ontario\\u002frural\\u002fN0H\\u002fLion's Head\",\"Ontario\\u002furban\\u002fN4W\\u002fListowel\",\"Ontario\\u002frural\\u002fP0P\\u002fLittle Current\",\"Ontario\\u002furban\\u002fN5Z\\u002fLondon\",\"Ontario\\u002furban\\u002fN6H\\u002fLondon\",\"Ontario\\u002frural\\u002fP0C\\u002fMactier\",\"Ontario\\u002frural\\u002fK0K\\u002fMadoc\",\"Ontario\\u002frural\\u002fP0T\\u002fManitouwadge\",\"Ontario\\u002frural\\u002fP0P\\u002fManitowaning\",\"Ontario\\u002frural\\u002fP0T\\u002fMarathon\",\"Ontario\\u002furban\\u002fL6B\\u002fMarkham\",\"Ontario\\u002frural\\u002fP0H\\u002fMattawa\",\"Ontario\\u002frural\\u002fP0L\\u002fMattice Val Cote\",\"Ontario\\u002furban\\u002fL4R\\u002fMidland\",\"Ontario\\u002furban\\u002fL9T\\u002fMilton\",\"Ontario\\u002frural\\u002fP0P\\u002fMindemoya\",\"Ontario\\u002frural\\u002fP0M\\u002fMissanabie\",\"Ontario\\u002furban\\u002fL5B\\u002fMississauga\",\"Ontario\\u002furban\\u002fL5M\\u002fMississauga\",\"Ontario\\u002frural\\u002fN0G\\u002fMount Forest\",\"Ontario\\u002frural\\u002fN0L\\u002fMuncey\",\"Ontario\\u002frural\\u002fP0T\\u002fNakina\",\"Ontario\\u002furban\\u002fK2J\\u002fNepean\",\"Ontario\\u002frural\\u002fP0J\\u002fNew Liskeard\",\"Ontario\\u002furban\\u002fL3Y\\u002fNewmarket\",\"Ontario\\u002furban\\u002fL2E\\u002fNiagara Falls\",\"Ontario\\u002frural\\u002fP0T\\u002fNipigon\",\"Ontario\\u002furban\\u002fP1A\\u002fNorth Bay\",\"Ontario\\u002furban\\u002fP1B\\u002fNorth Bay\",\"Ontario\\u002frural\\u002fK0H\\u002fNorthbrook\",\"Ontario\\u002furban\\u002fL6H\\u002fOakville\",\"Ontario\\u002furban\\u002fL6K\\u002fOakville\",\"Ontario\\u002frural\\u002fN0A\\u002fOhsweken\",\"Ontario\\u002furban\\u002fL9W\\u002fOrangeville\",\"Ontario\\u002furban\\u002fL3V\\u002fOrillia\",\"Ontario\\u002furban\\u002fK1C\\u002fOrl\\u00c3\\u00a9ans\",\"Ontario\\u002frural\\u002fL0L\\u002fOro-Medonte\",\"Ontario\\u002furban\\u002fL1G\\u002fOshawa\",\"Ontario\\u002furban\\u002fK1G\\u002fOttawa\",\"Ontario\\u002furban\\u002fK1J\\u002fOttawa\",\"Ontario\\u002furban\\u002fK1K\\u002fOttawa\",\"Ontario\\u002furban\\u002fK1L\\u002fOttawa\",\"Ontario\\u002furban\\u002fK1N\\u002fOttawa\",\"Ontario\\u002furban\\u002fK1V\\u002fOttawa\",\"Ontario\\u002furban\\u002fK1Y\\u002fOttawa\",\"Ontario\\u002furban\\u002fK4A\\u002fOttawa\",\"Ontario\\u002furban\\u002fN4K\\u002fOwen Sound\",\"Ontario\\u002furban\\u002fN3L\\u002fParis\",\"Ontario\\u002furban\\u002fP2A\\u002fParry Sound\",\"Ontario\\u002frural\\u002fN0R\\u002fPelee Island\",\"Ontario\\u002furban\\u002fK8A\\u002fPembroke\",\"Ontario\\u002furban\\u002fK8H\\u002fPetawawa\",\"Ontario\\u002furban\\u002fK9H\\u002fPeterborough\",\"Ontario\\u002furban\\u002fK9J\\u002fPeterborough\",\"Ontario\\u002frural\\u002fN0N\\u002fPetrolia\",\"Ontario\\u002furban\\u002fL1V\\u002fPickering\",\"Ontario\\u002frural\\u002fK0K\\u002fPicton\",\"Ontario\\u002frural\\u002fK0J\\u002fPikwakanagan\",\"Ontario\\u002frural\\u002fK0B\\u002fPlantagenet\",\"Ontario\\u002furban\\u002fL9L\\u002fPort Perry\",\"Ontario\\u002frural\\u002fP0H\\u002fPowassan\",\"Ontario\\u002frural\\u002fK0E\\u002fPrescott\",\"Ontario\\u002frural\\u002fP0V\\u002fRed Lake\",\"Ontario\\u002furban\\u002fK4K\\u002fRockland\",\"Ontario\\u002furban\\u002fN7S\\u002fSarnia\",\"Ontario\\u002furban\\u002fN7T\\u002fSarnia\",\"Ontario\\u002frural\\u002fN0H\\u002fSauble Beach\",\"Ontario\\u002furban\\u002fP6A\\u002fSault Ste. Marie\",\"Ontario\\u002furban\\u002fP6B\\u002fSault Ste. Marie\",\"Ontario\\u002furban\\u002fM1P\\u002fScarborough\",\"Ontario\\u002furban\\u002fM1V\\u002fScarborough\",\"Ontario\\u002frural\\u002fP0T\\u002fSchreiber\",\"Ontario\\u002frural\\u002fN0K\\u002fSeaforth\",\"Ontario\\u002frural\\u002fK0H\\u002fSharbot Lake\",\"Ontario\\u002furban\\u002fP8T\\u002fSioux Lookout\",\"Ontario\\u002frural\\u002fP0X\\u002fSioux Narrows\",\"Ontario\\u002furban\\u002fK7A\\u002fSmiths Falls\",\"Ontario\\u002frural\\u002fL0R\\u002fSmithville\",\"Ontario\\u002furban\\u002fL2R\\u002fSt. Catharines\",\"Ontario\\u002furban\\u002fN4X\\u002fSt. Marys\",\"Ontario\\u002furban\\u002fN5A\\u002fStratford\",\"Ontario\\u002furban\\u002fP2B\\u002fSturgeon Falls\",\"Ontario\\u002furban\\u002fP3A\\u002fSudbury\",\"Ontario\\u002furban\\u002fP3C\\u002fSudbury\",\"Ontario\\u002frural\\u002fL0E\\u002fSutton\",\"Ontario\\u002frural\\u002fP0H\\u002fTemagami\",\"Ontario\\u002frural\\u002fP0R\\u002fThessalon\",\"Ontario\\u002frural\\u002fP0H\\u002fThorne\",\"Ontario\\u002furban\\u002fP7B\\u002fThunder Bay\",\"Ontario\\u002furban\\u002fP7E\\u002fThunder Bay\",\"Ontario\\u002frural\\u002fN0P\\u002fTilbury\",\"Ontario\\u002furban\\u002fP4N\\u002fTimmins\",\"Ontario\\u002furban\\u002fM1R\\u002fToronto\",\"Ontario\\u002furban\\u002fM3B\\u002fToronto\",\"Ontario\\u002furban\\u002fM3C\\u002fToronto\",\"Ontario\\u002furban\\u002fM3N\\u002fToronto\",\"Ontario\\u002furban\\u002fM4C\\u002fToronto\",\"Ontario\\u002furban\\u002fM4K\\u002fToronto\",\"Ontario\\u002furban\\u002fM4N\\u002fToronto\",\"Ontario\\u002furban\\u002fM4X\\u002fToronto\",\"Ontario\\u002furban\\u002fM5A\\u002fToronto\",\"Ontario\\u002furban\\u002fM5C\\u002fToronto\",\"Ontario\\u002furban\\u002fM5G\\u002fToronto\",\"Ontario\\u002furban\\u002fM5S\\u002fToronto\",\"Ontario\\u002furban\\u002fM5T\\u002fToronto\",\"Ontario\\u002furban\\u002fM6K\\u002fToronto\",\"Ontario\\u002furban\\u002fM6M\\u002fToronto\",\"Ontario\\u002furban\\u002fM6R\\u002fToronto\",\"Ontario\\u002furban\\u002fM8Z\\u002fToronto\",\"Ontario\\u002furban\\u002fM9N\\u002fToronto\",\"Ontario\\u002furban\\u002fM9W\\u002fToronto\",\"Ontario\\u002frural\\u002fP0T\\u002fUpsala\",\"Ontario\\u002frural\\u002fP0V\\u002fVermilion Bay\",\"Ontario\\u002frural\\u002fN0G\\u002fWalkerton\",\"Ontario\\u002frural\\u002fP0S\\u002fWawa\",\"Ontario\\u002furban\\u002fL3C\\u002fWelland\",\"Ontario\\u002frural\\u002fP0M\\u002fWhite River\",\"Ontario\\u002frural\\u002fK0J\\u002fWhitney\",\"Ontario\\u002frural\\u002fK0C\\u002fWinchester\",\"Ontario\\u002furban\\u002fN8X\\u002fWindsor\",\"Ontario\\u002furban\\u002fL4H\\u002fWoodbridge\",\"Ontario\\u002furban\\u002fM6M\\u002fYork\",\"Ontario\\u002frural\\u002fN0M\\u002fZurich\",\"Ontario\\u002frural\\u002fK0A\",\"Ontario\\u002frural\\u002fK0B\",\"Ontario\\u002frural\\u002fK0C\",\"Ontario\\u002frural\\u002fK0E\",\"Ontario\\u002frural\\u002fK0H\",\"Ontario\\u002frural\\u002fK0J\",\"Ontario\\u002frural\\u002fK0K\",\"Ontario\\u002frural\\u002fK0L\",\"Ontario\\u002frural\\u002fK0M\",\"Ontario\\u002furban\\u002fK1C\",\"Ontario\\u002furban\\u002fK1G\",\"Ontario\\u002furban\\u002fK1J\",\"Ontario\\u002furban\\u002fK1K\",\"Ontario\\u002furban\\u002fK1L\",\"Ontario\\u002furban\\u002fK1N\",\"Ontario\\u002furban\\u002fK1V\",\"Ontario\\u002furban\\u002fK1Y\",\"Ontario\\u002furban\\u002fK2J\",\"Ontario\\u002furban\\u002fK2M\",\"Ontario\\u002furban\\u002fK4A\",\"Ontario\\u002furban\\u002fK4K\",\"Ontario\\u002furban\\u002fK6A\",\"Ontario\\u002furban\\u002fK6H\",\"Ontario\\u002furban\\u002fK6V\",\"Ontario\\u002furban\\u002fK7A\",\"Ontario\\u002furban\\u002fK7L\",\"Ontario\\u002furban\\u002fK7N\",\"Ontario\\u002furban\\u002fK7S\",\"Ontario\\u002furban\\u002fK8A\",\"Ontario\\u002furban\\u002fK8H\",\"Ontario\\u002furban\\u002fK8N\",\"Ontario\\u002furban\\u002fK9A\",\"Ontario\\u002furban\\u002fK9H\",\"Ontario\\u002furban\\u002fK9J\",\"Ontario\\u002furban\\u002fK9V\",\"Ontario\\u002frural\\u002fL0E\",\"Ontario\\u002frural\\u002fL0L\",\"Ontario\\u002frural\\u002fL0R\",\"Ontario\\u002furban\\u002fL1G\",\"Ontario\\u002furban\\u002fL1V\",\"Ontario\\u002furban\\u002fL2E\",\"Ontario\\u002furban\\u002fL2R\",\"Ontario\\u002furban\\u002fL3C\",\"Ontario\\u002furban\\u002fL3V\",\"Ontario\\u002furban\\u002fL3Y\",\"Ontario\\u002furban\\u002fL4H\",\"Ontario\\u002furban\\u002fL4M\",\"Ontario\\u002furban\\u002fL4N\",\"Ontario\\u002furban\\u002fL4R\",\"Ontario\\u002furban\\u002fL5B\",\"Ontario\\u002furban\\u002fL5M\",\"Ontario\\u002furban\\u002fL6B\",\"Ontario\\u002furban\\u002fL6H\",\"Ontario\\u002furban\\u002fL6K\",\"Ontario\\u002furban\\u002fL6V\",\"Ontario\\u002furban\\u002fL6W\",\"Ontario\\u002furban\\u002fL6X\",\"Ontario\\u002furban\\u002fL7G\",\"Ontario\\u002furban\\u002fL7N\",\"Ontario\\u002furban\\u002fL7S\",\"Ontario\\u002furban\\u002fL8M\",\"Ontario\\u002furban\\u002fL8P\",\"Ontario\\u002furban\\u002fL8R\",\"Ontario\\u002furban\\u002fL9L\",\"Ontario\\u002furban\\u002fL9R\",\"Ontario\\u002furban\\u002fL9T\",\"Ontario\\u002furban\\u002fL9W\",\"Ontario\\u002furban\\u002fL9Y\",\"Ontario\\u002furban\\u002fM1P\",\"Ontario\\u002furban\\u002fM1R\",\"Ontario\\u002furban\\u002fM1V\",\"Ontario\\u002furban\\u002fM3B\",\"Ontario\\u002furban\\u002fM3C\",\"Ontario\\u002furban\\u002fM3N\",\"Ontario\\u002furban\\u002fM4C\",\"Ontario\\u002furban\\u002fM4K\",\"Ontario\\u002furban\\u002fM4N\",\"Ontario\\u002furban\\u002fM4X\",\"Ontario\\u002furban\\u002fM5A\",\"Ontario\\u002furban\\u002fM5C\",\"Ontario\\u002furban\\u002fM5G\",\"Ontario\\u002furban\\u002fM5S\",\"Ontario\\u002furban\\u002fM5T\",\"Ontario\\u002furban\\u002fM6K\",\"Ontario\\u002furban\\u002fM6M\",\"Ontario\\u002furban\\u002fM6R\",\"Ontario\\u002furban\\u002fM8Z\",\"Ontario\\u002furban\\u002fM9N\",\"Ontario\\u002furban\\u002fM9W\",\"Ontario\\u002frural\\u002fN0A\",\"Ontario\\u002frural\\u002fN0B\",\"Ontario\\u002frural\\u002fN0G\",\"Ontario\\u002frural\\u002fN0H\",\"Ontario\\u002frural\\u002fN0K\",\"Ontario\\u002frural\\u002fN0L\",\"Ontario\\u002frural\\u002fN0M\",\"Ontario\\u002frural\\u002fN0N\",\"Ontario\\u002frural\\u002fN0P\",\"Ontario\\u002frural\\u002fN0R\",\"Ontario\\u002furban\\u002fN1H\",\"Ontario\\u002furban\\u002fN1M\",\"Ontario\\u002furban\\u002fN1R\",\"Ontario\\u002furban\\u002fN2G\",\"Ontario\\u002furban\\u002fN2M\",\"Ontario\\u002furban\\u002fN2Z\",\"Ontario\\u002furban\\u002fN3L\",\"Ontario\\u002furban\\u002fN4B\",\"Ontario\\u002furban\\u002fN4K\",\"Ontario\\u002furban\\u002fN4N\",\"Ontario\\u002furban\\u002fN4W\",\"Ontario\\u002furban\\u002fN4X\",\"Ontario\\u002furban\\u002fN5A\",\"Ontario\\u002furban\\u002fN5C\",\"Ontario\\u002furban\\u002fN5H\",\"Ontario\\u002furban\\u002fN5Z\",\"Ontario\\u002furban\\u002fN6H\",\"Ontario\\u002furban\\u002fN7A\",\"Ontario\\u002furban\\u002fN7L\",\"Ontario\\u002furban\\u002fN7S\",\"Ontario\\u002furban\\u002fN7T\",\"Ontario\\u002furban\\u002fN8H\",\"Ontario\\u002furban\\u002fN8M\",\"Ontario\\u002furban\\u002fN8X\",\"Ontario\\u002furban\\u002fN9V\",\"Ontario\\u002furban\\u002fNOL\",\"Ontario\\u002frural\\u002fP0A\",\"Ontario\\u002frural\\u002fP0C\",\"Ontario\\u002frural\\u002fP0H\",\"Ontario\\u002frural\\u002fP0J\",\"Ontario\\u002frural\\u002fP0K\",\"Ontario\\u002frural\\u002fP0L\",\"Ontario\\u002frural\\u002fP0M\",\"Ontario\\u002frural\\u002fP0P\",\"Ontario\\u002frural\\u002fP0R\",\"Ontario\\u002frural\\u002fP0S\",\"Ontario\\u002frural\\u002fP0T\",\"Ontario\\u002frural\\u002fP0V\",\"Ontario\\u002frural\\u002fP0X\",\"Ontario\\u002furban\\u002fP1A\",\"Ontario\\u002furban\\u002fP1B\",\"Ontario\\u002furban\\u002fP1H\",\"Ontario\\u002furban\\u002fP1L\",\"Ontario\\u002furban\\u002fP2A\",\"Ontario\\u002furban\\u002fP2B\",\"Ontario\\u002furban\\u002fP2N\",\"Ontario\\u002furban\\u002fP3A\",\"Ontario\\u002furban\\u002fP3C\",\"Ontario\\u002furban\\u002fP4N\",\"Ontario\\u002furban\\u002fP5A\",\"Ontario\\u002furban\\u002fP5E\",\"Ontario\\u002furban\\u002fP5N\",\"Ontario\\u002furban\\u002fP6A\",\"Ontario\\u002furban\\u002fP6B\",\"Ontario\\u002furban\\u002fP7B\",\"Ontario\\u002furban\\u002fP7E\",\"Ontario\\u002furban\\u002fP7J\",\"Ontario\\u002furban\\u002fP8N\",\"Ontario\\u002furban\\u002fP8T\",\"Ontario\\u002furban\\u002fP9A\",\"Ontario\\u002furban\\u002fP9N\",\"Ontario\\u002frural\",\"Ontario\\u002furban\",\"Ontario\"],\"labels\":[\"Akwesasne\",\"Alliston\",\"Almonte\",\"Amherstburg\",\"Amherstview\",\"Armstrong Station\",\"Arnprior\",\"Athens\",\"Atikokan\",\"Aylmer\",\"Bancroft\",\"Barrie\",\"Barrie\",\"Barry's Bay\",\"Beamsville\",\"Beardmore\",\"Belle River\",\"Belleville\",\"Blind River\",\"Bracebridge\",\"Brampton\",\"Brampton\",\"Brampton\",\"Brighton\",\"Brockville\",\"Burk's Falls\",\"Burlington\",\"Burlington\",\"Cambridge\",\"Campbellford\",\"Capreol\",\"Carp\",\"Chapleau\",\"Chatham\",\"Clinton\",\"Cobourg\",\"Cochrane\",\"Collingwood\",\"Cutler\",\"Deep River\",\"Delhi\",\"Deseronto\",\"Drayton\",\"Dryden\",\"Dubreuilville\",\"Ear Falls\",\"Elliot Lake\",\"Englehart\",\"Erie Shores\",\"Erin\",\"Espanola\",\"Essex\",\"Fauquier\",\"Fenelon Falls\",\"Fergus\",\"Foleyet\",\"Fort Frances\",\"Fort William\",\"Georgetown\",\"Geraldton\",\"Glencoe\",\"Goderich\",\"Guelph\",\"Hagersville\",\"Haileybury\",\"Haliburton\",\"Hamilton\",\"Hamilton\",\"Hamilton\",\"Hanover\",\"Harrow\",\"Hawkesbury\",\"Hearst\",\"Huntsville\",\"Ingersoll\",\"Iroquois Falls\",\"Kanata\",\"Kapuskasing\",\"Kenora\",\"Killarney\",\"Kincardine\",\"Kingston\",\"Kirkland Lake\",\"Kitchener\",\"Kitchener\",\"Lancaster\",\"Lindsay\",\"Lion's Head\",\"Listowel\",\"Little Current\",\"London\",\"London\",\"Mactier\",\"Madoc\",\"Manitouwadge\",\"Manitowaning\",\"Marathon\",\"Markham\",\"Mattawa\",\"Mattice Val Cote\",\"Midland\",\"Milton\",\"Mindemoya\",\"Missanabie\",\"Mississauga\",\"Mississauga\",\"Mount Forest\",\"Muncey\",\"Nakina\",\"Nepean\",\"New Liskeard\",\"Newmarket\",\"Niagara Falls\",\"Nipigon\",\"North Bay\",\"North Bay\",\"Northbrook\",\"Oakville\",\"Oakville\",\"Ohsweken\",\"Orangeville\",\"Orillia\",\"Orl\\u00c3\\u00a9ans\",\"Oro-Medonte\",\"Oshawa\",\"Ottawa\",\"Ottawa\",\"Ottawa\",\"Ottawa\",\"Ottawa\",\"Ottawa\",\"Ottawa\",\"Ottawa\",\"Owen Sound\",\"Paris\",\"Parry Sound\",\"Pelee Island\",\"Pembroke\",\"Petawawa\",\"Peterborough\",\"Peterborough\",\"Petrolia\",\"Pickering\",\"Picton\",\"Pikwakanagan\",\"Plantagenet\",\"Port Perry\",\"Powassan\",\"Prescott\",\"Red Lake\",\"Rockland\",\"Sarnia\",\"Sarnia\",\"Sauble Beach\",\"Sault Ste. Marie\",\"Sault Ste. Marie\",\"Scarborough\",\"Scarborough\",\"Schreiber\",\"Seaforth\",\"Sharbot Lake\",\"Sioux Lookout\",\"Sioux Narrows\",\"Smiths Falls\",\"Smithville\",\"St. Catharines\",\"St. Marys\",\"Stratford\",\"Sturgeon Falls\",\"Sudbury\",\"Sudbury\",\"Sutton\",\"Temagami\",\"Thessalon\",\"Thorne\",\"Thunder Bay\",\"Thunder Bay\",\"Tilbury\",\"Timmins\",\"Toronto\",\"Toronto\",\"Toronto\",\"Toronto\",\"Toronto\",\"Toronto\",\"Toronto\",\"Toronto\",\"Toronto\",\"Toronto\",\"Toronto\",\"Toronto\",\"Toronto\",\"Toronto\",\"Toronto\",\"Toronto\",\"Toronto\",\"Toronto\",\"Toronto\",\"Upsala\",\"Vermilion Bay\",\"Walkerton\",\"Wawa\",\"Welland\",\"White River\",\"Whitney\",\"Winchester\",\"Windsor\",\"Woodbridge\",\"York\",\"Zurich\",\"K0A\",\"K0B\",\"K0C\",\"K0E\",\"K0H\",\"K0J\",\"K0K\",\"K0L\",\"K0M\",\"K1C\",\"K1G\",\"K1J\",\"K1K\",\"K1L\",\"K1N\",\"K1V\",\"K1Y\",\"K2J\",\"K2M\",\"K4A\",\"K4K\",\"K6A\",\"K6H\",\"K6V\",\"K7A\",\"K7L\",\"K7N\",\"K7S\",\"K8A\",\"K8H\",\"K8N\",\"K9A\",\"K9H\",\"K9J\",\"K9V\",\"L0E\",\"L0L\",\"L0R\",\"L1G\",\"L1V\",\"L2E\",\"L2R\",\"L3C\",\"L3V\",\"L3Y\",\"L4H\",\"L4M\",\"L4N\",\"L4R\",\"L5B\",\"L5M\",\"L6B\",\"L6H\",\"L6K\",\"L6V\",\"L6W\",\"L6X\",\"L7G\",\"L7N\",\"L7S\",\"L8M\",\"L8P\",\"L8R\",\"L9L\",\"L9R\",\"L9T\",\"L9W\",\"L9Y\",\"M1P\",\"M1R\",\"M1V\",\"M3B\",\"M3C\",\"M3N\",\"M4C\",\"M4K\",\"M4N\",\"M4X\",\"M5A\",\"M5C\",\"M5G\",\"M5S\",\"M5T\",\"M6K\",\"M6M\",\"M6R\",\"M8Z\",\"M9N\",\"M9W\",\"N0A\",\"N0B\",\"N0G\",\"N0H\",\"N0K\",\"N0L\",\"N0M\",\"N0N\",\"N0P\",\"N0R\",\"N1H\",\"N1M\",\"N1R\",\"N2G\",\"N2M\",\"N2Z\",\"N3L\",\"N4B\",\"N4K\",\"N4N\",\"N4W\",\"N4X\",\"N5A\",\"N5C\",\"N5H\",\"N5Z\",\"N6H\",\"N7A\",\"N7L\",\"N7S\",\"N7T\",\"N8H\",\"N8M\",\"N8X\",\"N9V\",\"NOL\",\"P0A\",\"P0C\",\"P0H\",\"P0J\",\"P0K\",\"P0L\",\"P0M\",\"P0P\",\"P0R\",\"P0S\",\"P0T\",\"P0V\",\"P0X\",\"P1A\",\"P1B\",\"P1H\",\"P1L\",\"P2A\",\"P2B\",\"P2N\",\"P3A\",\"P3C\",\"P4N\",\"P5A\",\"P5E\",\"P5N\",\"P6A\",\"P6B\",\"P7B\",\"P7E\",\"P7J\",\"P8N\",\"P8T\",\"P9A\",\"P9N\",\"rural\",\"urban\",\"Ontario\"],\"marker\":{\"coloraxis\":\"coloraxis\",\"colors\":[1.0,1.0,2.0,1.0,1.0,10.0,1.0,2.0,10.0,1.0,2.0,2.0,1.0,4.0,2.0,10.0,3.0,1.0,2.0,1.0,1.0,1.0,1.0,4.0,2.0,1.0,1.0,1.0,3.0,2.0,6.0,2.0,6.0,2.0,2.0,1.0,4.0,1.0,5.0,4.0,1.0,4.0,3.0,1.0,2.0,3.0,1.0,4.0,1.0,1.0,1.0,1.0,4.0,2.0,1.0,6.0,2.0,1.0,1.0,10.0,null,1.0,2.0,2.0,4.0,2.0,1.0,1.0,1.0,1.0,3.0,1.0,4.0,2.0,1.0,1.0,1.0,1.0,3.0,6.0,1.0,3.0,1.0,1.0,1.0,2.0,1.0,2.0,1.0,5.0,1.0,2.0,1.0,4.0,10.0,5.0,10.0,2.0,4.0,4.0,1.0,1.0,5.0,6.0,1.0,1.0,3.0,1.0,10.0,1.0,4.0,2.0,2.0,10.0,1.0,2.0,2.0,1.0,1.0,2.0,1.0,1.0,1.0,1.0,1.0,1.0,1.0,1.0,2.0,1.0,1.0,1.0,1.0,1.0,1.0,3.0,3.0,1.0,1.0,1.0,1.0,1.0,1.0,4.0,4.0,1.0,1.0,4.0,2.0,3.0,1.0,1.0,1.0,2.0,1.0,1.0,1.0,2.0,10.0,1.0,2.0,1.0,1.0,1.0,2.0,1.0,1.0,2.0,1.0,1.0,3.0,1.0,4.0,2.0,4.0,4.0,1.0,1.0,3.0,1.0,1.0,1.0,1.0,1.0,1.0,1.0,1.0,1.0,1.0,1.0,1.0,2.0,1.0,2.0,1.0,1.0,1.0,1.0,10.0,3.0,3.0,2.0,1.0,6.0,4.0,2.0,1.0,1.0,2.0,2.0,2.0,1.0,2.0,2.0,2.0,4.0,4.0,2.0,2.0,1.0,1.0,1.0,1.0,2.0,1.0,1.0,1.0,1.0,1.0,1.0,1.0,1.0,1.0,2.0,1.0,3.0,1.0,1.0,1.0,1.0,1.0,1.0,1.0,1.0,1.0,1.0,1.0,2.0,1.0,1.0,2.0,1.0,1.0,1.0,2.0,1.0,2.0,1.0,1.0,1.0,1.0,2.0,1.0,1.0,1.0,1.0,1.0,1.0,1.0,1.0,1.0,1.0,1.0,1.0,1.0,1.0,1.0,1.0,1.0,1.0,2.0,1.0,1.0,1.0,1.0,1.0,1.0,1.0,1.0,1.0,1.0,1.0,2.0,1.0,2.0,1.0,1.0,1.0,1.0,2.0,1.0,3.0,2.0,1.0,1.0,2.0,1.0,1.0,3.0,2.0,1.0,3.0,1.0,1.0,1.0,1.0,1.0,1.0,1.0,1.0,1.0,2.0,1.0,1.0,1.0,2.0,1.0,2.0,1.0,1.0,1.0,1.0,1.0,1.0,null,1.0,1.0,4.0,4.0,1.0,4.0,5.999999999999999,5.0,2.0,2.0,10.0,3.0,1.0,1.0,2.0,2.0,1.0,3.0,1.0,1.0,1.0,3.0,3.0,1.0,1.0,1.0,1.0,1.0,4.0,1.0,1.0,1.0,1.0,2.0,3.0,2.4890262019416225,null,null]},\"name\":\"\",\"parents\":[\"Ontario\\u002furban\\u002fK6H\",\"Ontario\\u002furban\\u002fL9R\",\"Ontario\\u002frural\\u002fK0A\",\"Ontario\\u002furban\\u002fN9V\",\"Ontario\\u002furban\\u002fK7N\",\"Ontario\\u002frural\\u002fP0T\",\"Ontario\\u002furban\\u002fK7S\",\"Ontario\\u002frural\\u002fK0E\",\"Ontario\\u002frural\\u002fP0T\",\"Ontario\\u002furban\\u002fN5H\",\"Ontario\\u002frural\\u002fK0L\",\"Ontario\\u002furban\\u002fL4M\",\"Ontario\\u002furban\\u002fL4N\",\"Ontario\\u002frural\\u002fK0J\",\"Ontario\\u002frural\\u002fL0R\",\"Ontario\\u002frural\\u002fP0T\",\"Ontario\\u002frural\\u002fN0R\",\"Ontario\\u002furban\\u002fK8N\",\"Ontario\\u002frural\\u002fP0R\",\"Ontario\\u002furban\\u002fP1L\",\"Ontario\\u002furban\\u002fL6V\",\"Ontario\\u002furban\\u002fL6W\",\"Ontario\\u002furban\\u002fL6X\",\"Ontario\\u002frural\\u002fK0K\",\"Ontario\\u002furban\\u002fK6V\",\"Ontario\\u002frural\\u002fP0A\",\"Ontario\\u002furban\\u002fL7N\",\"Ontario\\u002furban\\u002fL7S\",\"Ontario\\u002furban\\u002fN1R\",\"Ontario\\u002frural\\u002fK0L\",\"Ontario\\u002frural\\u002fP0M\",\"Ontario\\u002frural\\u002fK0A\",\"Ontario\\u002frural\\u002fP0M\",\"Ontario\\u002furban\\u002fN7L\",\"Ontario\\u002frural\\u002fN0M\",\"Ontario\\u002furban\\u002fK9A\",\"Ontario\\u002frural\\u002fP0L\",\"Ontario\\u002furban\\u002fL9Y\",\"Ontario\\u002frural\\u002fP0P\",\"Ontario\\u002frural\\u002fK0J\",\"Ontario\\u002furban\\u002fN4B\",\"Ontario\\u002frural\\u002fK0K\",\"Ontario\\u002frural\\u002fN0G\",\"Ontario\\u002furban\\u002fP8N\",\"Ontario\\u002frural\\u002fP0S\",\"Ontario\\u002frural\\u002fP0V\",\"Ontario\\u002furban\\u002fP5A\",\"Ontario\\u002frural\\u002fP0J\",\"Ontario\\u002furban\\u002fN8H\",\"Ontario\\u002frural\\u002fN0B\",\"Ontario\\u002furban\\u002fP5E\",\"Ontario\\u002furban\\u002fN8M\",\"Ontario\\u002frural\\u002fP0L\",\"Ontario\\u002frural\\u002fK0M\",\"Ontario\\u002furban\\u002fN1M\",\"Ontario\\u002frural\\u002fP0M\",\"Ontario\\u002furban\\u002fP9A\",\"Ontario\\u002furban\\u002fP7J\",\"Ontario\\u002furban\\u002fL7G\",\"Ontario\\u002frural\\u002fP0T\",\"Ontario\\u002furban\\u002fNOL\",\"Ontario\\u002furban\\u002fN7A\",\"Ontario\\u002furban\\u002fN1H\",\"Ontario\\u002frural\\u002fN0A\",\"Ontario\\u002frural\\u002fP0J\",\"Ontario\\u002frural\\u002fK0M\",\"Ontario\\u002furban\\u002fL8M\",\"Ontario\\u002furban\\u002fL8P\",\"Ontario\\u002furban\\u002fL8R\",\"Ontario\\u002furban\\u002fN4N\",\"Ontario\\u002frural\\u002fN0R\",\"Ontario\\u002furban\\u002fK6A\",\"Ontario\\u002frural\\u002fP0L\",\"Ontario\\u002furban\\u002fP1H\",\"Ontario\\u002furban\\u002fN5C\",\"Ontario\\u002frural\\u002fP0K\",\"Ontario\\u002furban\\u002fK2M\",\"Ontario\\u002furban\\u002fP5N\",\"Ontario\\u002furban\\u002fP9N\",\"Ontario\\u002frural\\u002fP0M\",\"Ontario\\u002furban\\u002fN2Z\",\"Ontario\\u002furban\\u002fK7L\",\"Ontario\\u002furban\\u002fP2N\",\"Ontario\\u002furban\\u002fN2G\",\"Ontario\\u002furban\\u002fN2M\",\"Ontario\\u002frural\\u002fK0C\",\"Ontario\\u002furban\\u002fK9V\",\"Ontario\\u002frural\\u002fN0H\",\"Ontario\\u002furban\\u002fN4W\",\"Ontario\\u002frural\\u002fP0P\",\"Ontario\\u002furban\\u002fN5Z\",\"Ontario\\u002furban\\u002fN6H\",\"Ontario\\u002frural\\u002fP0C\",\"Ontario\\u002frural\\u002fK0K\",\"Ontario\\u002frural\\u002fP0T\",\"Ontario\\u002frural\\u002fP0P\",\"Ontario\\u002frural\\u002fP0T\",\"Ontario\\u002furban\\u002fL6B\",\"Ontario\\u002frural\\u002fP0H\",\"Ontario\\u002frural\\u002fP0L\",\"Ontario\\u002furban\\u002fL4R\",\"Ontario\\u002furban\\u002fL9T\",\"Ontario\\u002frural\\u002fP0P\",\"Ontario\\u002frural\\u002fP0M\",\"Ontario\\u002furban\\u002fL5B\",\"Ontario\\u002furban\\u002fL5M\",\"Ontario\\u002frural\\u002fN0G\",\"Ontario\\u002frural\\u002fN0L\",\"Ontario\\u002frural\\u002fP0T\",\"Ontario\\u002furban\\u002fK2J\",\"Ontario\\u002frural\\u002fP0J\",\"Ontario\\u002furban\\u002fL3Y\",\"Ontario\\u002furban\\u002fL2E\",\"Ontario\\u002frural\\u002fP0T\",\"Ontario\\u002furban\\u002fP1A\",\"Ontario\\u002furban\\u002fP1B\",\"Ontario\\u002frural\\u002fK0H\",\"Ontario\\u002furban\\u002fL6H\",\"Ontario\\u002furban\\u002fL6K\",\"Ontario\\u002frural\\u002fN0A\",\"Ontario\\u002furban\\u002fL9W\",\"Ontario\\u002furban\\u002fL3V\",\"Ontario\\u002furban\\u002fK1C\",\"Ontario\\u002frural\\u002fL0L\",\"Ontario\\u002furban\\u002fL1G\",\"Ontario\\u002furban\\u002fK1G\",\"Ontario\\u002furban\\u002fK1J\",\"Ontario\\u002furban\\u002fK1K\",\"Ontario\\u002furban\\u002fK1L\",\"Ontario\\u002furban\\u002fK1N\",\"Ontario\\u002furban\\u002fK1V\",\"Ontario\\u002furban\\u002fK1Y\",\"Ontario\\u002furban\\u002fK4A\",\"Ontario\\u002furban\\u002fN4K\",\"Ontario\\u002furban\\u002fN3L\",\"Ontario\\u002furban\\u002fP2A\",\"Ontario\\u002frural\\u002fN0R\",\"Ontario\\u002furban\\u002fK8A\",\"Ontario\\u002furban\\u002fK8H\",\"Ontario\\u002furban\\u002fK9H\",\"Ontario\\u002furban\\u002fK9J\",\"Ontario\\u002frural\\u002fN0N\",\"Ontario\\u002furban\\u002fL1V\",\"Ontario\\u002frural\\u002fK0K\",\"Ontario\\u002frural\\u002fK0J\",\"Ontario\\u002frural\\u002fK0B\",\"Ontario\\u002furban\\u002fL9L\",\"Ontario\\u002frural\\u002fP0H\",\"Ontario\\u002frural\\u002fK0E\",\"Ontario\\u002frural\\u002fP0V\",\"Ontario\\u002furban\\u002fK4K\",\"Ontario\\u002furban\\u002fN7S\",\"Ontario\\u002furban\\u002fN7T\",\"Ontario\\u002frural\\u002fN0H\",\"Ontario\\u002furban\\u002fP6A\",\"Ontario\\u002furban\\u002fP6B\",\"Ontario\\u002furban\\u002fM1P\",\"Ontario\\u002furban\\u002fM1V\",\"Ontario\\u002frural\\u002fP0T\",\"Ontario\\u002frural\\u002fN0K\",\"Ontario\\u002frural\\u002fK0H\",\"Ontario\\u002furban\\u002fP8T\",\"Ontario\\u002frural\\u002fP0X\",\"Ontario\\u002furban\\u002fK7A\",\"Ontario\\u002frural\\u002fL0R\",\"Ontario\\u002furban\\u002fL2R\",\"Ontario\\u002furban\\u002fN4X\",\"Ontario\\u002furban\\u002fN5A\",\"Ontario\\u002furban\\u002fP2B\",\"Ontario\\u002furban\\u002fP3A\",\"Ontario\\u002furban\\u002fP3C\",\"Ontario\\u002frural\\u002fL0E\",\"Ontario\\u002frural\\u002fP0H\",\"Ontario\\u002frural\\u002fP0R\",\"Ontario\\u002frural\\u002fP0H\",\"Ontario\\u002furban\\u002fP7B\",\"Ontario\\u002furban\\u002fP7E\",\"Ontario\\u002frural\\u002fN0P\",\"Ontario\\u002furban\\u002fP4N\",\"Ontario\\u002furban\\u002fM1R\",\"Ontario\\u002furban\\u002fM3B\",\"Ontario\\u002furban\\u002fM3C\",\"Ontario\\u002furban\\u002fM3N\",\"Ontario\\u002furban\\u002fM4C\",\"Ontario\\u002furban\\u002fM4K\",\"Ontario\\u002furban\\u002fM4N\",\"Ontario\\u002furban\\u002fM4X\",\"Ontario\\u002furban\\u002fM5A\",\"Ontario\\u002furban\\u002fM5C\",\"Ontario\\u002furban\\u002fM5G\",\"Ontario\\u002furban\\u002fM5S\",\"Ontario\\u002furban\\u002fM5T\",\"Ontario\\u002furban\\u002fM6K\",\"Ontario\\u002furban\\u002fM6M\",\"Ontario\\u002furban\\u002fM6R\",\"Ontario\\u002furban\\u002fM8Z\",\"Ontario\\u002furban\\u002fM9N\",\"Ontario\\u002furban\\u002fM9W\",\"Ontario\\u002frural\\u002fP0T\",\"Ontario\\u002frural\\u002fP0V\",\"Ontario\\u002frural\\u002fN0G\",\"Ontario\\u002frural\\u002fP0S\",\"Ontario\\u002furban\\u002fL3C\",\"Ontario\\u002frural\\u002fP0M\",\"Ontario\\u002frural\\u002fK0J\",\"Ontario\\u002frural\\u002fK0C\",\"Ontario\\u002furban\\u002fN8X\",\"Ontario\\u002furban\\u002fL4H\",\"Ontario\\u002furban\\u002fM6M\",\"Ontario\\u002frural\\u002fN0M\",\"Ontario\\u002frural\",\"Ontario\\u002frural\",\"Ontario\\u002frural\",\"Ontario\\u002frural\",\"Ontario\\u002frural\",\"Ontario\\u002frural\",\"Ontario\\u002frural\",\"Ontario\\u002frural\",\"Ontario\\u002frural\",\"Ontario\\u002furban\",\"Ontario\\u002furban\",\"Ontario\\u002furban\",\"Ontario\\u002furban\",\"Ontario\\u002furban\",\"Ontario\\u002furban\",\"Ontario\\u002furban\",\"Ontario\\u002furban\",\"Ontario\\u002furban\",\"Ontario\\u002furban\",\"Ontario\\u002furban\",\"Ontario\\u002furban\",\"Ontario\\u002furban\",\"Ontario\\u002furban\",\"Ontario\\u002furban\",\"Ontario\\u002furban\",\"Ontario\\u002furban\",\"Ontario\\u002furban\",\"Ontario\\u002furban\",\"Ontario\\u002furban\",\"Ontario\\u002furban\",\"Ontario\\u002furban\",\"Ontario\\u002furban\",\"Ontario\\u002furban\",\"Ontario\\u002furban\",\"Ontario\\u002furban\",\"Ontario\\u002frural\",\"Ontario\\u002frural\",\"Ontario\\u002frural\",\"Ontario\\u002furban\",\"Ontario\\u002furban\",\"Ontario\\u002furban\",\"Ontario\\u002furban\",\"Ontario\\u002furban\",\"Ontario\\u002furban\",\"Ontario\\u002furban\",\"Ontario\\u002furban\",\"Ontario\\u002furban\",\"Ontario\\u002furban\",\"Ontario\\u002furban\",\"Ontario\\u002furban\",\"Ontario\\u002furban\",\"Ontario\\u002furban\",\"Ontario\\u002furban\",\"Ontario\\u002furban\",\"Ontario\\u002furban\",\"Ontario\\u002furban\",\"Ontario\\u002furban\",\"Ontario\\u002furban\",\"Ontario\\u002furban\",\"Ontario\\u002furban\",\"Ontario\\u002furban\",\"Ontario\\u002furban\",\"Ontario\\u002furban\",\"Ontario\\u002furban\",\"Ontario\\u002furban\",\"Ontario\\u002furban\",\"Ontario\\u002furban\",\"Ontario\\u002furban\",\"Ontario\\u002furban\",\"Ontario\\u002furban\",\"Ontario\\u002furban\",\"Ontario\\u002furban\",\"Ontario\\u002furban\",\"Ontario\\u002furban\",\"Ontario\\u002furban\",\"Ontario\\u002furban\",\"Ontario\\u002furban\",\"Ontario\\u002furban\",\"Ontario\\u002furban\",\"Ontario\\u002furban\",\"Ontario\\u002furban\",\"Ontario\\u002furban\",\"Ontario\\u002furban\",\"Ontario\\u002furban\",\"Ontario\\u002furban\",\"Ontario\\u002furban\",\"Ontario\\u002furban\",\"Ontario\\u002furban\",\"Ontario\\u002furban\",\"Ontario\\u002frural\",\"Ontario\\u002frural\",\"Ontario\\u002frural\",\"Ontario\\u002frural\",\"Ontario\\u002frural\",\"Ontario\\u002frural\",\"Ontario\\u002frural\",\"Ontario\\u002frural\",\"Ontario\\u002frural\",\"Ontario\\u002frural\",\"Ontario\\u002furban\",\"Ontario\\u002furban\",\"Ontario\\u002furban\",\"Ontario\\u002furban\",\"Ontario\\u002furban\",\"Ontario\\u002furban\",\"Ontario\\u002furban\",\"Ontario\\u002furban\",\"Ontario\\u002furban\",\"Ontario\\u002furban\",\"Ontario\\u002furban\",\"Ontario\\u002furban\",\"Ontario\\u002furban\",\"Ontario\\u002furban\",\"Ontario\\u002furban\",\"Ontario\\u002furban\",\"Ontario\\u002furban\",\"Ontario\\u002furban\",\"Ontario\\u002furban\",\"Ontario\\u002furban\",\"Ontario\\u002furban\",\"Ontario\\u002furban\",\"Ontario\\u002furban\",\"Ontario\\u002furban\",\"Ontario\\u002furban\",\"Ontario\\u002furban\",\"Ontario\\u002frural\",\"Ontario\\u002frural\",\"Ontario\\u002frural\",\"Ontario\\u002frural\",\"Ontario\\u002frural\",\"Ontario\\u002frural\",\"Ontario\\u002frural\",\"Ontario\\u002frural\",\"Ontario\\u002frural\",\"Ontario\\u002frural\",\"Ontario\\u002frural\",\"Ontario\\u002frural\",\"Ontario\\u002frural\",\"Ontario\\u002furban\",\"Ontario\\u002furban\",\"Ontario\\u002furban\",\"Ontario\\u002furban\",\"Ontario\\u002furban\",\"Ontario\\u002furban\",\"Ontario\\u002furban\",\"Ontario\\u002furban\",\"Ontario\\u002furban\",\"Ontario\\u002furban\",\"Ontario\\u002furban\",\"Ontario\\u002furban\",\"Ontario\\u002furban\",\"Ontario\\u002furban\",\"Ontario\\u002furban\",\"Ontario\\u002furban\",\"Ontario\\u002furban\",\"Ontario\\u002furban\",\"Ontario\\u002furban\",\"Ontario\\u002furban\",\"Ontario\\u002furban\",\"Ontario\\u002furban\",\"Ontario\",\"Ontario\",\"\"],\"values\":[30440.0,25949.0,55813.0,21688.0,8395.0,3200.0,14265.0,19824.5,3200.0,15625.0,39071.0,46902.0,100835.0,8580.5,41801.0,3200.0,16734.333333333332,30393.0,6488.0,17984.0,42392.0,23547.0,76113.0,28962.5,28174.0,17822.0,13160.0,12207.0,42928.0,39071.0,8287.833333333334,55813.0,8287.833333333334,25127.0,34588.5,26757.0,5714.75,28925.0,4057.0,8580.5,8223.0,28962.5,28978.333333333332,9619.0,5085.0,7648.0,11372.0,5044.75,27530.0,86919.0,5427.0,11819.0,5714.75,26907.5,18498.0,8287.833333333334,10079.0,4859.0,48051.0,3200.0,0.0,12495.0,42178.0,15978.5,5044.75,26907.5,13774.0,24773.0,11651.0,10341.0,16734.333333333332,12529.0,5714.75,18099.0,15721.0,11456.0,28708.0,8260.0,14088.0,8287.833333333334,12341.0,19621.0,6944.0,14580.0,36494.0,26419.0,29369.0,26837.0,13311.0,8114.0,24067.0,44215.0,4824.0,28962.5,3200.0,4057.0,3200.0,34763.0,7977.25,5714.75,19245.0,110956.0,4057.0,8287.833333333334,67131.0,106468.0,28978.333333333332,49817.0,3200.0,81863.0,10089.5,43556.0,18587.0,3200.0,16959.0,33113.0,23643.0,72662.0,14118.0,15978.5,48790.0,48651.0,37235.0,42022.0,43497.0,35074.0,28268.0,32046.0,18213.0,26639.0,57157.0,20712.0,62125.0,28975.0,17676.0,14695.0,16734.333333333332,26392.0,16188.0,29704.0,44547.0,42297.0,52787.0,28962.5,8580.5,21020.0,14620.0,7977.25,19824.5,7648.0,16958.0,28410.0,26033.0,26837.0,33800.0,22754.0,45170.0,50825.0,3200.0,24817.0,23643.0,5541.0,8410.0,17575.0,41801.0,25558.0,9946.0,32898.0,9754.0,24326.0,17596.0,21898.0,7977.25,6488.0,7977.25,22675.0,20897.0,53140.0,24098.0,30467.0,12880.0,39616.0,40846.0,46440.0,30913.0,16058.0,19896.0,48978.0,3149.0,9751.0,17074.0,17903.0,42110.0,21074.0,19349.0,19312.0,26059.0,40977.0,3200.0,7648.0,28978.333333333332,5085.0,33462.0,8287.833333333334,8580.5,26419.0,16457.0,77353.0,21074.0,34588.5,111626.0,21020.0,52838.0,39649.0,47286.0,34322.0,115850.0,78142.0,53815.0,37235.0,35074.0,28268.0,32046.0,18213.0,26639.0,57157.0,20712.0,81863.0,28708.0,62125.0,16958.0,12529.0,30440.0,28174.0,17575.0,19621.0,8395.0,14265.0,26392.0,16188.0,30393.0,26757.0,29704.0,44547.0,29369.0,21898.0,42022.0,83602.0,43497.0,52787.0,18587.0,25558.0,33462.0,48651.0,43556.0,77353.0,46902.0,100835.0,19245.0,67131.0,106468.0,34763.0,72662.0,14118.0,42392.0,23547.0,76113.0,48051.0,13160.0,12207.0,13774.0,24773.0,11651.0,14620.0,25949.0,110956.0,48790.0,28925.0,45170.0,30467.0,50825.0,12880.0,39616.0,40846.0,46440.0,30913.0,16058.0,19896.0,48978.0,3149.0,9751.0,17074.0,17903.0,42110.0,42148.0,19349.0,19312.0,26059.0,40977.0,31957.0,86919.0,86935.0,53674.0,24817.0,49817.0,69177.0,42297.0,53140.0,50203.0,42178.0,18498.0,42928.0,14580.0,36494.0,12341.0,17676.0,8223.0,28975.0,10341.0,13311.0,9946.0,32898.0,15721.0,15625.0,24067.0,44215.0,12495.0,25127.0,28410.0,26033.0,27530.0,11819.0,16457.0,21688.0,0.0,17822.0,4824.0,31909.0,20179.0,11456.0,22859.0,49727.0,20285.0,12976.0,10170.0,32000.0,22944.0,8410.0,16959.0,33113.0,18099.0,17984.0,14695.0,9754.0,6944.0,24326.0,17596.0,24098.0,11372.0,5427.0,8260.0,33800.0,22754.0,22675.0,20897.0,4859.0,9619.0,5541.0,10079.0,14088.0,1516567.0,3610266.0,5126833.0],\"type\":\"treemap\",\"root\":{\"color\":\"lightgrey\"}}],                        {\"template\":{\"data\":{\"histogram2dcontour\":[{\"type\":\"histogram2dcontour\",\"colorbar\":{\"outlinewidth\":0,\"ticks\":\"\"},\"colorscale\":[[0.0,\"#0d0887\"],[0.1111111111111111,\"#46039f\"],[0.2222222222222222,\"#7201a8\"],[0.3333333333333333,\"#9c179e\"],[0.4444444444444444,\"#bd3786\"],[0.5555555555555556,\"#d8576b\"],[0.6666666666666666,\"#ed7953\"],[0.7777777777777778,\"#fb9f3a\"],[0.8888888888888888,\"#fdca26\"],[1.0,\"#f0f921\"]]}],\"choropleth\":[{\"type\":\"choropleth\",\"colorbar\":{\"outlinewidth\":0,\"ticks\":\"\"}}],\"histogram2d\":[{\"type\":\"histogram2d\",\"colorbar\":{\"outlinewidth\":0,\"ticks\":\"\"},\"colorscale\":[[0.0,\"#0d0887\"],[0.1111111111111111,\"#46039f\"],[0.2222222222222222,\"#7201a8\"],[0.3333333333333333,\"#9c179e\"],[0.4444444444444444,\"#bd3786\"],[0.5555555555555556,\"#d8576b\"],[0.6666666666666666,\"#ed7953\"],[0.7777777777777778,\"#fb9f3a\"],[0.8888888888888888,\"#fdca26\"],[1.0,\"#f0f921\"]]}],\"heatmap\":[{\"type\":\"heatmap\",\"colorbar\":{\"outlinewidth\":0,\"ticks\":\"\"},\"colorscale\":[[0.0,\"#0d0887\"],[0.1111111111111111,\"#46039f\"],[0.2222222222222222,\"#7201a8\"],[0.3333333333333333,\"#9c179e\"],[0.4444444444444444,\"#bd3786\"],[0.5555555555555556,\"#d8576b\"],[0.6666666666666666,\"#ed7953\"],[0.7777777777777778,\"#fb9f3a\"],[0.8888888888888888,\"#fdca26\"],[1.0,\"#f0f921\"]]}],\"heatmapgl\":[{\"type\":\"heatmapgl\",\"colorbar\":{\"outlinewidth\":0,\"ticks\":\"\"},\"colorscale\":[[0.0,\"#0d0887\"],[0.1111111111111111,\"#46039f\"],[0.2222222222222222,\"#7201a8\"],[0.3333333333333333,\"#9c179e\"],[0.4444444444444444,\"#bd3786\"],[0.5555555555555556,\"#d8576b\"],[0.6666666666666666,\"#ed7953\"],[0.7777777777777778,\"#fb9f3a\"],[0.8888888888888888,\"#fdca26\"],[1.0,\"#f0f921\"]]}],\"contourcarpet\":[{\"type\":\"contourcarpet\",\"colorbar\":{\"outlinewidth\":0,\"ticks\":\"\"}}],\"contour\":[{\"type\":\"contour\",\"colorbar\":{\"outlinewidth\":0,\"ticks\":\"\"},\"colorscale\":[[0.0,\"#0d0887\"],[0.1111111111111111,\"#46039f\"],[0.2222222222222222,\"#7201a8\"],[0.3333333333333333,\"#9c179e\"],[0.4444444444444444,\"#bd3786\"],[0.5555555555555556,\"#d8576b\"],[0.6666666666666666,\"#ed7953\"],[0.7777777777777778,\"#fb9f3a\"],[0.8888888888888888,\"#fdca26\"],[1.0,\"#f0f921\"]]}],\"surface\":[{\"type\":\"surface\",\"colorbar\":{\"outlinewidth\":0,\"ticks\":\"\"},\"colorscale\":[[0.0,\"#0d0887\"],[0.1111111111111111,\"#46039f\"],[0.2222222222222222,\"#7201a8\"],[0.3333333333333333,\"#9c179e\"],[0.4444444444444444,\"#bd3786\"],[0.5555555555555556,\"#d8576b\"],[0.6666666666666666,\"#ed7953\"],[0.7777777777777778,\"#fb9f3a\"],[0.8888888888888888,\"#fdca26\"],[1.0,\"#f0f921\"]]}],\"mesh3d\":[{\"type\":\"mesh3d\",\"colorbar\":{\"outlinewidth\":0,\"ticks\":\"\"}}],\"scatter\":[{\"fillpattern\":{\"fillmode\":\"overlay\",\"size\":10,\"solidity\":0.2},\"type\":\"scatter\"}],\"parcoords\":[{\"type\":\"parcoords\",\"line\":{\"colorbar\":{\"outlinewidth\":0,\"ticks\":\"\"}}}],\"scatterpolargl\":[{\"type\":\"scatterpolargl\",\"marker\":{\"colorbar\":{\"outlinewidth\":0,\"ticks\":\"\"}}}],\"bar\":[{\"error_x\":{\"color\":\"#2a3f5f\"},\"error_y\":{\"color\":\"#2a3f5f\"},\"marker\":{\"line\":{\"color\":\"#E5ECF6\",\"width\":0.5},\"pattern\":{\"fillmode\":\"overlay\",\"size\":10,\"solidity\":0.2}},\"type\":\"bar\"}],\"scattergeo\":[{\"type\":\"scattergeo\",\"marker\":{\"colorbar\":{\"outlinewidth\":0,\"ticks\":\"\"}}}],\"scatterpolar\":[{\"type\":\"scatterpolar\",\"marker\":{\"colorbar\":{\"outlinewidth\":0,\"ticks\":\"\"}}}],\"histogram\":[{\"marker\":{\"pattern\":{\"fillmode\":\"overlay\",\"size\":10,\"solidity\":0.2}},\"type\":\"histogram\"}],\"scattergl\":[{\"type\":\"scattergl\",\"marker\":{\"colorbar\":{\"outlinewidth\":0,\"ticks\":\"\"}}}],\"scatter3d\":[{\"type\":\"scatter3d\",\"line\":{\"colorbar\":{\"outlinewidth\":0,\"ticks\":\"\"}},\"marker\":{\"colorbar\":{\"outlinewidth\":0,\"ticks\":\"\"}}}],\"scattermapbox\":[{\"type\":\"scattermapbox\",\"marker\":{\"colorbar\":{\"outlinewidth\":0,\"ticks\":\"\"}}}],\"scatterternary\":[{\"type\":\"scatterternary\",\"marker\":{\"colorbar\":{\"outlinewidth\":0,\"ticks\":\"\"}}}],\"scattercarpet\":[{\"type\":\"scattercarpet\",\"marker\":{\"colorbar\":{\"outlinewidth\":0,\"ticks\":\"\"}}}],\"carpet\":[{\"aaxis\":{\"endlinecolor\":\"#2a3f5f\",\"gridcolor\":\"white\",\"linecolor\":\"white\",\"minorgridcolor\":\"white\",\"startlinecolor\":\"#2a3f5f\"},\"baxis\":{\"endlinecolor\":\"#2a3f5f\",\"gridcolor\":\"white\",\"linecolor\":\"white\",\"minorgridcolor\":\"white\",\"startlinecolor\":\"#2a3f5f\"},\"type\":\"carpet\"}],\"table\":[{\"cells\":{\"fill\":{\"color\":\"#EBF0F8\"},\"line\":{\"color\":\"white\"}},\"header\":{\"fill\":{\"color\":\"#C8D4E3\"},\"line\":{\"color\":\"white\"}},\"type\":\"table\"}],\"barpolar\":[{\"marker\":{\"line\":{\"color\":\"#E5ECF6\",\"width\":0.5},\"pattern\":{\"fillmode\":\"overlay\",\"size\":10,\"solidity\":0.2}},\"type\":\"barpolar\"}],\"pie\":[{\"automargin\":true,\"type\":\"pie\"}]},\"layout\":{\"autotypenumbers\":\"strict\",\"colorway\":[\"#636efa\",\"#EF553B\",\"#00cc96\",\"#ab63fa\",\"#FFA15A\",\"#19d3f3\",\"#FF6692\",\"#B6E880\",\"#FF97FF\",\"#FECB52\"],\"font\":{\"color\":\"#2a3f5f\"},\"hovermode\":\"closest\",\"hoverlabel\":{\"align\":\"left\"},\"paper_bgcolor\":\"white\",\"plot_bgcolor\":\"#E5ECF6\",\"polar\":{\"bgcolor\":\"#E5ECF6\",\"angularaxis\":{\"gridcolor\":\"white\",\"linecolor\":\"white\",\"ticks\":\"\"},\"radialaxis\":{\"gridcolor\":\"white\",\"linecolor\":\"white\",\"ticks\":\"\"}},\"ternary\":{\"bgcolor\":\"#E5ECF6\",\"aaxis\":{\"gridcolor\":\"white\",\"linecolor\":\"white\",\"ticks\":\"\"},\"baxis\":{\"gridcolor\":\"white\",\"linecolor\":\"white\",\"ticks\":\"\"},\"caxis\":{\"gridcolor\":\"white\",\"linecolor\":\"white\",\"ticks\":\"\"}},\"coloraxis\":{\"colorbar\":{\"outlinewidth\":0,\"ticks\":\"\"}},\"colorscale\":{\"sequential\":[[0.0,\"#0d0887\"],[0.1111111111111111,\"#46039f\"],[0.2222222222222222,\"#7201a8\"],[0.3333333333333333,\"#9c179e\"],[0.4444444444444444,\"#bd3786\"],[0.5555555555555556,\"#d8576b\"],[0.6666666666666666,\"#ed7953\"],[0.7777777777777778,\"#fb9f3a\"],[0.8888888888888888,\"#fdca26\"],[1.0,\"#f0f921\"]],\"sequentialminus\":[[0.0,\"#0d0887\"],[0.1111111111111111,\"#46039f\"],[0.2222222222222222,\"#7201a8\"],[0.3333333333333333,\"#9c179e\"],[0.4444444444444444,\"#bd3786\"],[0.5555555555555556,\"#d8576b\"],[0.6666666666666666,\"#ed7953\"],[0.7777777777777778,\"#fb9f3a\"],[0.8888888888888888,\"#fdca26\"],[1.0,\"#f0f921\"]],\"diverging\":[[0,\"#8e0152\"],[0.1,\"#c51b7d\"],[0.2,\"#de77ae\"],[0.3,\"#f1b6da\"],[0.4,\"#fde0ef\"],[0.5,\"#f7f7f7\"],[0.6,\"#e6f5d0\"],[0.7,\"#b8e186\"],[0.8,\"#7fbc41\"],[0.9,\"#4d9221\"],[1,\"#276419\"]]},\"xaxis\":{\"gridcolor\":\"white\",\"linecolor\":\"white\",\"ticks\":\"\",\"title\":{\"standoff\":15},\"zerolinecolor\":\"white\",\"automargin\":true,\"zerolinewidth\":2},\"yaxis\":{\"gridcolor\":\"white\",\"linecolor\":\"white\",\"ticks\":\"\",\"title\":{\"standoff\":15},\"zerolinecolor\":\"white\",\"automargin\":true,\"zerolinewidth\":2},\"scene\":{\"xaxis\":{\"backgroundcolor\":\"#E5ECF6\",\"gridcolor\":\"white\",\"linecolor\":\"white\",\"showbackground\":true,\"ticks\":\"\",\"zerolinecolor\":\"white\",\"gridwidth\":2},\"yaxis\":{\"backgroundcolor\":\"#E5ECF6\",\"gridcolor\":\"white\",\"linecolor\":\"white\",\"showbackground\":true,\"ticks\":\"\",\"zerolinecolor\":\"white\",\"gridwidth\":2},\"zaxis\":{\"backgroundcolor\":\"#E5ECF6\",\"gridcolor\":\"white\",\"linecolor\":\"white\",\"showbackground\":true,\"ticks\":\"\",\"zerolinecolor\":\"white\",\"gridwidth\":2}},\"shapedefaults\":{\"line\":{\"color\":\"#2a3f5f\"}},\"annotationdefaults\":{\"arrowcolor\":\"#2a3f5f\",\"arrowhead\":0,\"arrowwidth\":1},\"geo\":{\"bgcolor\":\"white\",\"landcolor\":\"#E5ECF6\",\"subunitcolor\":\"white\",\"showland\":true,\"showlakes\":true,\"lakecolor\":\"white\"},\"title\":{\"x\":0.05},\"mapbox\":{\"style\":\"light\"}}},\"coloraxis\":{\"colorbar\":{\"title\":{\"text\":\"pop_count\"}},\"colorscale\":[[0.0,\"rgb(103,0,31)\"],[0.1,\"rgb(178,24,43)\"],[0.2,\"rgb(214,96,77)\"],[0.3,\"rgb(244,165,130)\"],[0.4,\"rgb(253,219,199)\"],[0.5,\"rgb(247,247,247)\"],[0.6,\"rgb(209,229,240)\"],[0.7,\"rgb(146,197,222)\"],[0.8,\"rgb(67,147,195)\"],[0.9,\"rgb(33,102,172)\"],[1.0,\"rgb(5,48,97)\"]],\"cmid\":null},\"legend\":{\"tracegroupgap\":0},\"margin\":{\"t\":50,\"l\":25,\"r\":25,\"b\":25}},                        {\"responsive\": true}                    ).then(function(){\n",
       "                            \n",
       "var gd = document.getElementById('18c04a15-c7b4-4294-80ee-15caf43cfe04');\n",
       "var x = new MutationObserver(function (mutations, observer) {{\n",
       "        var display = window.getComputedStyle(gd).display;\n",
       "        if (!display || display === 'none') {{\n",
       "            console.log([gd, 'removed!']);\n",
       "            Plotly.purge(gd);\n",
       "            observer.disconnect();\n",
       "        }}\n",
       "}});\n",
       "\n",
       "// Listen for the removal of the full notebook cells\n",
       "var notebookContainer = gd.closest('#notebook-container');\n",
       "if (notebookContainer) {{\n",
       "    x.observe(notebookContainer, {childList: true});\n",
       "}}\n",
       "\n",
       "// Listen for the clearing of the current output cell\n",
       "var outputEl = gd.closest('.output');\n",
       "if (outputEl) {{\n",
       "    x.observe(outputEl, {childList: true});\n",
       "}}\n",
       "\n",
       "                        })                };                });            </script>        </div>"
      ]
     },
     "metadata": {},
     "output_type": "display_data"
    }
   ],
   "source": [
    "df = primary_care_provider\n",
    "fig = px.treemap(df, path=[px.Constant(\"Ontario\"), 'population_density_per_are','FSC', 'COMMUNITY'], \n",
    "                 values='pop_per_clinic', color = 'pop_count', color_continuous_scale = 'RdBu', hover_data = ['population','COMMUNITY'],\n",
    "                 color_continuous_midpoint=np.average(df['pop_count'], weights=df['pop_per_clinic']))\n",
    "fig.update_traces(root_color=\"lightgrey\")\n",
    "fig.update_layout(margin = dict(t=50, l=25, r=25, b=25))\n",
    "fig.show()"
   ]
  },
  {
   "cell_type": "markdown",
   "id": "ea6917f1-1286-4901-81cc-481e0c80f04d",
   "metadata": {},
   "source": [
    "#### Observations\n",
    "\n",
    "- There are many more urban areas with smaller population serviced by lower number of clinics, on the other hand, rural areas with similar size population has higher number of clinic despite their small populations perhaps the land area covered by the population can be the effect in this discrepancy. Unfortunately, we do not know the land area covered per each population area in this dataset, however this assumption most likely correct as forward sortation area code in rural zones contains more than one community area which covered by this dataset. \n",
    "- Based on the above observation, Ontario Health ministry recommendation to open a new clinic might be depended on the land area, number of communities covered by that area and it's population.\n",
    "- It is safe to say that most urban areas averages one clinic per area plainly shows the lack of health care providers available in the province. Number of doctors for each clinic is unknown from this dataset, however the mean value of the population covered by clinic exceeds 20,000 people is extremely high; which might also explains decline in doctors who chooses to serve as a family doctor in recent years as this job would come with significant workload and would be challenged by work/life balance. "
   ]
  },
  {
   "cell_type": "code",
   "execution_count": 216,
   "id": "96b5e2cf-6253-4faf-b978-c09a2e79f432",
   "metadata": {},
   "outputs": [
    {
     "data": {
      "text/plain": [
       "<matplotlib.legend.Legend at 0x330bb4dd0>"
      ]
     },
     "execution_count": 216,
     "metadata": {},
     "output_type": "execute_result"
    },
    {
     "data": {
      "image/png": "[encoded data removed]",
      "text/plain": [
       "<Figure size 1500x500 with 3 Axes>"
      ]
     },
     "metadata": {},
     "output_type": "display_data"
    }
   ],
   "source": [
    "urban_df = df.loc[(df['population_density_per_are']) == 'urban']\n",
    "rural_df = df.loc[(df['population_density_per_are']) == 'rural']\n",
    "\n",
    "fig, axes =plt.subplots(1,3, figsize =(15, 5), sharey = True)\n",
    "fig.suptitle('Primary Care Provider Distribution by population')\n",
    "\n",
    "sns.stripplot(data=urban_df, x=\"pop_count\", y=\"population\", hue=\"SERVICE_TYPE\", ax= axes[0], dodge = True, s=10, marker=\"D\", linewidth=2, alpha=1, palette = 'Spectral')\n",
    "sns.stripplot(data=rural_df,  x=\"pop_count\", y=\"population\", hue=\"SERVICE_TYPE\", ax = axes[1], dodge = True, s=10, marker=\"D\", linewidth=2, alpha=1, palette = 'Spectral')\n",
    "sns.stripplot(data=df, x=\"pop_count\", y=\"population\", hue=\"SERVICE_TYPE\", ax = axes[2], dodge = True, s=10, marker=\"D\", linewidth=2, alpha=1, palette = 'Spectral')\n",
    "axes[0].legend(loc='upper center', bbox_to_anchor=(0.55, -0.1))\n",
    "axes[1].legend(loc='upper center', bbox_to_anchor=(0.55, -0.1))\n",
    "axes[2].legend(loc='upper center', bbox_to_anchor=(0.55, -0.1))"
   ]
  },
  {
   "cell_type": "code",
   "execution_count": null,
   "id": "d7a1dfd5-ea86-4bbc-9a5e-afc13024dce5",
   "metadata": {},
   "outputs": [],
   "source": []
  },
  {
   "cell_type": "code",
   "execution_count": null,
   "id": "1604e041-8e8d-4c59-8f1f-0ab22562b9ba",
   "metadata": {},
   "outputs": [],
   "source": []
  },
  {
   "cell_type": "code",
   "execution_count": null,
   "id": "51360aba-2954-4f18-9c1b-f88a48053d82",
   "metadata": {},
   "outputs": [],
   "source": []
  }
 ],
 "metadata": {
  "kernelspec": {
   "display_name": "Python [conda env:base] *",
   "language": "python",
   "name": "conda-base-py"
  },
  "language_info": {
   "codemirror_mode": {
    "name": "ipython",
    "version": 3
   },
   "file_extension": ".py",
   "mimetype": "text/x-python",
   "name": "python",
   "nbconvert_exporter": "python",
   "pygments_lexer": "ipython3",
   "version": "3.12.7"
  }
 },
 "nbformat": 4,
 "nbformat_minor": 5
}
