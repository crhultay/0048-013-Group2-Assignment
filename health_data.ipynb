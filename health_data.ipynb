{
 "cells": [
  {
   "cell_type": "markdown",
   "id": "4aac240b-00a2-4aa1-b3ef-20885c4848c3",
   "metadata": {},
   "source": [
    "# Primary Health Care Accessibility in Ontario"
   ]
  },
  {
   "cell_type": "code",
   "execution_count": 10,
   "id": "05c7178b",
   "metadata": {},
   "outputs": [
    {
     "name": "stdout",
     "output_type": "stream",
     "text": [
      "Collecting geopandas\n",
      "  Downloading geopandas-1.0.1-py3-none-any.whl.metadata (2.2 kB)\n",
      "Requirement already satisfied: numpy>=1.22 in /opt/anaconda3/lib/python3.12/site-packages (from geopandas) (1.26.4)\n",
      "Collecting pyogrio>=0.7.2 (from geopandas)\n",
      "  Downloading pyogrio-0.10.0-cp312-cp312-macosx_12_0_arm64.whl.metadata (5.5 kB)\n",
      "Requirement already satisfied: packaging in /opt/anaconda3/lib/python3.12/site-packages (from geopandas) (24.1)\n",
      "Requirement already satisfied: pandas>=1.4.0 in /opt/anaconda3/lib/python3.12/site-packages (from geopandas) (2.2.2)\n",
      "Collecting pyproj>=3.3.0 (from geopandas)\n",
      "  Downloading pyproj-3.7.1-cp312-cp312-macosx_14_0_arm64.whl.metadata (31 kB)\n",
      "Collecting shapely>=2.0.0 (from geopandas)\n",
      "  Downloading shapely-2.1.0-cp312-cp312-macosx_11_0_arm64.whl.metadata (6.8 kB)\n",
      "Requirement already satisfied: python-dateutil>=2.8.2 in /opt/anaconda3/lib/python3.12/site-packages (from pandas>=1.4.0->geopandas) (2.9.0.post0)\n",
      "Requirement already satisfied: pytz>=2020.1 in /opt/anaconda3/lib/python3.12/site-packages (from pandas>=1.4.0->geopandas) (2024.1)\n",
      "Requirement already satisfied: tzdata>=2022.7 in /opt/anaconda3/lib/python3.12/site-packages (from pandas>=1.4.0->geopandas) (2023.3)\n",
      "Requirement already satisfied: certifi in /opt/anaconda3/lib/python3.12/site-packages (from pyogrio>=0.7.2->geopandas) (2024.12.14)\n",
      "Requirement already satisfied: six>=1.5 in /opt/anaconda3/lib/python3.12/site-packages (from python-dateutil>=2.8.2->pandas>=1.4.0->geopandas) (1.16.0)\n",
      "Downloading geopandas-1.0.1-py3-none-any.whl (323 kB)\n",
      "Downloading pyogrio-0.10.0-cp312-cp312-macosx_12_0_arm64.whl (15.1 MB)\n",
      "\u001b[2K   \u001b[90m━━━━━━━━━━━━━━━━━━━━━━━━━━━━━━━━━━━━━━━━\u001b[0m \u001b[32m15.1/15.1 MB\u001b[0m \u001b[31m63.0 MB/s\u001b[0m eta \u001b[36m0:00:00\u001b[0ma \u001b[36m0:00:01\u001b[0m\n",
      "\u001b[?25hDownloading pyproj-3.7.1-cp312-cp312-macosx_14_0_arm64.whl (4.7 MB)\n",
      "\u001b[2K   \u001b[90m━━━━━━━━━━━━━━━━━━━━━━━━━━━━━━━━━━━━━━━━\u001b[0m \u001b[32m4.7/4.7 MB\u001b[0m \u001b[31m67.8 MB/s\u001b[0m eta \u001b[36m0:00:00\u001b[0m\n",
      "\u001b[?25hDownloading shapely-2.1.0-cp312-cp312-macosx_11_0_arm64.whl (1.6 MB)\n",
      "\u001b[2K   \u001b[90m━━━━━━━━━━━━━━━━━━━━━━━━━━━━━━━━━━━━━━━━\u001b[0m \u001b[32m1.6/1.6 MB\u001b[0m \u001b[31m51.0 MB/s\u001b[0m eta \u001b[36m0:00:00\u001b[0m\n",
      "\u001b[?25hInstalling collected packages: shapely, pyproj, pyogrio, geopandas\n",
      "Successfully installed geopandas-1.0.1 pyogrio-0.10.0 pyproj-3.7.1 shapely-2.1.0\n"
     ]
    }
   ],
   "source": [
    "#importing all necessary libraries for data analysis and visualization\n",
    "\n",
    "import pandas as pd \n",
    "import numpy as np \n",
    "import seaborn as sns \n",
    "import matplotlib.pyplot as plt\n",
    "import geopandas"
   ]
  },
  {
   "cell_type": "markdown",
   "id": "6bba336d-9dc0-4515-a891-c74e1d11fd42",
   "metadata": {},
   "source": [
    "## 1. Data Inspection and Cleaning "
   ]
  },
  {
   "cell_type": "code",
   "execution_count": 16,
   "id": "d02b548d",
   "metadata": {},
   "outputs": [
    {
     "name": "stdout",
     "output_type": "stream",
     "text": [
      "<class 'pandas.core.frame.DataFrame'>\n",
      "RangeIndex: 11749 entries, 0 to 11748\n",
      "Data columns (total 19 columns):\n",
      " #   Column                      Non-Null Count  Dtype  \n",
      "---  ------                      --------------  -----  \n",
      " 0   X                           11749 non-null  float64\n",
      " 1   Y                           11749 non-null  float64\n",
      " 2   OGF_ID                      11749 non-null  int64  \n",
      " 3   MOH_SERVICE_PROVIDER_IDENT  11749 non-null  object \n",
      " 4   SERVICE_TYPE                11749 non-null  object \n",
      " 5   SERVICE_TYPE_DETAIL         9976 non-null   object \n",
      " 6   ENGLISH_NAME                11749 non-null  object \n",
      " 7   FRENCH_NAME                 88 non-null     object \n",
      " 8   ENGLISH_NAME_ALT            916 non-null    object \n",
      " 9   FRENCH_NAME_ALT             4 non-null      object \n",
      " 10  ADDRESS_LINE_1              11749 non-null  object \n",
      " 11  ADDRESS_LINE_2              2813 non-null   object \n",
      " 12  ADDRESS_DESCRIPTOR          2173 non-null   object \n",
      " 13  COMMUNITY                   11749 non-null  object \n",
      " 14  POSTAL_CODE                 11748 non-null  object \n",
      " 15  GEOMETRY_UPDATE_DATETIME    11749 non-null  object \n",
      " 16  EFFECTIVE_DATETIME          11749 non-null  object \n",
      " 17  SYSTEM_DATETIME             11749 non-null  object \n",
      " 18  OBJECTID                    11749 non-null  int64  \n",
      "dtypes: float64(2), int64(2), object(15)\n",
      "memory usage: 1.7+ MB\n"
     ]
    },
    {
     "data": {
      "text/plain": [
       "array(['Licensed Lab and Specimen Collection Centre Locations',\n",
       "       'Licenced Retirement Home', 'Pharmacy', 'Long-Term Care Home',\n",
       "       'Community Support Services', 'Primary Care Provider',\n",
       "       'Mental Health and Addiction Organization',\n",
       "       'HIV/AIDS and Hep C Programs', 'Seniors Active Living Centre',\n",
       "       'Hospital', \"Children's Treatment Centre\", 'Midwifery Clinic',\n",
       "       'Public Health Unit Office Locations', 'Community Health Centre'],\n",
       "      dtype=object)"
      ]
     },
     "execution_count": 16,
     "metadata": {},
     "output_type": "execute_result"
    }
   ],
   "source": [
    "#source data downloaded from:https://data.ontario.ca/dataset/family-health-team-fht-locations\n",
    "\n",
    "# data text file loaded in pandas and inspected to identify significant attribute for our analysis \n",
    "url = 'Ministry_of_Health_Service_Provider_Locations.csv'\n",
    "location_data = pd.read_csv(url, sep = ',', )\n",
    "location_data.info()\n",
    "location_data.drop(['FRENCH_NAME', 'FRENCH_NAME_ALT', 'ENGLISH_NAME_ALT'], axis = 1)\n",
    "location_data['SERVICE_TYPE'].unique()\n",
    "\n",
    "#Service Type re-cateegorized to identify group of Primary Care Provider services:\n",
    "location_data['NEW_SERVICE_TYPE'] = location_data['SERVICE_TYPE']\n",
    "location_data.loc[location_data['SERVICE_TYPE'].str.contains('Family Health Team|Nurse Practitioner-Led Clinic|Indigenous Primary Health Care Organization|Integrated Community Health Services Centre|Nursing Station'), 'NEW_SERVICE_TYPE'] = 'Primary Care Provider'\n",
    "location_data['NEW_SERVICE_TYPE'].unique()\n"
   ]
  },
  {
   "cell_type": "code",
   "execution_count": null,
   "id": "5d73ca1a-fd3e-4bd8-94c8-d6b261c0a4d3",
   "metadata": {},
   "outputs": [],
   "source": [
    "# Mainly : primary care provider density: count/km2 for regional can be calculated \n",
    "# Q1. Rural areas vs highly populated cities, type of primary care provider services offered \n",
    "# Q2. primary care provider: km2/population identification to understand the accessibility by the population around the clinics\n",
    "# A. Is the primary care provider serving a population size that is an outlier from provincial standards measured by the distance from any other provider \n",
    "# B. Is the primary care provider, nearest provider to a population centre which will be considered inaccessable; i.e. greater 30 min commute time especially for small towns perhaps in northern ontario \n"
   ]
  },
  {
   "cell_type": "code",
   "execution_count": 42,
   "id": "07e0f222-2e86-4e15-b021-522be98a751b",
   "metadata": {},
   "outputs": [
    {
     "name": "stdout",
     "output_type": "stream",
     "text": [
      "<class 'pandas.core.frame.DataFrame'>\n",
      "RangeIndex: 1646 entries, 0 to 1645\n",
      "Data columns (total 4 columns):\n",
      " #   Column                                   Non-Null Count  Dtype \n",
      "---  ------                                   --------------  ----- \n",
      " 0   forward sortation area                   1646 non-null   object\n",
      " 1   population_2021                          1646 non-null   object\n",
      " 2   Total private dwelling_2021              1646 non-null   object\n",
      " 3   private dwelling by usual resident_2021  1646 non-null   object\n",
      "dtypes: object(4)\n",
      "memory usage: 51.6+ KB\n"
     ]
    },
    {
     "name": "stderr",
     "output_type": "stream",
     "text": [
      "/var/folders/rn/k7xw3y792b5bzfp00y6j5z1c0000gn/T/ipykernel_8177/21831363.py:2: ParserWarning: Falling back to the 'python' engine because the 'c' engine does not support skipfooter; you can avoid this warning by specifying engine='python'.\n",
      "  census_data = pd.read_csv('population count per fsc.csv', sep = ',', skiprows = 11, skipfooter = 8, names = ['forward sortation area', 'population_2021', 'Total private dwelling_2021', 'private dwelling by usual resident_2021'])\n"
     ]
    }
   ],
   "source": [
    "#source data : https://www150.statcan.gc.ca/t1/tbl1/en/tv.action?pid=9810001901\n",
    "census_data = pd.read_csv('population count per fsc.csv', sep = ',', skiprows = 11, skipfooter = 8, names = ['forward sortation area', 'population_2021', 'Total private dwelling_2021', 'private dwelling by usual resident_2021'])\n",
    "census_data.info()\n"
   ]
  }
 ],
 "metadata": {
  "kernelspec": {
   "display_name": "Python [conda env:base] *",
   "language": "python",
   "name": "conda-base-py"
  },
  "language_info": {
   "codemirror_mode": {
    "name": "ipython",
    "version": 3
   },
   "file_extension": ".py",
   "mimetype": "text/x-python",
   "name": "python",
   "nbconvert_exporter": "python",
   "pygments_lexer": "ipython3",
   "version": "3.12.7"
  }
 },
 "nbformat": 4,
 "nbformat_minor": 5
}
