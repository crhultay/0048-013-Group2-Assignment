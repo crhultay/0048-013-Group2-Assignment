{
 "cells": [
  {
   "cell_type": "code",
   "execution_count": 1,
   "id": "e44d9aeb-3c02-464a-a8c2-d8b6a398a207",
   "metadata": {},
   "outputs": [],
   "source": [
    "# Load packages\n",
    "import pandas as pd\n",
    "import numpy as np\n",
    "import matplotlib.pyplot as plt\n",
    "import seaborn as sns"
   ]
  },
  {
   "cell_type": "code",
   "execution_count": 2,
   "id": "ecb02f8f-8460-4fcc-8b43-bf2f771eb093",
   "metadata": {},
   "outputs": [
    {
     "name": "stdout",
     "output_type": "stream",
     "text": [
      "<class 'pandas.core.frame.DataFrame'>\n",
      "RangeIndex: 51 entries, 0 to 50\n",
      "Data columns (total 29 columns):\n",
      " #   Column                                                             Non-Null Count  Dtype  \n",
      "---  ------                                                             --------------  -----  \n",
      " 0   Type of professional                                               51 non-null     object \n",
      " 1   Newfoundland and Labrador: Count                                   37 non-null     object \n",
      " 2   Newfoundland and Labrador: Per 100,000 population                  37 non-null     object \n",
      " 3   Prince Edward Island: Count                                        37 non-null     object \n",
      " 4   Prince Edward Island: Per 100,000 population                       37 non-null     object \n",
      " 5   Nova Scotia: Count                                                 37 non-null     object \n",
      " 6   Nova Scotia: Per 100,000 population                                37 non-null     object \n",
      " 7   New Brunswick: Count                                               37 non-null     object \n",
      " 8   New Brunswick: Per 100,000 population                              37 non-null     object \n",
      " 9   Quebec: Count                                                      37 non-null     object \n",
      " 10  Quebec: Per 100,000 population                                     37 non-null     object \n",
      " 11  Ontario: Count                                                     37 non-null     object \n",
      " 12  Ontario: Per 100,000 population                                    37 non-null     object \n",
      " 13  Manitoba: Count                                                    37 non-null     object \n",
      " 14  Manitoba: Per 100,000 population                                   37 non-null     object \n",
      " 15  Saskatchewan: Count                                                37 non-null     object \n",
      " 16  Saskatchewan: Per 100,000 population                               37 non-null     object \n",
      " 17  Alberta: Count                                                     37 non-null     object \n",
      " 18  Alberta: Per 100,000 population                                    37 non-null     object \n",
      " 19  British Columbia: Count                                            37 non-null     object \n",
      " 20  British Columbia: Per 100,000 population                           37 non-null     object \n",
      " 21  Yukon: Count                                                       37 non-null     object \n",
      " 22  Yukon: Per 100,000 population                                      37 non-null     object \n",
      " 23  Northwest Territories: Count                                       37 non-null     object \n",
      " 24  Northwest Territories: Per 100,000 population                      37 non-null     object \n",
      " 25  Nunavut: Count                                                     37 non-null     object \n",
      " 26  Nunavut: Per 100,000 population                                    37 non-null     object \n",
      " 27  Provinces/territories with available data: Count                   37 non-null     float64\n",
      " 28  Provinces/territories with available data: Per 100,000 population  37 non-null     float64\n",
      "dtypes: float64(2), object(27)\n",
      "memory usage: 11.7+ KB\n"
     ]
    }
   ],
   "source": [
    "# Read in the data\n",
    "workers = pd.read_excel(\"canada_health_workforce.xlsx\", sheet_name = \"Table 1\", skiprows = 1)\n",
    "workers.info()"
   ]
  },
  {
   "cell_type": "code",
   "execution_count": 3,
   "id": "7b59f241-72b9-47f9-9e78-a2cdf638c8ab",
   "metadata": {},
   "outputs": [
    {
     "name": "stdout",
     "output_type": "stream",
     "text": [
      "<class 'pandas.core.frame.DataFrame'>\n",
      "Index: 3 entries, 23 to 32\n",
      "Data columns (total 14 columns):\n",
      " #   Column                                             Non-Null Count  Dtype \n",
      "---  ------                                             --------------  ----- \n",
      " 0   Type of professional                               3 non-null      object\n",
      " 1   Newfoundland and Labrador: Per 100,000 population  3 non-null      object\n",
      " 2   Prince Edward Island: Per 100,000 population       3 non-null      object\n",
      " 3   Nova Scotia: Per 100,000 population                3 non-null      object\n",
      " 4   New Brunswick: Per 100,000 population              3 non-null      object\n",
      " 5   Quebec: Per 100,000 population                     3 non-null      object\n",
      " 6   Ontario: Per 100,000 population                    3 non-null      object\n",
      " 7   Manitoba: Per 100,000 population                   3 non-null      object\n",
      " 8   Saskatchewan: Per 100,000 population               3 non-null      object\n",
      " 9   Alberta: Per 100,000 population                    3 non-null      object\n",
      " 10  British Columbia: Per 100,000 population           3 non-null      object\n",
      " 11  Yukon: Per 100,000 population                      3 non-null      object\n",
      " 12  Northwest Territories: Per 100,000 population      3 non-null      object\n",
      " 13  Nunavut: Per 100,000 population                    3 non-null      object\n",
      "dtypes: object(14)\n",
      "memory usage: 360.0+ bytes\n"
     ]
    }
   ],
   "source": [
    "# Select rows corresponding to nurse practitioners, doctors, and nurses, and columns that are normalized by population size\n",
    "workers = workers.loc[workers[\"Type of professional\"].isin([\"Physicians\", \"Nurse practitioners\", \"Registered nurses\"])]\n",
    "workers = workers.iloc[:, ::2]\n",
    "workers = workers.iloc[:, :-1]\n",
    "workers.info()"
   ]
  },
  {
   "cell_type": "code",
   "execution_count": 4,
   "id": "8934c702-85f9-4360-9a21-c798562da74e",
   "metadata": {},
   "outputs": [],
   "source": [
    "# Tidying the data\n",
    "workers.columns = [\"Type\", \"NL\", \"PE\", \"NS\", \"NB\", \"QC\", \"ON\", \"MB\", \"SK\", \"AB\", \"BC\", \"YT\", \"NT\", \"NU\"]\n",
    "workers = workers.melt(id_vars = \"Type\").rename({\"variable\": \"Province/Territory\", \"value\": \"Count per 100,000\"}, axis = 1)"
   ]
  },
  {
   "cell_type": "code",
   "execution_count": 5,
   "id": "358ca8ed-799f-4d48-b5cf-dd29fb204bc4",
   "metadata": {},
   "outputs": [
    {
     "data": {
      "text/html": [
       "<div>\n",
       "<style scoped>\n",
       "    .dataframe tbody tr th:only-of-type {\n",
       "        vertical-align: middle;\n",
       "    }\n",
       "\n",
       "    .dataframe tbody tr th {\n",
       "        vertical-align: top;\n",
       "    }\n",
       "\n",
       "    .dataframe thead th {\n",
       "        text-align: right;\n",
       "    }\n",
       "</style>\n",
       "<table border=\"1\" class=\"dataframe\">\n",
       "  <thead>\n",
       "    <tr style=\"text-align: right;\">\n",
       "      <th></th>\n",
       "      <th>Type</th>\n",
       "      <th>Province/Territory</th>\n",
       "      <th>Count per 100,000</th>\n",
       "    </tr>\n",
       "  </thead>\n",
       "  <tbody>\n",
       "    <tr>\n",
       "      <th>0</th>\n",
       "      <td>Physicians</td>\n",
       "      <td>NL</td>\n",
       "      <td>259.7</td>\n",
       "    </tr>\n",
       "    <tr>\n",
       "      <th>1</th>\n",
       "      <td>Nurse practitioners</td>\n",
       "      <td>NL</td>\n",
       "      <td>48.3</td>\n",
       "    </tr>\n",
       "    <tr>\n",
       "      <th>2</th>\n",
       "      <td>Registered nurses</td>\n",
       "      <td>NL</td>\n",
       "      <td>1132.9</td>\n",
       "    </tr>\n",
       "    <tr>\n",
       "      <th>3</th>\n",
       "      <td>Physicians</td>\n",
       "      <td>PE</td>\n",
       "      <td>214.6</td>\n",
       "    </tr>\n",
       "    <tr>\n",
       "      <th>4</th>\n",
       "      <td>Nurse practitioners</td>\n",
       "      <td>PE</td>\n",
       "      <td>40.9</td>\n",
       "    </tr>\n",
       "    <tr>\n",
       "      <th>5</th>\n",
       "      <td>Registered nurses</td>\n",
       "      <td>PE</td>\n",
       "      <td>1099.0</td>\n",
       "    </tr>\n",
       "    <tr>\n",
       "      <th>6</th>\n",
       "      <td>Physicians</td>\n",
       "      <td>NS</td>\n",
       "      <td>260.6</td>\n",
       "    </tr>\n",
       "    <tr>\n",
       "      <th>7</th>\n",
       "      <td>Nurse practitioners</td>\n",
       "      <td>NS</td>\n",
       "      <td>31.2</td>\n",
       "    </tr>\n",
       "    <tr>\n",
       "      <th>8</th>\n",
       "      <td>Registered nurses</td>\n",
       "      <td>NS</td>\n",
       "      <td>1004.4</td>\n",
       "    </tr>\n",
       "    <tr>\n",
       "      <th>9</th>\n",
       "      <td>Physicians</td>\n",
       "      <td>NB</td>\n",
       "      <td>265.2</td>\n",
       "    </tr>\n",
       "    <tr>\n",
       "      <th>10</th>\n",
       "      <td>Nurse practitioners</td>\n",
       "      <td>NB</td>\n",
       "      <td>23.1</td>\n",
       "    </tr>\n",
       "    <tr>\n",
       "      <th>11</th>\n",
       "      <td>Registered nurses</td>\n",
       "      <td>NB</td>\n",
       "      <td>955.6</td>\n",
       "    </tr>\n",
       "    <tr>\n",
       "      <th>12</th>\n",
       "      <td>Physicians</td>\n",
       "      <td>QC</td>\n",
       "      <td>260.1</td>\n",
       "    </tr>\n",
       "    <tr>\n",
       "      <th>13</th>\n",
       "      <td>Nurse practitioners</td>\n",
       "      <td>QC</td>\n",
       "      <td>15.9</td>\n",
       "    </tr>\n",
       "    <tr>\n",
       "      <th>14</th>\n",
       "      <td>Registered nurses</td>\n",
       "      <td>QC</td>\n",
       "      <td>881.8</td>\n",
       "    </tr>\n",
       "    <tr>\n",
       "      <th>15</th>\n",
       "      <td>Physicians</td>\n",
       "      <td>ON</td>\n",
       "      <td>225.6</td>\n",
       "    </tr>\n",
       "    <tr>\n",
       "      <th>16</th>\n",
       "      <td>Nurse practitioners</td>\n",
       "      <td>ON</td>\n",
       "      <td>28.2</td>\n",
       "    </tr>\n",
       "    <tr>\n",
       "      <th>17</th>\n",
       "      <td>Registered nurses</td>\n",
       "      <td>ON</td>\n",
       "      <td>708.0</td>\n",
       "    </tr>\n",
       "    <tr>\n",
       "      <th>18</th>\n",
       "      <td>Physicians</td>\n",
       "      <td>MB</td>\n",
       "      <td>219.1</td>\n",
       "    </tr>\n",
       "    <tr>\n",
       "      <th>19</th>\n",
       "      <td>Nurse practitioners</td>\n",
       "      <td>MB</td>\n",
       "      <td>21.7</td>\n",
       "    </tr>\n",
       "    <tr>\n",
       "      <th>20</th>\n",
       "      <td>Registered nurses</td>\n",
       "      <td>MB</td>\n",
       "      <td>925.1</td>\n",
       "    </tr>\n",
       "    <tr>\n",
       "      <th>21</th>\n",
       "      <td>Physicians</td>\n",
       "      <td>SK</td>\n",
       "      <td>221.4</td>\n",
       "    </tr>\n",
       "    <tr>\n",
       "      <th>22</th>\n",
       "      <td>Nurse practitioners</td>\n",
       "      <td>SK</td>\n",
       "      <td>22.0</td>\n",
       "    </tr>\n",
       "    <tr>\n",
       "      <th>23</th>\n",
       "      <td>Registered nurses</td>\n",
       "      <td>SK</td>\n",
       "      <td>972.6</td>\n",
       "    </tr>\n",
       "    <tr>\n",
       "      <th>24</th>\n",
       "      <td>Physicians</td>\n",
       "      <td>AB</td>\n",
       "      <td>240.1</td>\n",
       "    </tr>\n",
       "    <tr>\n",
       "      <th>25</th>\n",
       "      <td>Nurse practitioners</td>\n",
       "      <td>AB</td>\n",
       "      <td>15.4</td>\n",
       "    </tr>\n",
       "    <tr>\n",
       "      <th>26</th>\n",
       "      <td>Registered nurses</td>\n",
       "      <td>AB</td>\n",
       "      <td>792.3</td>\n",
       "    </tr>\n",
       "    <tr>\n",
       "      <th>27</th>\n",
       "      <td>Physicians</td>\n",
       "      <td>BC</td>\n",
       "      <td>272.2</td>\n",
       "    </tr>\n",
       "    <tr>\n",
       "      <th>28</th>\n",
       "      <td>Nurse practitioners</td>\n",
       "      <td>BC</td>\n",
       "      <td>16.0</td>\n",
       "    </tr>\n",
       "    <tr>\n",
       "      <th>29</th>\n",
       "      <td>Registered nurses</td>\n",
       "      <td>BC</td>\n",
       "      <td>759.1</td>\n",
       "    </tr>\n",
       "    <tr>\n",
       "      <th>30</th>\n",
       "      <td>Physicians</td>\n",
       "      <td>YT</td>\n",
       "      <td>204.6</td>\n",
       "    </tr>\n",
       "    <tr>\n",
       "      <th>31</th>\n",
       "      <td>Nurse practitioners</td>\n",
       "      <td>YT</td>\n",
       "      <td>42.2</td>\n",
       "    </tr>\n",
       "    <tr>\n",
       "      <th>32</th>\n",
       "      <td>Registered nurses</td>\n",
       "      <td>YT</td>\n",
       "      <td>1447.5</td>\n",
       "    </tr>\n",
       "    <tr>\n",
       "      <th>33</th>\n",
       "      <td>Physicians</td>\n",
       "      <td>NT</td>\n",
       "      <td>131.2</td>\n",
       "    </tr>\n",
       "    <tr>\n",
       "      <th>34</th>\n",
       "      <td>Nurse practitioners</td>\n",
       "      <td>NT</td>\n",
       "      <td>138.9</td>\n",
       "    </tr>\n",
       "    <tr>\n",
       "      <th>35</th>\n",
       "      <td>Registered nurses</td>\n",
       "      <td>NT</td>\n",
       "      <td>1890.4</td>\n",
       "    </tr>\n",
       "    <tr>\n",
       "      <th>36</th>\n",
       "      <td>Physicians</td>\n",
       "      <td>NU</td>\n",
       "      <td>71.3</td>\n",
       "    </tr>\n",
       "    <tr>\n",
       "      <th>37</th>\n",
       "      <td>Nurse practitioners</td>\n",
       "      <td>NU</td>\n",
       "      <td>138.9</td>\n",
       "    </tr>\n",
       "    <tr>\n",
       "      <th>38</th>\n",
       "      <td>Registered nurses</td>\n",
       "      <td>NU</td>\n",
       "      <td>1890.4</td>\n",
       "    </tr>\n",
       "  </tbody>\n",
       "</table>\n",
       "</div>"
      ],
      "text/plain": [
       "                   Type Province/Territory  Count per 100,000\n",
       "0            Physicians                 NL              259.7\n",
       "1   Nurse practitioners                 NL               48.3\n",
       "2     Registered nurses                 NL             1132.9\n",
       "3            Physicians                 PE              214.6\n",
       "4   Nurse practitioners                 PE               40.9\n",
       "5     Registered nurses                 PE             1099.0\n",
       "6            Physicians                 NS              260.6\n",
       "7   Nurse practitioners                 NS               31.2\n",
       "8     Registered nurses                 NS             1004.4\n",
       "9            Physicians                 NB              265.2\n",
       "10  Nurse practitioners                 NB               23.1\n",
       "11    Registered nurses                 NB              955.6\n",
       "12           Physicians                 QC              260.1\n",
       "13  Nurse practitioners                 QC               15.9\n",
       "14    Registered nurses                 QC              881.8\n",
       "15           Physicians                 ON              225.6\n",
       "16  Nurse practitioners                 ON               28.2\n",
       "17    Registered nurses                 ON              708.0\n",
       "18           Physicians                 MB              219.1\n",
       "19  Nurse practitioners                 MB               21.7\n",
       "20    Registered nurses                 MB              925.1\n",
       "21           Physicians                 SK              221.4\n",
       "22  Nurse practitioners                 SK               22.0\n",
       "23    Registered nurses                 SK              972.6\n",
       "24           Physicians                 AB              240.1\n",
       "25  Nurse practitioners                 AB               15.4\n",
       "26    Registered nurses                 AB              792.3\n",
       "27           Physicians                 BC              272.2\n",
       "28  Nurse practitioners                 BC               16.0\n",
       "29    Registered nurses                 BC              759.1\n",
       "30           Physicians                 YT              204.6\n",
       "31  Nurse practitioners                 YT               42.2\n",
       "32    Registered nurses                 YT             1447.5\n",
       "33           Physicians                 NT              131.2\n",
       "34  Nurse practitioners                 NT              138.9\n",
       "35    Registered nurses                 NT             1890.4\n",
       "36           Physicians                 NU               71.3\n",
       "37  Nurse practitioners                 NU              138.9\n",
       "38    Registered nurses                 NU             1890.4"
      ]
     },
     "execution_count": 5,
     "metadata": {},
     "output_type": "execute_result"
    }
   ],
   "source": [
    "# Remove special symbols from Count column and recast as floating point number\n",
    "workers[\"Count per 100,000\"] = workers[\"Count per 100,000\"].replace([\"\\u2021\", \",\"], \"\", regex = True).astype(\"float\")\n",
    "workers"
   ]
  },
  {
   "cell_type": "code",
   "execution_count": 6,
   "id": "e1c78184-6e13-40ad-9adb-dd28d3c1136f",
   "metadata": {},
   "outputs": [
    {
     "name": "stdout",
     "output_type": "stream",
     "text": [
      "<class 'pandas.core.frame.DataFrame'>\n",
      "RangeIndex: 39 entries, 0 to 38\n",
      "Data columns (total 3 columns):\n",
      " #   Column              Non-Null Count  Dtype  \n",
      "---  ------              --------------  -----  \n",
      " 0   Type                39 non-null     object \n",
      " 1   Province/Territory  39 non-null     object \n",
      " 2   Count per 100,000   39 non-null     float64\n",
      "dtypes: float64(1), object(2)\n",
      "memory usage: 1.0+ KB\n"
     ]
    }
   ],
   "source": [
    "workers.info()"
   ]
  },
  {
   "cell_type": "code",
   "execution_count": 7,
   "id": "d6c96520-4bad-4f6d-83dc-2f5f195aadc4",
   "metadata": {},
   "outputs": [
    {
     "data": {
      "text/plain": [
       "<Axes: xlabel='Province/Territory', ylabel='Count per 100,000'>"
      ]
     },
     "execution_count": 7,
     "metadata": {},
     "output_type": "execute_result"
    },
    {
     "data": {
      "image/png": "[encoded data removed]",
      "text/plain": [
       "<Figure size 640x480 with 1 Axes>"
      ]
     },
     "metadata": {},
     "output_type": "display_data"
    }
   ],
   "source": [
    "# Create a bar plot of numbers of workers within each province\n",
    "sns.barplot(x = \"Province/Territory\", y = \"Count per 100,000\", hue = \"Type\", \n",
    "            order = [\"BC\", \"AB\", \"SK\", \"MB\", \"ON\", \"QC\", \"NB\", \"NS\", \"PE\", \"NL\", \"YT\", \"NT\", \"NU\"], data = workers)"
   ]
  },
  {
   "cell_type": "code",
   "execution_count": 8,
   "id": "16b86d9f-7b26-4e8d-8764-8440d61e571a",
   "metadata": {},
   "outputs": [
    {
     "name": "stdout",
     "output_type": "stream",
     "text": [
      "<class 'pandas.core.frame.DataFrame'>\n",
      "RangeIndex: 195 entries, 0 to 194\n",
      "Data columns (total 8 columns):\n",
      " #   Column                           Non-Null Count  Dtype  \n",
      "---  ------                           --------------  -----  \n",
      " 0   Type of professional             47 non-null     object \n",
      " 1   Year                             185 non-null    float64\n",
      " 2   Ontario: Count                   185 non-null    object \n",
      " 3   Ontario: Per 100,000 population  185 non-null    object \n",
      " 4   Ontario: Female (%)              185 non-null    object \n",
      " 5   Ontario: Age <30 years (%)       185 non-null    object \n",
      " 6   Ontario: Age 30–59 years (%)     185 non-null    object \n",
      " 7   Ontario: Age 60+ years (%)       185 non-null    object \n",
      "dtypes: float64(1), object(7)\n",
      "memory usage: 12.3+ KB\n"
     ]
    }
   ],
   "source": [
    "# Import data from Ontario to look at long-term trends from 2019-2023\n",
    "workers_ON = pd.read_excel(\"canada_health_workforce.xlsx\", sheet_name = \"Table 7\", skiprows = 1)\n",
    "workers_ON.info()"
   ]
  },
  {
   "cell_type": "code",
   "execution_count": 9,
   "id": "3671f373-830e-4b9c-8f12-90b18bf88ebd",
   "metadata": {},
   "outputs": [
    {
     "name": "stdout",
     "output_type": "stream",
     "text": [
      "<class 'pandas.core.frame.DataFrame'>\n",
      "Index: 15 entries, 115 to 164\n",
      "Data columns (total 6 columns):\n",
      " #   Column             Non-Null Count  Dtype  \n",
      "---  ------             --------------  -----  \n",
      " 0   Type               15 non-null     object \n",
      " 1   Year               15 non-null     int64  \n",
      " 2   Count              15 non-null     float64\n",
      " 3   Younger than 30yo  15 non-null     float64\n",
      " 4   30-59yo            15 non-null     float64\n",
      " 5   Older than 60yo    15 non-null     float64\n",
      "dtypes: float64(4), int64(1), object(1)\n",
      "memory usage: 840.0+ bytes\n"
     ]
    }
   ],
   "source": [
    "# Clean data\n",
    "workers_ON[\"Type of professional\"] = workers_ON[\"Type of professional\"].ffill() # fill NaNs in Type column\n",
    "workers_ON = workers_ON.loc[workers_ON[\"Type of professional\"].isin([\"Physicians\", \"Nurse practitioners\", \"Registered nurses\"])].iloc[:, [0, 1, 2, 5, 6, 7]]\n",
    "workers_ON.columns = [\"Type\", \"Year\", \"Count\", \"Younger than 30yo\", \"30-59yo\", \"Older than 60yo\"]\n",
    "workers_ON = workers_ON.astype({\"Year\": \"int\", \"Count\": \"float\", \"Younger than 30yo\": \"float\",\n",
    "                                \"30-59yo\": \"float\", \"Older than 60yo\": \"float\"})\n",
    "workers_ON.info()"
   ]
  },
  {
   "cell_type": "code",
   "execution_count": 10,
   "id": "5546bcce-2fc4-441b-8186-fee54721ce1f",
   "metadata": {},
   "outputs": [
    {
     "data": {
      "text/plain": [
       "<Axes: xlabel='Year', ylabel='Count'>"
      ]
     },
     "execution_count": 10,
     "metadata": {},
     "output_type": "execute_result"
    },
    {
     "data": {
      "image/png": "[encoded data removed]",
      "text/plain": [
       "<Figure size 640x480 with 1 Axes>"
      ]
     },
     "metadata": {},
     "output_type": "display_data"
    }
   ],
   "source": [
    "# Create bar plot to look at changes in worker type from 2019-2023\n",
    "sns.barplot(x = \"Year\", y = \"Count\", hue = \"Type\", data = workers_ON)"
   ]
  },
  {
   "cell_type": "code",
   "execution_count": 11,
   "id": "fe52ee9e-6e88-4982-833a-5693d7351177",
   "metadata": {},
   "outputs": [
    {
     "data": {
      "text/plain": [
       "<Axes: xlabel='Year', ylabel='Percent'>"
      ]
     },
     "execution_count": 11,
     "metadata": {},
     "output_type": "execute_result"
    },
    {
     "data": {
      "image/png": "[encoded data removed]",
      "text/plain": [
       "<Figure size 640x480 with 1 Axes>"
      ]
     },
     "metadata": {},
     "output_type": "display_data"
    }
   ],
   "source": [
    "# Create bar plot of ages of physicians\n",
    "workers_ON_phys = workers_ON.loc[workers_ON[\"Type\"] == \"Physicians\"]\n",
    "workers_ON_phys = workers_ON_phys[[\"Year\", \"Younger than 30yo\", \"30-59yo\", \"Older than 60yo\"]].melt(\"Year\", \n",
    "                                                                                                    var_name = \"Age (Physicians)\",\n",
    "                                                                                                    value_name = \"Percent\")\n",
    "sns.barplot(x = \"Year\", y = \"Percent\", hue = \"Age (Physicians)\", data = workers_ON_phys)"
   ]
  },
  {
   "cell_type": "code",
   "execution_count": 12,
   "id": "29d8334b-ca71-4234-9b33-8a6ac88f0e26",
   "metadata": {},
   "outputs": [
    {
     "data": {
      "text/plain": [
       "<Axes: xlabel='Year', ylabel='Percent'>"
      ]
     },
     "execution_count": 12,
     "metadata": {},
     "output_type": "execute_result"
    },
    {
     "data": {
      "image/png": "[encoded data removed]",
      "text/plain": [
       "<Figure size 640x480 with 1 Axes>"
      ]
     },
     "metadata": {},
     "output_type": "display_data"
    }
   ],
   "source": [
    "# Create bar plot of ages of nurse practitioners\n",
    "workers_ON_nps = workers_ON.loc[workers_ON[\"Type\"] == \"Nurse practitioners\"]\n",
    "workers_ON_nps = workers_ON_nps[[\"Year\", \"Younger than 30yo\", \"30-59yo\", \"Older than 60yo\"]].melt(\"Year\", \n",
    "                                                                                                    var_name = \"Age (Nurse Practitioners)\",\n",
    "                                                                                                    value_name = \"Percent\")\n",
    "sns.barplot(x = \"Year\", y = \"Percent\", hue = \"Age (Nurse Practitioners)\", data = workers_ON_nps)"
   ]
  },
  {
   "cell_type": "code",
   "execution_count": 13,
   "id": "f4271ef3-f71a-4b85-a488-17481588d55d",
   "metadata": {},
   "outputs": [
    {
     "data": {
      "text/plain": [
       "<Axes: xlabel='Year', ylabel='Percent'>"
      ]
     },
     "execution_count": 13,
     "metadata": {},
     "output_type": "execute_result"
    },
    {
     "data": {
      "image/png": "[encoded data removed]",
      "text/plain": [
       "<Figure size 640x480 with 1 Axes>"
      ]
     },
     "metadata": {},
     "output_type": "display_data"
    }
   ],
   "source": [
    "# Create bar plot of ages of registered nurses\n",
    "workers_ON_rns = workers_ON.loc[workers_ON[\"Type\"] == \"Registered nurses\"]\n",
    "workers_ON_rns = workers_ON_rns[[\"Year\", \"Younger than 30yo\", \"30-59yo\", \"Older than 60yo\"]].melt(\"Year\", \n",
    "                                                                                                    var_name = \"Age (Registered Nurses)\",\n",
    "                                                                                                    value_name = \"Percent\")\n",
    "sns.barplot(x = \"Year\", y = \"Percent\", hue = \"Age (Registered Nurses)\", data = workers_ON_rns)"
   ]
  },
  {
   "cell_type": "code",
   "execution_count": null,
   "id": "26062676-be50-4170-aac9-ada221615646",
   "metadata": {},
   "outputs": [],
   "source": []
  }
 ],
 "metadata": {
  "kernelspec": {
   "display_name": "Python 3 (ipykernel)",
   "language": "python",
   "name": "python3"
  },
  "language_info": {
   "codemirror_mode": {
    "name": "ipython",
    "version": 3
   },
   "file_extension": ".py",
   "mimetype": "text/x-python",
   "name": "python",
   "nbconvert_exporter": "python",
   "pygments_lexer": "ipython3",
   "version": "3.13.2"
  }
 },
 "nbformat": 4,
 "nbformat_minor": 5
}
